{
  "nbformat": 4,
  "nbformat_minor": 0,
  "metadata": {
    "colab": {
      "provenance": [],
      "include_colab_link": true
    },
    "kernelspec": {
      "name": "python3",
      "display_name": "Python 3"
    },
    "language_info": {
      "name": "python"
    }
  },
  "cells": [
    {
      "cell_type": "markdown",
      "metadata": {
        "id": "view-in-github",
        "colab_type": "text"
      },
      "source": [
        "<a href=\"https://colab.research.google.com/github/UrologyUnbound/SIOP_ML_2024_Discord/blob/main/colabs/Empathy.ipynb\" target=\"_parent\"><img src=\"https://colab.research.google.com/assets/colab-badge.svg\" alt=\"Open In Colab\"/></a>"
      ]
    },
    {
      "cell_type": "markdown",
      "source": [
        "# Predicting Empathy Responses Notebook\n",
        "This notebook is designed to tackle the challenge of predicting whether empathy was demonstrated in simulated workplace responses.  \n",
        "\n",
        "# Challenge Description\n",
        "\n",
        "Job candidates were asked to provide empathetic responses to a workplace situation. Our task is to classify whether empathy was demonstrated or not in each simulated response."
      ],
      "metadata": {
        "id": "2WLIOUiB_g36"
      }
    },
    {
      "cell_type": "code",
      "source": [
        "!pip install pandas langchain langchain_openai"
      ],
      "metadata": {
        "id": "xw1Dw6wlyRar"
      },
      "execution_count": null,
      "outputs": []
    },
    {
      "cell_type": "code",
      "execution_count": 5,
      "metadata": {
        "id": "0Ea-ID_ofDB0"
      },
      "outputs": [],
      "source": [
        "import pandas as pd\n",
        "import os\n",
        "from langchain import FewShotPromptTemplate, PromptTemplate\n",
        "from langchain_openai import ChatOpenAI\n",
        "from google.colab import userdata"
      ]
    },
    {
      "cell_type": "code",
      "source": [
        "empathy_train_data = pd.read_csv(\"https://raw.githubusercontent.com/UrologyUnbound/SIOP_ML_2024_Discord/main/data/train/empathy_train.csv\")\n",
        "empathy_dev_data = pd.read_csv(\"https://raw.githubusercontent.com/UrologyUnbound/SIOP_ML_2024_Discord/main/data/dev/empathy_val_public.csv\")"
      ],
      "metadata": {
        "id": "BQbL6hQ3yNtg"
      },
      "execution_count": 4,
      "outputs": []
    },
    {
      "cell_type": "code",
      "source": [
        "# Manually add env key to the `api_key` argument\n",
        "llm = ChatOpenAI(api_key= userdata.get('OPENAI_API_KEY'), temperature=0.3)"
      ],
      "metadata": {
        "id": "osUgd4NIyewq"
      },
      "execution_count": 6,
      "outputs": []
    },
    {
      "cell_type": "code",
      "source": [
        "instructions = \"\"\"\n",
        "Your task is to classify the provided text as either \"Empathetic\" or \"Non-empathetic\".\n",
        "Empathetic Responses involve understanding, supportiveness, and active engagement. Understanding is demonstrated by showing comprehension\n",
        "of the individual's feelings and perspective. Supportiveness entails offering genuine support, guidance, or constructive feedback while\n",
        "respecting the individual's contributions and feelings. Active engagement is displayed through asking questions or suggesting actions that\n",
        "actively engage with the individual's situation. Non-Empathetic Responses lack empathetic qualities. They may lack personalization, offering\n",
        "generic advice or feedback without addressing the individual's specific feelings or situation. Dismissiveness occurs when the individual's\n",
        "feelings, concerns, or contributions are downplayed or ignored. Superficiality refers to appearing empathetic on the surface but lacking depth\n",
        "in understanding or supporting the individual's actual needs.\n",
        "\"\"\""
      ],
      "metadata": {
        "id": "KHp0a67HyiSP"
      },
      "execution_count": 7,
      "outputs": []
    },
    {
      "cell_type": "code",
      "source": [
        "def extract_examples_empathy(dataset_row):\n",
        "    # Extract response and empathy from each row of the dataset\n",
        "    response = dataset_row[\"text\"]\n",
        "    empathy = dataset_row[\"empathy\"]\n",
        "\n",
        "    return [{\"response\": response, \"empathy\": empathy}]\n",
        "\n",
        "def create_examples_empathy(dataset):\n",
        "    # Extract examples from the first three rows of the dataset\n",
        "    examples = []\n",
        "    for i in range(3):\n",
        "        examples.extend(extract_examples_empathy(dataset.loc[i]))\n",
        "\n",
        "    return examples\n",
        "\n",
        "def create_example_prompt_empathy():\n",
        "    # Create a formatter for the examples\n",
        "    example_prompt = PromptTemplate(\n",
        "        input_variables=[\"response\", \"empathy\"],\n",
        "        template=\"Response: {response}\\nEmpathy: {empathy}\"\n",
        "    )\n",
        "\n",
        "    return example_prompt\n",
        "\n",
        "def create_template_empathy(dataset):\n",
        "    # Generate a few shot prompt template\n",
        "\n",
        "    examples = create_examples_empathy(dataset)\n",
        "    template = FewShotPromptTemplate(\n",
        "        prefix = instructions,\n",
        "        examples=examples,\n",
        "        example_prompt=create_example_prompt_empathy(),\n",
        "        suffix=\"Response: {input}\",\n",
        "        input_variables=[\"input\"],\n",
        "    )\n",
        "\n",
        "    return template"
      ],
      "metadata": {
        "id": "08SLfCQVy11W"
      },
      "execution_count": 8,
      "outputs": []
    },
    {
      "cell_type": "code",
      "source": [
        "example_prompt = create_template_empathy(empathy_train_data).format(input=empathy_dev_data[\"text\"][0])\n",
        "example_prompt"
      ],
      "metadata": {
        "colab": {
          "base_uri": "https://localhost:8080/",
          "height": 146
        },
        "id": "uJxee0Phy7M4",
        "outputId": "b5ffc086-a797-4ff7-b6b7-7a6be5f850e6"
      },
      "execution_count": 9,
      "outputs": [
        {
          "output_type": "execute_result",
          "data": {
            "text/plain": [
              "'\\nYour task is to classify the provided text as either \"Empathetic\" or \"Non-empathetic\". \\nEmpathetic Responses involve understanding, supportiveness, and active engagement. Understanding is demonstrated by showing comprehension \\nof the individual\\'s feelings and perspective. Supportiveness entails offering genuine support, guidance, or constructive feedback while \\nrespecting the individual\\'s contributions and feelings. Active engagement is displayed through asking questions or suggesting actions that \\nactively engage with the individual\\'s situation. Non-Empathetic Responses lack empathetic qualities. They may lack personalization, offering \\ngeneric advice or feedback without addressing the individual\\'s specific feelings or situation. Dismissiveness occurs when the individual\\'s \\nfeelings, concerns, or contributions are downplayed or ignored. Superficiality refers to appearing empathetic on the surface but lacking depth \\nin understanding or supporting the individual\\'s actual needs.\\n\\n\\nResponse: Hi Jonathan, I hope this message finds you well. I hear things are going well with the Beta project. That said, Terry mentioned that there were some issues with the reports. From what I understand, they would like them to be more concise and straight to the point, as well as more business focused. I recommend you reach out to Terry so you both could review in detail one of the reports he submits. This should help you help you align to their expectations. Additionally, i\\'d be happy to review the reports before you send them off to Terry and provide my feedback. I know this  project is important to you, so please let me know how this meeting goes and how else I can help. Regards, William\\nEmpathy: 1\\n\\nResponse: Jonathan, I hope you are well - I am very excited that you are part of this development team and really appreciate all the support you give to us; while doing this some comments have arise that can be  opportunity areas to improve your work and get this program ahead.1. The communication between team members is not clear and improvements can be done to this: by this I mean to connect more with other team members before submitting your reports.2. One of the reasons you were chosen is because of your enthusiastic attitude and knowledge, but too much information sometimes can harm the delivery reports that needs to be concise and business oriented. 3.Please forward me your latest report so we can discuss it furthermore when I come back and see what can be improve and we can work from there.4. Please don\\'t be discourage, these are opportunity areas that we can engage and as always keep up the good work. Have a great week. Thanks\\nEmpathy: 1\\n\\nResponse: Hi Jonathan, Good to hear you are enjoying the work. I would like to discuss with you feedback on your assignment and the reports you are producing. It is very important to understand the stakeholders who will be reading your report. You may have gathered a lot of good information BUT do not put them all on your reports. The report should state facts and not your opinions. Create reports for the purpose and for the audience. I would also suggest that you reach out to Terry to understand what information is needed on the reports you produce.Having said that, the additional insights you gathered are very important too. Please add them to our knowledge repository and share with the team. It will be a great sharing and learning experience. You are very valuable in your knowledge and I think that it would benefit you and the organization tremendously when you are to channelize your insights and present the facts well. I would encourage you to enroll for the business writing training course. Please choose a date from the learning calendar and let me know. Regards, William\\nEmpathy: 1\\n\\nResponse: Hi Jonathan, I wanted to reach out to thank you for all of your work on the Beta project! It sounds like you are working well with the team and doing a great job of identifying some needed improvements! Today, I would like to discuss your reports. I\\'ve looked over the last few and identified a couple of areas of improvement, specifically around the extra commentary that was included and the accuracy/organization. The Beta project is extremely important and if it fails, many of us could lose our jobs. For that reason, I would like for you to collaborate with Terry when creating your reports so that we can ensure that they are in line with what is expected. I know that this is a new project for you and I\\'m sure you are excited, but also a little overwhelmed. Terry will help support you through this learning curve and you will be up to speed in no time. Can you give me your commitment that you will work through this with him? Thank you for your support, William'"
            ],
            "application/vnd.google.colaboratory.intrinsic+json": {
              "type": "string"
            }
          },
          "metadata": {},
          "execution_count": 9
        }
      ]
    },
    {
      "cell_type": "code",
      "source": [
        "llm.invoke(example_prompt)"
      ],
      "metadata": {
        "colab": {
          "base_uri": "https://localhost:8080/"
        },
        "id": "xAtML3ezy_PR",
        "outputId": "cbed1b01-4b30-4930-bfdc-cec3f6210195"
      },
      "execution_count": 10,
      "outputs": [
        {
          "output_type": "execute_result",
          "data": {
            "text/plain": [
              "AIMessage(content='Empathy: 1', response_metadata={'token_usage': {'completion_tokens': 5, 'prompt_tokens': 949, 'total_tokens': 954}, 'model_name': 'gpt-3.5-turbo', 'system_fingerprint': 'fp_3bc1b5746c', 'finish_reason': 'stop', 'logprobs': None})"
            ]
          },
          "metadata": {},
          "execution_count": 10
        }
      ]
    }
  ]
}