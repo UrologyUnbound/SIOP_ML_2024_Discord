{
  "nbformat": 4,
  "nbformat_minor": 0,
  "metadata": {
    "colab": {
      "provenance": [],
      "authorship_tag": "ABX9TyOxUTTfL3+NS1eCixuLbOK6",
      "include_colab_link": true
    },
    "kernelspec": {
      "name": "python3",
      "display_name": "Python 3"
    },
    "language_info": {
      "name": "python"
    }
  },
  "cells": [
    {
      "cell_type": "markdown",
      "metadata": {
        "id": "view-in-github",
        "colab_type": "text"
      },
      "source": [
        "<a href=\"https://colab.research.google.com/github/UrologyUnbound/SIOP_ML_2024_Discord/blob/main/colabs/Tune_Empathy.ipynb\" target=\"_parent\"><img src=\"https://colab.research.google.com/assets/colab-badge.svg\" alt=\"Open In Colab\"/></a>"
      ]
    },
    {
      "cell_type": "markdown",
      "source": [
        "# Empathy Classification Model Fine Tuning\n",
        "\n",
        "The goal of this notebook is to fine tune the OpenAI GPT 3.5 model to be able to correctly identify wheater a set of text is considered empathetic or not."
      ],
      "metadata": {
        "id": "vGCbakCrEPvQ"
      }
    },
    {
      "cell_type": "markdown",
      "source": [
        "## Inputs and Setup"
      ],
      "metadata": {
        "id": "RtkAbc8uF3i6"
      }
    },
    {
      "cell_type": "code",
      "source": [
        "!pip install --upgrade tiktoken"
      ],
      "metadata": {
        "id": "NHKf_hXSN85p",
        "outputId": "6398b14e-06fd-4991-9ac5-da5ef8ff4c79",
        "colab": {
          "base_uri": "https://localhost:8080/"
        }
      },
      "execution_count": 9,
      "outputs": [
        {
          "output_type": "stream",
          "name": "stdout",
          "text": [
            "Collecting tiktoken\n",
            "  Downloading tiktoken-0.6.0-cp310-cp310-manylinux_2_17_x86_64.manylinux2014_x86_64.whl (1.8 MB)\n",
            "\u001b[2K     \u001b[90m━━━━━━━━━━━━━━━━━━━━━━━━━━━━━━━━━━━━━━━━\u001b[0m \u001b[32m1.8/1.8 MB\u001b[0m \u001b[31m25.7 MB/s\u001b[0m eta \u001b[36m0:00:00\u001b[0m\n",
            "\u001b[?25hRequirement already satisfied: regex>=2022.1.18 in /usr/local/lib/python3.10/dist-packages (from tiktoken) (2023.12.25)\n",
            "Requirement already satisfied: requests>=2.26.0 in /usr/local/lib/python3.10/dist-packages (from tiktoken) (2.31.0)\n",
            "Requirement already satisfied: charset-normalizer<4,>=2 in /usr/local/lib/python3.10/dist-packages (from requests>=2.26.0->tiktoken) (3.3.2)\n",
            "Requirement already satisfied: idna<4,>=2.5 in /usr/local/lib/python3.10/dist-packages (from requests>=2.26.0->tiktoken) (3.6)\n",
            "Requirement already satisfied: urllib3<3,>=1.21.1 in /usr/local/lib/python3.10/dist-packages (from requests>=2.26.0->tiktoken) (2.0.7)\n",
            "Requirement already satisfied: certifi>=2017.4.17 in /usr/local/lib/python3.10/dist-packages (from requests>=2.26.0->tiktoken) (2024.2.2)\n",
            "Installing collected packages: tiktoken\n",
            "Successfully installed tiktoken-0.6.0\n"
          ]
        }
      ]
    },
    {
      "cell_type": "code",
      "execution_count": 1,
      "metadata": {
        "id": "-8RyST3xBCRi",
        "outputId": "63ac45d3-8348-4507-a607-6e47ae65d850",
        "colab": {
          "base_uri": "https://localhost:8080/"
        }
      },
      "outputs": [
        {
          "output_type": "stream",
          "name": "stdout",
          "text": [
            "Collecting openai\n",
            "  Downloading openai-1.14.3-py3-none-any.whl (262 kB)\n",
            "\u001b[?25l     \u001b[90m━━━━━━━━━━━━━━━━━━━━━━━━━━━━━━━━━━━━━━━━\u001b[0m \u001b[32m0.0/262.9 kB\u001b[0m \u001b[31m?\u001b[0m eta \u001b[36m-:--:--\u001b[0m\r\u001b[2K     \u001b[91m━━━━━━━━━━━━━━━━━━━━━━━━━━━━━\u001b[0m\u001b[91m╸\u001b[0m\u001b[90m━━━━━━━━━━\u001b[0m \u001b[32m194.6/262.9 kB\u001b[0m \u001b[31m5.7 MB/s\u001b[0m eta \u001b[36m0:00:01\u001b[0m\r\u001b[2K     \u001b[90m━━━━━━━━━━━━━━━━━━━━━━━━━━━━━━━━━━━━━━━━\u001b[0m \u001b[32m262.9/262.9 kB\u001b[0m \u001b[31m5.4 MB/s\u001b[0m eta \u001b[36m0:00:00\u001b[0m\n",
            "\u001b[?25hRequirement already satisfied: anyio<5,>=3.5.0 in /usr/local/lib/python3.10/dist-packages (from openai) (3.7.1)\n",
            "Requirement already satisfied: distro<2,>=1.7.0 in /usr/lib/python3/dist-packages (from openai) (1.7.0)\n",
            "Collecting httpx<1,>=0.23.0 (from openai)\n",
            "  Downloading httpx-0.27.0-py3-none-any.whl (75 kB)\n",
            "\u001b[2K     \u001b[90m━━━━━━━━━━━━━━━━━━━━━━━━━━━━━━━━━━━━━━━━\u001b[0m \u001b[32m75.6/75.6 kB\u001b[0m \u001b[31m8.0 MB/s\u001b[0m eta \u001b[36m0:00:00\u001b[0m\n",
            "\u001b[?25hRequirement already satisfied: pydantic<3,>=1.9.0 in /usr/local/lib/python3.10/dist-packages (from openai) (2.6.4)\n",
            "Requirement already satisfied: sniffio in /usr/local/lib/python3.10/dist-packages (from openai) (1.3.1)\n",
            "Requirement already satisfied: tqdm>4 in /usr/local/lib/python3.10/dist-packages (from openai) (4.66.2)\n",
            "Requirement already satisfied: typing-extensions<5,>=4.7 in /usr/local/lib/python3.10/dist-packages (from openai) (4.10.0)\n",
            "Requirement already satisfied: idna>=2.8 in /usr/local/lib/python3.10/dist-packages (from anyio<5,>=3.5.0->openai) (3.6)\n",
            "Requirement already satisfied: exceptiongroup in /usr/local/lib/python3.10/dist-packages (from anyio<5,>=3.5.0->openai) (1.2.0)\n",
            "Requirement already satisfied: certifi in /usr/local/lib/python3.10/dist-packages (from httpx<1,>=0.23.0->openai) (2024.2.2)\n",
            "Collecting httpcore==1.* (from httpx<1,>=0.23.0->openai)\n",
            "  Downloading httpcore-1.0.4-py3-none-any.whl (77 kB)\n",
            "\u001b[2K     \u001b[90m━━━━━━━━━━━━━━━━━━━━━━━━━━━━━━━━━━━━━━━━\u001b[0m \u001b[32m77.8/77.8 kB\u001b[0m \u001b[31m10.1 MB/s\u001b[0m eta \u001b[36m0:00:00\u001b[0m\n",
            "\u001b[?25hCollecting h11<0.15,>=0.13 (from httpcore==1.*->httpx<1,>=0.23.0->openai)\n",
            "  Downloading h11-0.14.0-py3-none-any.whl (58 kB)\n",
            "\u001b[2K     \u001b[90m━━━━━━━━━━━━━━━━━━━━━━━━━━━━━━━━━━━━━━━━\u001b[0m \u001b[32m58.3/58.3 kB\u001b[0m \u001b[31m7.4 MB/s\u001b[0m eta \u001b[36m0:00:00\u001b[0m\n",
            "\u001b[?25hRequirement already satisfied: annotated-types>=0.4.0 in /usr/local/lib/python3.10/dist-packages (from pydantic<3,>=1.9.0->openai) (0.6.0)\n",
            "Requirement already satisfied: pydantic-core==2.16.3 in /usr/local/lib/python3.10/dist-packages (from pydantic<3,>=1.9.0->openai) (2.16.3)\n",
            "Installing collected packages: h11, httpcore, httpx, openai\n",
            "Successfully installed h11-0.14.0 httpcore-1.0.4 httpx-0.27.0 openai-1.14.3\n"
          ]
        }
      ],
      "source": [
        "!pip install --upgrade openai"
      ]
    },
    {
      "cell_type": "code",
      "source": [
        "import json\n",
        "import openai\n",
        "import os\n",
        "import pandas as pd\n",
        "from pprint import pprint\n",
        "import tiktoken\n",
        "from sklearn.model_selection import train_test_split\n",
        "from google.colab import userdata\n",
        "import numpy as np\n",
        "from collections import defaultdict\n",
        "\n",
        "client = openai.OpenAI(api_key=userdata.get('OPENAI_API_KEY'))\n",
        "encoding = tiktoken.get_encoding(\"cl100k_base\")"
      ],
      "metadata": {
        "id": "dhCfpbtlGAHM"
      },
      "execution_count": 41,
      "outputs": []
    },
    {
      "cell_type": "code",
      "source": [
        "#Estimated token counter\n",
        "def num_tokens_from_messages(messages, tokens_per_message=3, tokens_per_name=1):\n",
        "    num_tokens = 0\n",
        "    for message in messages:\n",
        "        num_tokens += tokens_per_message\n",
        "        for key, value in message.items():\n",
        "            num_tokens += len(encoding.encode(value))\n",
        "            if key == \"name\":\n",
        "                num_tokens += tokens_per_name\n",
        "    num_tokens += 3\n",
        "    return num_tokens\n",
        "\n",
        "def num_assistant_tokens_from_messages(messages):\n",
        "    num_tokens = 0\n",
        "    for message in messages:\n",
        "        if message[\"role\"] == \"assistant\":\n",
        "            num_tokens += len(encoding.encode(message[\"content\"]))\n",
        "    return num_tokens\n",
        "\n",
        "def print_distribution(values, name):\n",
        "    print(f\"\\n#### Distribution of {name}:\")\n",
        "    print(f\"min / max: {min(values)}, {max(values)}\")\n",
        "    print(f\"mean / median: {np.mean(values)}, {np.median(values)}\")\n",
        "    print(f\"p5 / p95: {np.quantile(values, 0.1)}, {np.quantile(values, 0.9)}\")"
      ],
      "metadata": {
        "id": "oEqFleTLfyLO"
      },
      "execution_count": 42,
      "outputs": []
    },
    {
      "cell_type": "markdown",
      "source": [
        "## Data Import and Prep"
      ],
      "metadata": {
        "id": "HMhy7lRJN_et"
      }
    },
    {
      "cell_type": "code",
      "source": [
        "df_empathy = pd.read_csv(\"https://raw.githubusercontent.com/UrologyUnbound/SIOP_ML_2024_Discord/main/data/train/empathy_train.csv\")\n",
        "df_empathy.empathy = df_empathy.empathy.astype(str)\n",
        "df_empathy.head()"
      ],
      "metadata": {
        "id": "G8akfGHiGXCU",
        "outputId": "66b4a353-9abe-4d06-aa58-eab43010e3fe",
        "colab": {
          "base_uri": "https://localhost:8080/",
          "height": 206
        }
      },
      "execution_count": 21,
      "outputs": [
        {
          "output_type": "execute_result",
          "data": {
            "text/plain": [
              "   _id                                               text empathy\n",
              "0  116  Hi Jonathan, I hope this message finds you wel...       1\n",
              "1   54  Jonathan, I hope you are well - I am very exci...       1\n",
              "2    1  Hi Jonathan, Good to hear you are enjoying the...       1\n",
              "3  130  Jonathan, First I want to thank you for your h...       0\n",
              "4  114  Hey Jonathan! I've been in touch with Terry, I...       1"
            ],
            "text/html": [
              "\n",
              "  <div id=\"df-fc11fa5d-c43a-4bae-a078-a077760bea11\" class=\"colab-df-container\">\n",
              "    <div>\n",
              "<style scoped>\n",
              "    .dataframe tbody tr th:only-of-type {\n",
              "        vertical-align: middle;\n",
              "    }\n",
              "\n",
              "    .dataframe tbody tr th {\n",
              "        vertical-align: top;\n",
              "    }\n",
              "\n",
              "    .dataframe thead th {\n",
              "        text-align: right;\n",
              "    }\n",
              "</style>\n",
              "<table border=\"1\" class=\"dataframe\">\n",
              "  <thead>\n",
              "    <tr style=\"text-align: right;\">\n",
              "      <th></th>\n",
              "      <th>_id</th>\n",
              "      <th>text</th>\n",
              "      <th>empathy</th>\n",
              "    </tr>\n",
              "  </thead>\n",
              "  <tbody>\n",
              "    <tr>\n",
              "      <th>0</th>\n",
              "      <td>116</td>\n",
              "      <td>Hi Jonathan, I hope this message finds you wel...</td>\n",
              "      <td>1</td>\n",
              "    </tr>\n",
              "    <tr>\n",
              "      <th>1</th>\n",
              "      <td>54</td>\n",
              "      <td>Jonathan, I hope you are well - I am very exci...</td>\n",
              "      <td>1</td>\n",
              "    </tr>\n",
              "    <tr>\n",
              "      <th>2</th>\n",
              "      <td>1</td>\n",
              "      <td>Hi Jonathan, Good to hear you are enjoying the...</td>\n",
              "      <td>1</td>\n",
              "    </tr>\n",
              "    <tr>\n",
              "      <th>3</th>\n",
              "      <td>130</td>\n",
              "      <td>Jonathan, First I want to thank you for your h...</td>\n",
              "      <td>0</td>\n",
              "    </tr>\n",
              "    <tr>\n",
              "      <th>4</th>\n",
              "      <td>114</td>\n",
              "      <td>Hey Jonathan! I've been in touch with Terry, I...</td>\n",
              "      <td>1</td>\n",
              "    </tr>\n",
              "  </tbody>\n",
              "</table>\n",
              "</div>\n",
              "    <div class=\"colab-df-buttons\">\n",
              "\n",
              "  <div class=\"colab-df-container\">\n",
              "    <button class=\"colab-df-convert\" onclick=\"convertToInteractive('df-fc11fa5d-c43a-4bae-a078-a077760bea11')\"\n",
              "            title=\"Convert this dataframe to an interactive table.\"\n",
              "            style=\"display:none;\">\n",
              "\n",
              "  <svg xmlns=\"http://www.w3.org/2000/svg\" height=\"24px\" viewBox=\"0 -960 960 960\">\n",
              "    <path d=\"M120-120v-720h720v720H120Zm60-500h600v-160H180v160Zm220 220h160v-160H400v160Zm0 220h160v-160H400v160ZM180-400h160v-160H180v160Zm440 0h160v-160H620v160ZM180-180h160v-160H180v160Zm440 0h160v-160H620v160Z\"/>\n",
              "  </svg>\n",
              "    </button>\n",
              "\n",
              "  <style>\n",
              "    .colab-df-container {\n",
              "      display:flex;\n",
              "      gap: 12px;\n",
              "    }\n",
              "\n",
              "    .colab-df-convert {\n",
              "      background-color: #E8F0FE;\n",
              "      border: none;\n",
              "      border-radius: 50%;\n",
              "      cursor: pointer;\n",
              "      display: none;\n",
              "      fill: #1967D2;\n",
              "      height: 32px;\n",
              "      padding: 0 0 0 0;\n",
              "      width: 32px;\n",
              "    }\n",
              "\n",
              "    .colab-df-convert:hover {\n",
              "      background-color: #E2EBFA;\n",
              "      box-shadow: 0px 1px 2px rgba(60, 64, 67, 0.3), 0px 1px 3px 1px rgba(60, 64, 67, 0.15);\n",
              "      fill: #174EA6;\n",
              "    }\n",
              "\n",
              "    .colab-df-buttons div {\n",
              "      margin-bottom: 4px;\n",
              "    }\n",
              "\n",
              "    [theme=dark] .colab-df-convert {\n",
              "      background-color: #3B4455;\n",
              "      fill: #D2E3FC;\n",
              "    }\n",
              "\n",
              "    [theme=dark] .colab-df-convert:hover {\n",
              "      background-color: #434B5C;\n",
              "      box-shadow: 0px 1px 3px 1px rgba(0, 0, 0, 0.15);\n",
              "      filter: drop-shadow(0px 1px 2px rgba(0, 0, 0, 0.3));\n",
              "      fill: #FFFFFF;\n",
              "    }\n",
              "  </style>\n",
              "\n",
              "    <script>\n",
              "      const buttonEl =\n",
              "        document.querySelector('#df-fc11fa5d-c43a-4bae-a078-a077760bea11 button.colab-df-convert');\n",
              "      buttonEl.style.display =\n",
              "        google.colab.kernel.accessAllowed ? 'block' : 'none';\n",
              "\n",
              "      async function convertToInteractive(key) {\n",
              "        const element = document.querySelector('#df-fc11fa5d-c43a-4bae-a078-a077760bea11');\n",
              "        const dataTable =\n",
              "          await google.colab.kernel.invokeFunction('convertToInteractive',\n",
              "                                                    [key], {});\n",
              "        if (!dataTable) return;\n",
              "\n",
              "        const docLinkHtml = 'Like what you see? Visit the ' +\n",
              "          '<a target=\"_blank\" href=https://colab.research.google.com/notebooks/data_table.ipynb>data table notebook</a>'\n",
              "          + ' to learn more about interactive tables.';\n",
              "        element.innerHTML = '';\n",
              "        dataTable['output_type'] = 'display_data';\n",
              "        await google.colab.output.renderOutput(dataTable, element);\n",
              "        const docLink = document.createElement('div');\n",
              "        docLink.innerHTML = docLinkHtml;\n",
              "        element.appendChild(docLink);\n",
              "      }\n",
              "    </script>\n",
              "  </div>\n",
              "\n",
              "\n",
              "<div id=\"df-b0ae080a-5d08-4c73-8e3b-5e0eb219cb61\">\n",
              "  <button class=\"colab-df-quickchart\" onclick=\"quickchart('df-b0ae080a-5d08-4c73-8e3b-5e0eb219cb61')\"\n",
              "            title=\"Suggest charts\"\n",
              "            style=\"display:none;\">\n",
              "\n",
              "<svg xmlns=\"http://www.w3.org/2000/svg\" height=\"24px\"viewBox=\"0 0 24 24\"\n",
              "     width=\"24px\">\n",
              "    <g>\n",
              "        <path d=\"M19 3H5c-1.1 0-2 .9-2 2v14c0 1.1.9 2 2 2h14c1.1 0 2-.9 2-2V5c0-1.1-.9-2-2-2zM9 17H7v-7h2v7zm4 0h-2V7h2v10zm4 0h-2v-4h2v4z\"/>\n",
              "    </g>\n",
              "</svg>\n",
              "  </button>\n",
              "\n",
              "<style>\n",
              "  .colab-df-quickchart {\n",
              "      --bg-color: #E8F0FE;\n",
              "      --fill-color: #1967D2;\n",
              "      --hover-bg-color: #E2EBFA;\n",
              "      --hover-fill-color: #174EA6;\n",
              "      --disabled-fill-color: #AAA;\n",
              "      --disabled-bg-color: #DDD;\n",
              "  }\n",
              "\n",
              "  [theme=dark] .colab-df-quickchart {\n",
              "      --bg-color: #3B4455;\n",
              "      --fill-color: #D2E3FC;\n",
              "      --hover-bg-color: #434B5C;\n",
              "      --hover-fill-color: #FFFFFF;\n",
              "      --disabled-bg-color: #3B4455;\n",
              "      --disabled-fill-color: #666;\n",
              "  }\n",
              "\n",
              "  .colab-df-quickchart {\n",
              "    background-color: var(--bg-color);\n",
              "    border: none;\n",
              "    border-radius: 50%;\n",
              "    cursor: pointer;\n",
              "    display: none;\n",
              "    fill: var(--fill-color);\n",
              "    height: 32px;\n",
              "    padding: 0;\n",
              "    width: 32px;\n",
              "  }\n",
              "\n",
              "  .colab-df-quickchart:hover {\n",
              "    background-color: var(--hover-bg-color);\n",
              "    box-shadow: 0 1px 2px rgba(60, 64, 67, 0.3), 0 1px 3px 1px rgba(60, 64, 67, 0.15);\n",
              "    fill: var(--button-hover-fill-color);\n",
              "  }\n",
              "\n",
              "  .colab-df-quickchart-complete:disabled,\n",
              "  .colab-df-quickchart-complete:disabled:hover {\n",
              "    background-color: var(--disabled-bg-color);\n",
              "    fill: var(--disabled-fill-color);\n",
              "    box-shadow: none;\n",
              "  }\n",
              "\n",
              "  .colab-df-spinner {\n",
              "    border: 2px solid var(--fill-color);\n",
              "    border-color: transparent;\n",
              "    border-bottom-color: var(--fill-color);\n",
              "    animation:\n",
              "      spin 1s steps(1) infinite;\n",
              "  }\n",
              "\n",
              "  @keyframes spin {\n",
              "    0% {\n",
              "      border-color: transparent;\n",
              "      border-bottom-color: var(--fill-color);\n",
              "      border-left-color: var(--fill-color);\n",
              "    }\n",
              "    20% {\n",
              "      border-color: transparent;\n",
              "      border-left-color: var(--fill-color);\n",
              "      border-top-color: var(--fill-color);\n",
              "    }\n",
              "    30% {\n",
              "      border-color: transparent;\n",
              "      border-left-color: var(--fill-color);\n",
              "      border-top-color: var(--fill-color);\n",
              "      border-right-color: var(--fill-color);\n",
              "    }\n",
              "    40% {\n",
              "      border-color: transparent;\n",
              "      border-right-color: var(--fill-color);\n",
              "      border-top-color: var(--fill-color);\n",
              "    }\n",
              "    60% {\n",
              "      border-color: transparent;\n",
              "      border-right-color: var(--fill-color);\n",
              "    }\n",
              "    80% {\n",
              "      border-color: transparent;\n",
              "      border-right-color: var(--fill-color);\n",
              "      border-bottom-color: var(--fill-color);\n",
              "    }\n",
              "    90% {\n",
              "      border-color: transparent;\n",
              "      border-bottom-color: var(--fill-color);\n",
              "    }\n",
              "  }\n",
              "</style>\n",
              "\n",
              "  <script>\n",
              "    async function quickchart(key) {\n",
              "      const quickchartButtonEl =\n",
              "        document.querySelector('#' + key + ' button');\n",
              "      quickchartButtonEl.disabled = true;  // To prevent multiple clicks.\n",
              "      quickchartButtonEl.classList.add('colab-df-spinner');\n",
              "      try {\n",
              "        const charts = await google.colab.kernel.invokeFunction(\n",
              "            'suggestCharts', [key], {});\n",
              "      } catch (error) {\n",
              "        console.error('Error during call to suggestCharts:', error);\n",
              "      }\n",
              "      quickchartButtonEl.classList.remove('colab-df-spinner');\n",
              "      quickchartButtonEl.classList.add('colab-df-quickchart-complete');\n",
              "    }\n",
              "    (() => {\n",
              "      let quickchartButtonEl =\n",
              "        document.querySelector('#df-b0ae080a-5d08-4c73-8e3b-5e0eb219cb61 button');\n",
              "      quickchartButtonEl.style.display =\n",
              "        google.colab.kernel.accessAllowed ? 'block' : 'none';\n",
              "    })();\n",
              "  </script>\n",
              "</div>\n",
              "\n",
              "    </div>\n",
              "  </div>\n"
            ],
            "application/vnd.google.colaboratory.intrinsic+json": {
              "type": "dataframe",
              "variable_name": "df_empathy",
              "summary": "{\n  \"name\": \"df_empathy\",\n  \"rows\": 30,\n  \"fields\": [\n    {\n      \"column\": \"_id\",\n      \"properties\": {\n        \"dtype\": \"number\",\n        \"std\": 54,\n        \"min\": 1,\n        \"max\": 192,\n        \"num_unique_values\": 30,\n        \"samples\": [\n          153,\n          73,\n          13\n        ],\n        \"semantic_type\": \"\",\n        \"description\": \"\"\n      }\n    },\n    {\n      \"column\": \"text\",\n      \"properties\": {\n        \"dtype\": \"string\",\n        \"num_unique_values\": 30,\n        \"samples\": [\n          \"Hi Jonathan, I am glad to hear that you are enjoying your job,  traveling and learning more about the Beta ray technology. I wanted to share some feedback with you that I received. I want to help you be able to advance in your career and I feel that this feedback will be helpful. I am excited that you are will to share your perspectives on the findings, however if you could focus on the data portion first, and highlight the main points, that would be really beneficial to your audience. By being more concise it will allow the potential customers and then CEO to focus on the facts of the report, which will allow them to make a decision for themselves. I understand that this is probably a newer to writing the reports, and I don't think that anyone has shown you an example of how the reports are usually written, so I have sent you some examples for you to review. I think that you are doing a good job learning and with this little tweak in the report writing you will be able to advance in your career. In order to help you, if you don't mind, I would like to review the report before you submit it and then we can work together to ensure it will be a great report. I understand that you really enjoy providing your perspectives on the technology and recommendations on how it can be used, so we will find a spot for that in the report as well, but perhaps in a different section. Thank you so much for your time today and I look forward to working with you. \",\n          \"Hi Jonathan, I hope you're having safe travels along your way. I'm reaching out to you because you are a valued employee, and we appreciate your hard work and research. While I understand you are passionate about these projects, it is imperative that you keep your reports concise, seeing as we are all continuously on a time crunch. Because these reports are not written as efficiently as possible, it is taking too much of our time to read and determine which bit of information is most valuable. I need you to shift the way you are writing these reports so that way we can maximize our work flow processes. We love having you on our team, but if you can not make these necessary changes, we may have to relocate your skill set to a different department. However, I am positive you can make these minor changes in the way you create your reports. Please research the formal way to write reports so that way you no longer add too much information. These reports should have less opinions, and more facts. I will also send some material for you to review on how to keep these reports business friendly. I love your passion and your drive, I am hoping we can continue to have you on this project. A few minor changes will be all it takes to get the ball rolling in the right direction! If you have any concerns, feel free to reach out to me and I will be more than happy to assist. Thank you, William\",\n          \"Dear Jonathan, I am writing to find out how things are going on the Beta project. I understand that you are enjoying the role and finding new applications.I have had some feedback from Terry confirming that you are doing well but there are some improvement points that I would like to discuss with you. It has been noted that your contributions are providing real value and they enjoy working with you, however, some of this value is spoiled by a conversational tone and being a bit verbose. In business correspondence it is essential that the facts are clear, concise and distinguishable from opinion, otherwise the message may be lost (regardless of how good it is).There are a number of significant reports required in the coming weeks. Please could you ensure that you confirm with Terry the exact detail and format required for specific reports and communication. He should be able to provide templates and guidance to ensure that his requirements are met. I would also recommend that you undertake a report-writing course, which should help you to ensure that you convey your great ideas in the best possible way.I am keen to support you to ensure the success of the project and your professional development. When I return in 2 weeks I would like to have a conference call with you and Terry to better understand how we can help you going forward.  Please could you respond to confirm that you have received this email. Regards, William\"\n        ],\n        \"semantic_type\": \"\",\n        \"description\": \"\"\n      }\n    },\n    {\n      \"column\": \"empathy\",\n      \"properties\": {\n        \"dtype\": \"category\",\n        \"num_unique_values\": 2,\n        \"samples\": [\n          \"0\",\n          \"1\"\n        ],\n        \"semantic_type\": \"\",\n        \"description\": \"\"\n      }\n    }\n  ]\n}"
            }
          },
          "metadata": {},
          "execution_count": 21
        }
      ]
    },
    {
      "cell_type": "code",
      "source": [
        "df_empathy.iloc[df_empathy.text.str.len().idxmax()].text"
      ],
      "metadata": {
        "id": "EaxaahHcaCrN",
        "outputId": "f9b7283c-7f7a-46e6-ad2e-831a9a8313d0",
        "colab": {
          "base_uri": "https://localhost:8080/",
          "height": 227
        }
      },
      "execution_count": 35,
      "outputs": [
        {
          "output_type": "execute_result",
          "data": {
            "text/plain": [
              "'Hello Jonathan, I hope you are doing well. As I am only in office today and you are on a travel, I am contacting you via Mail.I became a feedback from people related to your reports in the Beta project that I want to discuss with you. In general, the team is happy about your skills in contribution and espacially your way to identify improvements they may would have not seen. At first, your technical reports contain too much commentary that are not neccessary and make the report too long. Your ideas and thoughts about the technical solution are important, but you should only note them down separatly to discuss those with the project team, not to write them in the reports.Second is that your technical writing level is not on the level it is required to be. to presennt this to customer or our CEO. This requires that the colleagues are correcting your work  what leads due to the high pressure to delays, which is embarassingfor the colleagues who commited end dates.It might be that you will be removed out of the project team Beta because of this. This is not to blame you, we just need to be more efficient in this urgent stage to provide the reports.As I know you are an ambitious employee and you want to do the best. I am also sure you want to be developped in a way that you are getting a lead engineer.  To achieve this target, we need to work on your skills in writing technical reports to only note down the required information. Your technical skiills are already on the required level. In addition, the usiness writing is a topic that we can work on.At first we can agree that you send me each chapter that you finalized so that I can have a review before submitting all to Terry. In addition, we need to check for courses to strengthen you rskills in writing reports as I also want to continue working with you. I see a high potential, we need to sit together to develop you in right directions.I wish you a save travel back. If you have any questions or concerns you can always write or call me. Best Regards, William'"
            ],
            "application/vnd.google.colaboratory.intrinsic+json": {
              "type": "string"
            }
          },
          "metadata": {},
          "execution_count": 35
        }
      ]
    },
    {
      "cell_type": "code",
      "source": [
        "df_empathy.dtypes"
      ],
      "metadata": {
        "id": "z4p0h8xXXamC",
        "outputId": "72aacfd2-c272-4447-d61d-670dd627d03e",
        "colab": {
          "base_uri": "https://localhost:8080/"
        }
      },
      "execution_count": 22,
      "outputs": [
        {
          "output_type": "execute_result",
          "data": {
            "text/plain": [
              "_id         int64\n",
              "text       object\n",
              "empathy    object\n",
              "dtype: object"
            ]
          },
          "metadata": {},
          "execution_count": 22
        }
      ]
    },
    {
      "cell_type": "code",
      "source": [
        "x_train,x_test,y_train,y_test = train_test_split(df_empathy[\"text\"],df_empathy[\"empathy\"],random_state=42,test_size = 0.2)\n",
        "train_data = pd.concat([x_train , y_train], axis = 1)\n",
        "test_data = pd.concat([x_train , y_train], axis = 1)\n",
        "train_data.head()\n"
      ],
      "metadata": {
        "id": "yPaLpkA1HZxG",
        "outputId": "e37aafad-1556-4c4c-ae55-43ff5e91b09e",
        "colab": {
          "base_uri": "https://localhost:8080/",
          "height": 206
        }
      },
      "execution_count": 23,
      "outputs": [
        {
          "output_type": "execute_result",
          "data": {
            "text/plain": [
              "                                                 text empathy\n",
              "28  Hello Jonathan, Thank you for your work on the...       0\n",
              "24  Good Morning Jonathan, I wanted to check in wi...       1\n",
              "12  Good Afternoon Jonathan, I hope you are well a...       0\n",
              "0   Hi Jonathan, I hope this message finds you wel...       1\n",
              "4   Hey Jonathan! I've been in touch with Terry, I...       1"
            ],
            "text/html": [
              "\n",
              "  <div id=\"df-f74c6ce8-5a57-44cf-95bc-46ed30f8745d\" class=\"colab-df-container\">\n",
              "    <div>\n",
              "<style scoped>\n",
              "    .dataframe tbody tr th:only-of-type {\n",
              "        vertical-align: middle;\n",
              "    }\n",
              "\n",
              "    .dataframe tbody tr th {\n",
              "        vertical-align: top;\n",
              "    }\n",
              "\n",
              "    .dataframe thead th {\n",
              "        text-align: right;\n",
              "    }\n",
              "</style>\n",
              "<table border=\"1\" class=\"dataframe\">\n",
              "  <thead>\n",
              "    <tr style=\"text-align: right;\">\n",
              "      <th></th>\n",
              "      <th>text</th>\n",
              "      <th>empathy</th>\n",
              "    </tr>\n",
              "  </thead>\n",
              "  <tbody>\n",
              "    <tr>\n",
              "      <th>28</th>\n",
              "      <td>Hello Jonathan, Thank you for your work on the...</td>\n",
              "      <td>0</td>\n",
              "    </tr>\n",
              "    <tr>\n",
              "      <th>24</th>\n",
              "      <td>Good Morning Jonathan, I wanted to check in wi...</td>\n",
              "      <td>1</td>\n",
              "    </tr>\n",
              "    <tr>\n",
              "      <th>12</th>\n",
              "      <td>Good Afternoon Jonathan, I hope you are well a...</td>\n",
              "      <td>0</td>\n",
              "    </tr>\n",
              "    <tr>\n",
              "      <th>0</th>\n",
              "      <td>Hi Jonathan, I hope this message finds you wel...</td>\n",
              "      <td>1</td>\n",
              "    </tr>\n",
              "    <tr>\n",
              "      <th>4</th>\n",
              "      <td>Hey Jonathan! I've been in touch with Terry, I...</td>\n",
              "      <td>1</td>\n",
              "    </tr>\n",
              "  </tbody>\n",
              "</table>\n",
              "</div>\n",
              "    <div class=\"colab-df-buttons\">\n",
              "\n",
              "  <div class=\"colab-df-container\">\n",
              "    <button class=\"colab-df-convert\" onclick=\"convertToInteractive('df-f74c6ce8-5a57-44cf-95bc-46ed30f8745d')\"\n",
              "            title=\"Convert this dataframe to an interactive table.\"\n",
              "            style=\"display:none;\">\n",
              "\n",
              "  <svg xmlns=\"http://www.w3.org/2000/svg\" height=\"24px\" viewBox=\"0 -960 960 960\">\n",
              "    <path d=\"M120-120v-720h720v720H120Zm60-500h600v-160H180v160Zm220 220h160v-160H400v160Zm0 220h160v-160H400v160ZM180-400h160v-160H180v160Zm440 0h160v-160H620v160ZM180-180h160v-160H180v160Zm440 0h160v-160H620v160Z\"/>\n",
              "  </svg>\n",
              "    </button>\n",
              "\n",
              "  <style>\n",
              "    .colab-df-container {\n",
              "      display:flex;\n",
              "      gap: 12px;\n",
              "    }\n",
              "\n",
              "    .colab-df-convert {\n",
              "      background-color: #E8F0FE;\n",
              "      border: none;\n",
              "      border-radius: 50%;\n",
              "      cursor: pointer;\n",
              "      display: none;\n",
              "      fill: #1967D2;\n",
              "      height: 32px;\n",
              "      padding: 0 0 0 0;\n",
              "      width: 32px;\n",
              "    }\n",
              "\n",
              "    .colab-df-convert:hover {\n",
              "      background-color: #E2EBFA;\n",
              "      box-shadow: 0px 1px 2px rgba(60, 64, 67, 0.3), 0px 1px 3px 1px rgba(60, 64, 67, 0.15);\n",
              "      fill: #174EA6;\n",
              "    }\n",
              "\n",
              "    .colab-df-buttons div {\n",
              "      margin-bottom: 4px;\n",
              "    }\n",
              "\n",
              "    [theme=dark] .colab-df-convert {\n",
              "      background-color: #3B4455;\n",
              "      fill: #D2E3FC;\n",
              "    }\n",
              "\n",
              "    [theme=dark] .colab-df-convert:hover {\n",
              "      background-color: #434B5C;\n",
              "      box-shadow: 0px 1px 3px 1px rgba(0, 0, 0, 0.15);\n",
              "      filter: drop-shadow(0px 1px 2px rgba(0, 0, 0, 0.3));\n",
              "      fill: #FFFFFF;\n",
              "    }\n",
              "  </style>\n",
              "\n",
              "    <script>\n",
              "      const buttonEl =\n",
              "        document.querySelector('#df-f74c6ce8-5a57-44cf-95bc-46ed30f8745d button.colab-df-convert');\n",
              "      buttonEl.style.display =\n",
              "        google.colab.kernel.accessAllowed ? 'block' : 'none';\n",
              "\n",
              "      async function convertToInteractive(key) {\n",
              "        const element = document.querySelector('#df-f74c6ce8-5a57-44cf-95bc-46ed30f8745d');\n",
              "        const dataTable =\n",
              "          await google.colab.kernel.invokeFunction('convertToInteractive',\n",
              "                                                    [key], {});\n",
              "        if (!dataTable) return;\n",
              "\n",
              "        const docLinkHtml = 'Like what you see? Visit the ' +\n",
              "          '<a target=\"_blank\" href=https://colab.research.google.com/notebooks/data_table.ipynb>data table notebook</a>'\n",
              "          + ' to learn more about interactive tables.';\n",
              "        element.innerHTML = '';\n",
              "        dataTable['output_type'] = 'display_data';\n",
              "        await google.colab.output.renderOutput(dataTable, element);\n",
              "        const docLink = document.createElement('div');\n",
              "        docLink.innerHTML = docLinkHtml;\n",
              "        element.appendChild(docLink);\n",
              "      }\n",
              "    </script>\n",
              "  </div>\n",
              "\n",
              "\n",
              "<div id=\"df-583b3cbc-6c98-4844-92c5-34b78481d75b\">\n",
              "  <button class=\"colab-df-quickchart\" onclick=\"quickchart('df-583b3cbc-6c98-4844-92c5-34b78481d75b')\"\n",
              "            title=\"Suggest charts\"\n",
              "            style=\"display:none;\">\n",
              "\n",
              "<svg xmlns=\"http://www.w3.org/2000/svg\" height=\"24px\"viewBox=\"0 0 24 24\"\n",
              "     width=\"24px\">\n",
              "    <g>\n",
              "        <path d=\"M19 3H5c-1.1 0-2 .9-2 2v14c0 1.1.9 2 2 2h14c1.1 0 2-.9 2-2V5c0-1.1-.9-2-2-2zM9 17H7v-7h2v7zm4 0h-2V7h2v10zm4 0h-2v-4h2v4z\"/>\n",
              "    </g>\n",
              "</svg>\n",
              "  </button>\n",
              "\n",
              "<style>\n",
              "  .colab-df-quickchart {\n",
              "      --bg-color: #E8F0FE;\n",
              "      --fill-color: #1967D2;\n",
              "      --hover-bg-color: #E2EBFA;\n",
              "      --hover-fill-color: #174EA6;\n",
              "      --disabled-fill-color: #AAA;\n",
              "      --disabled-bg-color: #DDD;\n",
              "  }\n",
              "\n",
              "  [theme=dark] .colab-df-quickchart {\n",
              "      --bg-color: #3B4455;\n",
              "      --fill-color: #D2E3FC;\n",
              "      --hover-bg-color: #434B5C;\n",
              "      --hover-fill-color: #FFFFFF;\n",
              "      --disabled-bg-color: #3B4455;\n",
              "      --disabled-fill-color: #666;\n",
              "  }\n",
              "\n",
              "  .colab-df-quickchart {\n",
              "    background-color: var(--bg-color);\n",
              "    border: none;\n",
              "    border-radius: 50%;\n",
              "    cursor: pointer;\n",
              "    display: none;\n",
              "    fill: var(--fill-color);\n",
              "    height: 32px;\n",
              "    padding: 0;\n",
              "    width: 32px;\n",
              "  }\n",
              "\n",
              "  .colab-df-quickchart:hover {\n",
              "    background-color: var(--hover-bg-color);\n",
              "    box-shadow: 0 1px 2px rgba(60, 64, 67, 0.3), 0 1px 3px 1px rgba(60, 64, 67, 0.15);\n",
              "    fill: var(--button-hover-fill-color);\n",
              "  }\n",
              "\n",
              "  .colab-df-quickchart-complete:disabled,\n",
              "  .colab-df-quickchart-complete:disabled:hover {\n",
              "    background-color: var(--disabled-bg-color);\n",
              "    fill: var(--disabled-fill-color);\n",
              "    box-shadow: none;\n",
              "  }\n",
              "\n",
              "  .colab-df-spinner {\n",
              "    border: 2px solid var(--fill-color);\n",
              "    border-color: transparent;\n",
              "    border-bottom-color: var(--fill-color);\n",
              "    animation:\n",
              "      spin 1s steps(1) infinite;\n",
              "  }\n",
              "\n",
              "  @keyframes spin {\n",
              "    0% {\n",
              "      border-color: transparent;\n",
              "      border-bottom-color: var(--fill-color);\n",
              "      border-left-color: var(--fill-color);\n",
              "    }\n",
              "    20% {\n",
              "      border-color: transparent;\n",
              "      border-left-color: var(--fill-color);\n",
              "      border-top-color: var(--fill-color);\n",
              "    }\n",
              "    30% {\n",
              "      border-color: transparent;\n",
              "      border-left-color: var(--fill-color);\n",
              "      border-top-color: var(--fill-color);\n",
              "      border-right-color: var(--fill-color);\n",
              "    }\n",
              "    40% {\n",
              "      border-color: transparent;\n",
              "      border-right-color: var(--fill-color);\n",
              "      border-top-color: var(--fill-color);\n",
              "    }\n",
              "    60% {\n",
              "      border-color: transparent;\n",
              "      border-right-color: var(--fill-color);\n",
              "    }\n",
              "    80% {\n",
              "      border-color: transparent;\n",
              "      border-right-color: var(--fill-color);\n",
              "      border-bottom-color: var(--fill-color);\n",
              "    }\n",
              "    90% {\n",
              "      border-color: transparent;\n",
              "      border-bottom-color: var(--fill-color);\n",
              "    }\n",
              "  }\n",
              "</style>\n",
              "\n",
              "  <script>\n",
              "    async function quickchart(key) {\n",
              "      const quickchartButtonEl =\n",
              "        document.querySelector('#' + key + ' button');\n",
              "      quickchartButtonEl.disabled = true;  // To prevent multiple clicks.\n",
              "      quickchartButtonEl.classList.add('colab-df-spinner');\n",
              "      try {\n",
              "        const charts = await google.colab.kernel.invokeFunction(\n",
              "            'suggestCharts', [key], {});\n",
              "      } catch (error) {\n",
              "        console.error('Error during call to suggestCharts:', error);\n",
              "      }\n",
              "      quickchartButtonEl.classList.remove('colab-df-spinner');\n",
              "      quickchartButtonEl.classList.add('colab-df-quickchart-complete');\n",
              "    }\n",
              "    (() => {\n",
              "      let quickchartButtonEl =\n",
              "        document.querySelector('#df-583b3cbc-6c98-4844-92c5-34b78481d75b button');\n",
              "      quickchartButtonEl.style.display =\n",
              "        google.colab.kernel.accessAllowed ? 'block' : 'none';\n",
              "    })();\n",
              "  </script>\n",
              "</div>\n",
              "\n",
              "    </div>\n",
              "  </div>\n"
            ],
            "application/vnd.google.colaboratory.intrinsic+json": {
              "type": "dataframe",
              "variable_name": "train_data",
              "summary": "{\n  \"name\": \"train_data\",\n  \"rows\": 24,\n  \"fields\": [\n    {\n      \"column\": \"text\",\n      \"properties\": {\n        \"dtype\": \"string\",\n        \"num_unique_values\": 24,\n        \"samples\": [\n          \"Hi Jonathan, I understand you have been quite involved with the Beta Project. Your experience is paying off as you are often finding improvements the product team did not even know they needed.  I wanted to share some feedback I got from one of your colleagues regarding your reports. Your enthusiasm for this project is infectious and I love to see this level of engagement. However, we also want to be mindful of the end users of the reports you are preparing. In these projects, deadlines often move at a fast pace. In order to ensure the project can stay on time, it is important to focus on inputting mainly facts when writing these reports. You offer a unique perspective and your insights are greatly appreciated. I would love to discuss your ideas with you in separate meetings outside of this project. I understand you are having to compile and organize a large amount of information. I appreciate how overwhelming this can feel at times. When these reports are completed, they are reviewed by our CEO and other key stakeholders. To ensure we are respecting their time, we want these reports to by concise and well organized. I would like you to set up some time with Terry to go over his approach to these reports and his writing style. Once I am back from assignment I will set up time to review how this meeting went and discuss other ideas you may have. I greatly appreciate your efforts on this project and positive attitude. With the above mentioned areas of opportunity, I know this project will continue to run smoothly. Thanks.\",\n          \"Hi Jonathan, First off i'd like to say i'm very pleased to see your enthusiasm towards your work with ABC-5, I appreciate your commitment to doing your best work for the company.I would like to offer some insight into your work that should assist you in achieving your goals. We all need to be continually improving to move forward and I believe I can provide you with some assistance in this area.In regards to your report writing, i'd like to to understand that although your reports cover a lot of good information, we need to keep in mind the target audience and the key objectives of the information. The people that read these need to be able to digest the critical points and understand the facts, so try to find the best way to make the information concise and strictly factual.In addition to this, reports are much more useful when the structure or flow of the report is orderly, it asissts the reader in understanding the information within and allows them to make informed decisions based on your data. It may be a good idea to ask your manager for training opportunities for report writing to develop your skills even further, and be sure to reguarly check in with your manager to make sure your work is aligned with the objectives of the team.I hope these points help you in your job. Please keep up the great work! Thank you!\",\n          \"Hello Jonathan, Thank you for your work on the Beta project.  I would like for us to set up a meeting to discuss your work on the project.  You have completed a few reports now and I have had some feedback I would like to share with you; specifically the commentary you are providing and your business writing.  The additional commentary you are providing makes it difficult to find the objective facts of your findings while working with a tight deadline.  I would like to have a discussion with you what ideas you may have to help make your reports more concise so the team can meet their deadlines. You are investing considerable time and effort in these reports and you have expressed your desire to be in an engineering role in the future. Your work on these reports can certainly help you in achieving your career goals.  I want to make sure you are successful. I'll send out a meeting invite shortly. Thank you again Jonathan for all your work on this project.  I'm looking forward to discussing this with you.\"\n        ],\n        \"semantic_type\": \"\",\n        \"description\": \"\"\n      }\n    },\n    {\n      \"column\": \"empathy\",\n      \"properties\": {\n        \"dtype\": \"category\",\n        \"num_unique_values\": 2,\n        \"samples\": [\n          \"1\",\n          \"0\"\n        ],\n        \"semantic_type\": \"\",\n        \"description\": \"\"\n      }\n    }\n  ]\n}"
            }
          },
          "metadata": {},
          "execution_count": 23
        }
      ]
    },
    {
      "cell_type": "code",
      "source": [
        "training_data = []\n",
        "\n",
        "system_message = \"\"\"\n",
        "Your task is to classify the provided text as either \"Empathetic\" (empatheric = 1) or \"Non-empathetic\" (non-empathetic = 0).\n",
        "Empathetic Responses involve understanding, supportiveness, and active engagement. Understanding is demonstrated by showing comprehension\n",
        "of the individual's feelings and perspective. Supportiveness entails offering genuine support, guidance, or constructive feedback while\n",
        "respecting the individual's contributions and feelings. Active engagement is displayed through asking questions or suggesting actions that\n",
        "actively engage with the individual's situation. Non-Empathetic Responses lack empathetic qualities. They may lack personalization, offering\n",
        "generic advice or feedback without addressing the individual's specific feelings or situation. Dismissiveness occurs when the individual's\n",
        "feelings, concerns, or contributions are downplayed or ignored. Superficiality refers to appearing empathetic on the surface but lacking depth\n",
        "in understanding or supporting the individual's actual needs.\n",
        "\"\"\"\n",
        "\n",
        "def create_user_message(row):\n",
        "    return f\"\"\"Message to Classify: {row['text']}\"\"\"\n",
        "\n",
        "def prepare_example_conversation(row):\n",
        "    messages = []\n",
        "    messages.append({\"role\": \"system\", \"content\": system_message})\n",
        "\n",
        "    user_message = create_user_message(row)\n",
        "    messages.append({\"role\": \"user\", \"content\": user_message})\n",
        "\n",
        "    messages.append({\"role\": \"assistant\", \"content\": row[\"empathy\"]})\n",
        "\n",
        "    return {\"messages\": messages}\n",
        "\n",
        "pprint(prepare_example_conversation(train_data.iloc[0]))"
      ],
      "metadata": {
        "id": "L9mDNYK0L2XG",
        "outputId": "47d8bbc3-4a51-4fdb-f002-b3bf2055b098",
        "colab": {
          "base_uri": "https://localhost:8080/"
        }
      },
      "execution_count": 24,
      "outputs": [
        {
          "output_type": "stream",
          "name": "stdout",
          "text": [
            "{'messages': [{'content': '\\n'\n",
            "                          'Your task is to classify the provided text as '\n",
            "                          'either \"Empathetic\" (empatheric = 1) or '\n",
            "                          '\"Non-empathetic\" (non-empathetic = 0).\\n'\n",
            "                          'Empathetic Responses involve understanding, '\n",
            "                          'supportiveness, and active engagement. '\n",
            "                          'Understanding is demonstrated by showing '\n",
            "                          'comprehension\\n'\n",
            "                          \"of the individual's feelings and perspective. \"\n",
            "                          'Supportiveness entails offering genuine support, '\n",
            "                          'guidance, or constructive feedback while\\n'\n",
            "                          \"respecting the individual's contributions and \"\n",
            "                          'feelings. Active engagement is displayed through '\n",
            "                          'asking questions or suggesting actions that\\n'\n",
            "                          \"actively engage with the individual's situation. \"\n",
            "                          'Non-Empathetic Responses lack empathetic qualities. '\n",
            "                          'They may lack personalization, offering\\n'\n",
            "                          'generic advice or feedback without addressing the '\n",
            "                          \"individual's specific feelings or situation. \"\n",
            "                          \"Dismissiveness occurs when the individual's\\n\"\n",
            "                          'feelings, concerns, or contributions are downplayed '\n",
            "                          'or ignored. Superficiality refers to appearing '\n",
            "                          'empathetic on the surface but lacking depth\\n'\n",
            "                          \"in understanding or supporting the individual's \"\n",
            "                          'actual needs.\\n',\n",
            "               'role': 'system'},\n",
            "              {'content': 'Message to Classify: Hello Jonathan, Thank you for '\n",
            "                          'your work on the Beta project.  I would like for us '\n",
            "                          'to set up a meeting to discuss your work on the '\n",
            "                          'project.  You have completed a few reports now and '\n",
            "                          'I have had some feedback I would like to share with '\n",
            "                          'you; specifically the commentary you are providing '\n",
            "                          'and your business writing.  The additional '\n",
            "                          'commentary you are providing makes it difficult to '\n",
            "                          'find the objective facts of your findings while '\n",
            "                          'working with a tight deadline.  I would like to '\n",
            "                          'have a discussion with you what ideas you may have '\n",
            "                          'to help make your reports more concise so the team '\n",
            "                          'can meet their deadlines. You are investing '\n",
            "                          'considerable time and effort in these reports and '\n",
            "                          'you have expressed your desire to be in an '\n",
            "                          'engineering role in the future. Your work on these '\n",
            "                          'reports can certainly help you in achieving your '\n",
            "                          'career goals.  I want to make sure you are '\n",
            "                          \"successful. I'll send out a meeting invite shortly. \"\n",
            "                          'Thank you again Jonathan for all your work on this '\n",
            "                          \"project.  I'm looking forward to discussing this \"\n",
            "                          'with you.',\n",
            "               'role': 'user'},\n",
            "              {'content': '0', 'role': 'assistant'}]}\n"
          ]
        }
      ]
    },
    {
      "cell_type": "code",
      "source": [
        "training_json = train_data.apply(prepare_example_conversation, axis=1).tolist()\n",
        "test_json = test_data.apply(prepare_example_conversation, axis=1).tolist()\n",
        "\n",
        "\n",
        "for example in training_json[:5]:\n",
        "    print(example)"
      ],
      "metadata": {
        "id": "shiKN4dPNjf1",
        "outputId": "fbb6f744-e55f-4559-d963-5e81123bde2e",
        "colab": {
          "base_uri": "https://localhost:8080/"
        }
      },
      "execution_count": 25,
      "outputs": [
        {
          "output_type": "stream",
          "name": "stdout",
          "text": [
            "{'messages': [{'role': 'system', 'content': '\\nYour task is to classify the provided text as either \"Empathetic\" (empatheric = 1) or \"Non-empathetic\" (non-empathetic = 0).\\nEmpathetic Responses involve understanding, supportiveness, and active engagement. Understanding is demonstrated by showing comprehension\\nof the individual\\'s feelings and perspective. Supportiveness entails offering genuine support, guidance, or constructive feedback while\\nrespecting the individual\\'s contributions and feelings. Active engagement is displayed through asking questions or suggesting actions that\\nactively engage with the individual\\'s situation. Non-Empathetic Responses lack empathetic qualities. They may lack personalization, offering\\ngeneric advice or feedback without addressing the individual\\'s specific feelings or situation. Dismissiveness occurs when the individual\\'s\\nfeelings, concerns, or contributions are downplayed or ignored. Superficiality refers to appearing empathetic on the surface but lacking depth\\nin understanding or supporting the individual\\'s actual needs.\\n'}, {'role': 'user', 'content': \"Message to Classify: Hello Jonathan, Thank you for your work on the Beta project.  I would like for us to set up a meeting to discuss your work on the project.  You have completed a few reports now and I have had some feedback I would like to share with you; specifically the commentary you are providing and your business writing.  The additional commentary you are providing makes it difficult to find the objective facts of your findings while working with a tight deadline.  I would like to have a discussion with you what ideas you may have to help make your reports more concise so the team can meet their deadlines. You are investing considerable time and effort in these reports and you have expressed your desire to be in an engineering role in the future. Your work on these reports can certainly help you in achieving your career goals.  I want to make sure you are successful. I'll send out a meeting invite shortly. Thank you again Jonathan for all your work on this project.  I'm looking forward to discussing this with you.\"}, {'role': 'assistant', 'content': '0'}]}\n",
            "{'messages': [{'role': 'system', 'content': '\\nYour task is to classify the provided text as either \"Empathetic\" (empatheric = 1) or \"Non-empathetic\" (non-empathetic = 0).\\nEmpathetic Responses involve understanding, supportiveness, and active engagement. Understanding is demonstrated by showing comprehension\\nof the individual\\'s feelings and perspective. Supportiveness entails offering genuine support, guidance, or constructive feedback while\\nrespecting the individual\\'s contributions and feelings. Active engagement is displayed through asking questions or suggesting actions that\\nactively engage with the individual\\'s situation. Non-Empathetic Responses lack empathetic qualities. They may lack personalization, offering\\ngeneric advice or feedback without addressing the individual\\'s specific feelings or situation. Dismissiveness occurs when the individual\\'s\\nfeelings, concerns, or contributions are downplayed or ignored. Superficiality refers to appearing empathetic on the surface but lacking depth\\nin understanding or supporting the individual\\'s actual needs.\\n'}, {'role': 'user', 'content': 'Message to Classify: Good Morning Jonathan, I wanted to check in with you. I appreciate you taking the time to send Terry a message about your upcoming report and I do love that you are enthusiastic about the project. You may not be aware but the Beta project reports are submitted to senior level management. These managers receive many reports and are super busy so they require us to provide data concisely as well as factually. For the report you are sending to Terry, I am requesting that you provide the most important info in 2 bullets and then have your amplifying information as well as additional thoughts noted as such,(e.g., What I found out. What I think it means. My thoughts). This way when we are pressed for space in the report we can easily find the information.In addition, I am requesting that you and Terry set up a video chat for 30 min to review the report together. Terry will provide guidance as to what he sees other reports look like and you can provide your most imprortant info to him so he can highlight it without having to guess. We will also be providing a template for future reports in the coming weeks. Look forward to having you back soon, William'}, {'role': 'assistant', 'content': '1'}]}\n",
            "{'messages': [{'role': 'system', 'content': '\\nYour task is to classify the provided text as either \"Empathetic\" (empatheric = 1) or \"Non-empathetic\" (non-empathetic = 0).\\nEmpathetic Responses involve understanding, supportiveness, and active engagement. Understanding is demonstrated by showing comprehension\\nof the individual\\'s feelings and perspective. Supportiveness entails offering genuine support, guidance, or constructive feedback while\\nrespecting the individual\\'s contributions and feelings. Active engagement is displayed through asking questions or suggesting actions that\\nactively engage with the individual\\'s situation. Non-Empathetic Responses lack empathetic qualities. They may lack personalization, offering\\ngeneric advice or feedback without addressing the individual\\'s specific feelings or situation. Dismissiveness occurs when the individual\\'s\\nfeelings, concerns, or contributions are downplayed or ignored. Superficiality refers to appearing empathetic on the surface but lacking depth\\nin understanding or supporting the individual\\'s actual needs.\\n'}, {'role': 'user', 'content': 'Message to Classify: Good Afternoon Jonathan, I hope you are well and the travelling is not too exhausting. I wanted to touch base with you to see how you are enjoying working with the Beta project team? I have been advised that you are a great contributor and are identifying some great improvements, so well done. I understand you are completing a lot of reports and imagine this is quite time consuming which added to your traveling must be quite overwhelming. I have reviewed some of your reports and whilst they provide all the technical information that is required, they are quite lengthy and i think it would be beneficial for you to have some training on report structures. This would mean you could spend less time on the reports by providing only the main facts needed and perhaps take on more responsibility.  When the reports are reviewed by higher management they need to be able to clearly and quickly identify any issues. Attending some training would also be great to add to your career profile for the future. In the meantime perhaps you could review your reports before submitting to ensure they are clear and consise with only the technical information needed,Let me know your thoughts. Many thanks again and well done for all your hard work. Kind regards William'}, {'role': 'assistant', 'content': '0'}]}\n",
            "{'messages': [{'role': 'system', 'content': '\\nYour task is to classify the provided text as either \"Empathetic\" (empatheric = 1) or \"Non-empathetic\" (non-empathetic = 0).\\nEmpathetic Responses involve understanding, supportiveness, and active engagement. Understanding is demonstrated by showing comprehension\\nof the individual\\'s feelings and perspective. Supportiveness entails offering genuine support, guidance, or constructive feedback while\\nrespecting the individual\\'s contributions and feelings. Active engagement is displayed through asking questions or suggesting actions that\\nactively engage with the individual\\'s situation. Non-Empathetic Responses lack empathetic qualities. They may lack personalization, offering\\ngeneric advice or feedback without addressing the individual\\'s specific feelings or situation. Dismissiveness occurs when the individual\\'s\\nfeelings, concerns, or contributions are downplayed or ignored. Superficiality refers to appearing empathetic on the surface but lacking depth\\nin understanding or supporting the individual\\'s actual needs.\\n'}, {'role': 'user', 'content': \"Message to Classify: Hi Jonathan, I hope this message finds you well. I hear things are going well with the Beta project. That said, Terry mentioned that there were some issues with the reports. From what I understand, they would like them to be more concise and straight to the point, as well as more business focused. I recommend you reach out to Terry so you both could review in detail one of the reports he submits. This should help you help you align to their expectations. Additionally, i'd be happy to review the reports before you send them off to Terry and provide my feedback. I know this  project is important to you, so please let me know how this meeting goes and how else I can help. Regards, William\"}, {'role': 'assistant', 'content': '1'}]}\n",
            "{'messages': [{'role': 'system', 'content': '\\nYour task is to classify the provided text as either \"Empathetic\" (empatheric = 1) or \"Non-empathetic\" (non-empathetic = 0).\\nEmpathetic Responses involve understanding, supportiveness, and active engagement. Understanding is demonstrated by showing comprehension\\nof the individual\\'s feelings and perspective. Supportiveness entails offering genuine support, guidance, or constructive feedback while\\nrespecting the individual\\'s contributions and feelings. Active engagement is displayed through asking questions or suggesting actions that\\nactively engage with the individual\\'s situation. Non-Empathetic Responses lack empathetic qualities. They may lack personalization, offering\\ngeneric advice or feedback without addressing the individual\\'s specific feelings or situation. Dismissiveness occurs when the individual\\'s\\nfeelings, concerns, or contributions are downplayed or ignored. Superficiality refers to appearing empathetic on the surface but lacking depth\\nin understanding or supporting the individual\\'s actual needs.\\n'}, {'role': 'user', 'content': \"Message to Classify: Hey Jonathan! I've been in touch with Terry, I'm so glad to hear how much you are enjoying the Beta Project, I even hear you are hoping that this experience will further your ambitions toward a Lead Engineer position! However, I understand there has been some issues with your reports that Terry has brought up with you, and I wanted to take a few minutes to discuss them.1) Opinion vs. FactsYour reports contain a lot of insights about what the data means, and at times finding the specific hard facts can be difficult.2) Level of DetailYou include every bit of data that you can into your reports, which can make it difficult to take away the larger picture.I want to encourage you to take these things away for the following reasons:1) your reports are reviewed by everyone in upper management, including the CEO! The opinions you have are great, but when evaluating documents the CEO just needs to highest level, most important items. The nitty-gritty would fall to another department2) as you have a desire to move up and be a Lead Engineer, these kinds of reports will be more and more common. Keeping your thoughts organized and well documented is going to become a very important skill to have.For your next report I would like you to prepare a cover sheet that goes with the report. This cover sheet should be a single page highlighting only the key facts of the report. Your own opinions and analysis can be included, but let those who are interested read it on their own time, the high level facts are key for the meeting they will be presented in. I would also encourage you to make sure the rest of the report has clearly defined headings and topics, so it is easy to find information related to each item. I\"}, {'role': 'assistant', 'content': '1'}]}\n"
          ]
        }
      ]
    },
    {
      "cell_type": "code",
      "source": [
        "def write_jsonl(data_list: list, filename: str) -> None:\n",
        "    with open(filename, \"w\") as out:\n",
        "        for ddict in data_list:\n",
        "            jout = json.dumps(ddict) + \"\\n\"\n",
        "            out.write(jout)"
      ],
      "metadata": {
        "id": "6HZFZcIGOsGr"
      },
      "execution_count": 26,
      "outputs": []
    },
    {
      "cell_type": "code",
      "source": [
        "training_file_name = \"tmp_empathy_finetune_training.jsonl\"\n",
        "write_jsonl(training_json, training_file_name)\n",
        "\n",
        "testing_file_name = \"tmp_empathy_finetune_testing.jsonl\"\n",
        "write_jsonl(test_json, testing_file_name)"
      ],
      "metadata": {
        "id": "CspPh8nJOyAu"
      },
      "execution_count": 27,
      "outputs": []
    },
    {
      "cell_type": "code",
      "source": [
        "!head -n 5 tmp_empathy_finetune_training.jsonl"
      ],
      "metadata": {
        "id": "d1eYX5vaPKGq",
        "outputId": "e3b7b1d4-c35b-467a-9f85-5c1893147998",
        "colab": {
          "base_uri": "https://localhost:8080/"
        }
      },
      "execution_count": 28,
      "outputs": [
        {
          "output_type": "stream",
          "name": "stdout",
          "text": [
            "{\"messages\": [{\"role\": \"system\", \"content\": \"\\nYour task is to classify the provided text as either \\\"Empathetic\\\" (empatheric = 1) or \\\"Non-empathetic\\\" (non-empathetic = 0).\\nEmpathetic Responses involve understanding, supportiveness, and active engagement. Understanding is demonstrated by showing comprehension\\nof the individual's feelings and perspective. Supportiveness entails offering genuine support, guidance, or constructive feedback while\\nrespecting the individual's contributions and feelings. Active engagement is displayed through asking questions or suggesting actions that\\nactively engage with the individual's situation. Non-Empathetic Responses lack empathetic qualities. They may lack personalization, offering\\ngeneric advice or feedback without addressing the individual's specific feelings or situation. Dismissiveness occurs when the individual's\\nfeelings, concerns, or contributions are downplayed or ignored. Superficiality refers to appearing empathetic on the surface but lacking depth\\nin understanding or supporting the individual's actual needs.\\n\"}, {\"role\": \"user\", \"content\": \"Message to Classify: Hello Jonathan, Thank you for your work on the Beta project.  I would like for us to set up a meeting to discuss your work on the project.  You have completed a few reports now and I have had some feedback I would like to share with you; specifically the commentary you are providing and your business writing.  The additional commentary you are providing makes it difficult to find the objective facts of your findings while working with a tight deadline.  I would like to have a discussion with you what ideas you may have to help make your reports more concise so the team can meet their deadlines. You are investing considerable time and effort in these reports and you have expressed your desire to be in an engineering role in the future. Your work on these reports can certainly help you in achieving your career goals.  I want to make sure you are successful. I'll send out a meeting invite shortly. Thank you again Jonathan for all your work on this project.  I'm looking forward to discussing this with you.\"}, {\"role\": \"assistant\", \"content\": \"0\"}]}\n",
            "{\"messages\": [{\"role\": \"system\", \"content\": \"\\nYour task is to classify the provided text as either \\\"Empathetic\\\" (empatheric = 1) or \\\"Non-empathetic\\\" (non-empathetic = 0).\\nEmpathetic Responses involve understanding, supportiveness, and active engagement. Understanding is demonstrated by showing comprehension\\nof the individual's feelings and perspective. Supportiveness entails offering genuine support, guidance, or constructive feedback while\\nrespecting the individual's contributions and feelings. Active engagement is displayed through asking questions or suggesting actions that\\nactively engage with the individual's situation. Non-Empathetic Responses lack empathetic qualities. They may lack personalization, offering\\ngeneric advice or feedback without addressing the individual's specific feelings or situation. Dismissiveness occurs when the individual's\\nfeelings, concerns, or contributions are downplayed or ignored. Superficiality refers to appearing empathetic on the surface but lacking depth\\nin understanding or supporting the individual's actual needs.\\n\"}, {\"role\": \"user\", \"content\": \"Message to Classify: Good Morning Jonathan, I wanted to check in with you. I appreciate you taking the time to send Terry a message about your upcoming report and I do love that you are enthusiastic about the project. You may not be aware but the Beta project reports are submitted to senior level management. These managers receive many reports and are super busy so they require us to provide data concisely as well as factually. For the report you are sending to Terry, I am requesting that you provide the most important info in 2 bullets and then have your amplifying information as well as additional thoughts noted as such,(e.g., What I found out. What I think it means. My thoughts). This way when we are pressed for space in the report we can easily find the information.In addition, I am requesting that you and Terry set up a video chat for 30 min to review the report together. Terry will provide guidance as to what he sees other reports look like and you can provide your most imprortant info to him so he can highlight it without having to guess. We will also be providing a template for future reports in the coming weeks. Look forward to having you back soon, William\"}, {\"role\": \"assistant\", \"content\": \"1\"}]}\n",
            "{\"messages\": [{\"role\": \"system\", \"content\": \"\\nYour task is to classify the provided text as either \\\"Empathetic\\\" (empatheric = 1) or \\\"Non-empathetic\\\" (non-empathetic = 0).\\nEmpathetic Responses involve understanding, supportiveness, and active engagement. Understanding is demonstrated by showing comprehension\\nof the individual's feelings and perspective. Supportiveness entails offering genuine support, guidance, or constructive feedback while\\nrespecting the individual's contributions and feelings. Active engagement is displayed through asking questions or suggesting actions that\\nactively engage with the individual's situation. Non-Empathetic Responses lack empathetic qualities. They may lack personalization, offering\\ngeneric advice or feedback without addressing the individual's specific feelings or situation. Dismissiveness occurs when the individual's\\nfeelings, concerns, or contributions are downplayed or ignored. Superficiality refers to appearing empathetic on the surface but lacking depth\\nin understanding or supporting the individual's actual needs.\\n\"}, {\"role\": \"user\", \"content\": \"Message to Classify: Good Afternoon Jonathan, I hope you are well and the travelling is not too exhausting. I wanted to touch base with you to see how you are enjoying working with the Beta project team? I have been advised that you are a great contributor and are identifying some great improvements, so well done. I understand you are completing a lot of reports and imagine this is quite time consuming which added to your traveling must be quite overwhelming. I have reviewed some of your reports and whilst they provide all the technical information that is required, they are quite lengthy and i think it would be beneficial for you to have some training on report structures. This would mean you could spend less time on the reports by providing only the main facts needed and perhaps take on more responsibility.  When the reports are reviewed by higher management they need to be able to clearly and quickly identify any issues. Attending some training would also be great to add to your career profile for the future. In the meantime perhaps you could review your reports before submitting to ensure they are clear and consise with only the technical information needed,Let me know your thoughts. Many thanks again and well done for all your hard work. Kind regards William\"}, {\"role\": \"assistant\", \"content\": \"0\"}]}\n",
            "{\"messages\": [{\"role\": \"system\", \"content\": \"\\nYour task is to classify the provided text as either \\\"Empathetic\\\" (empatheric = 1) or \\\"Non-empathetic\\\" (non-empathetic = 0).\\nEmpathetic Responses involve understanding, supportiveness, and active engagement. Understanding is demonstrated by showing comprehension\\nof the individual's feelings and perspective. Supportiveness entails offering genuine support, guidance, or constructive feedback while\\nrespecting the individual's contributions and feelings. Active engagement is displayed through asking questions or suggesting actions that\\nactively engage with the individual's situation. Non-Empathetic Responses lack empathetic qualities. They may lack personalization, offering\\ngeneric advice or feedback without addressing the individual's specific feelings or situation. Dismissiveness occurs when the individual's\\nfeelings, concerns, or contributions are downplayed or ignored. Superficiality refers to appearing empathetic on the surface but lacking depth\\nin understanding or supporting the individual's actual needs.\\n\"}, {\"role\": \"user\", \"content\": \"Message to Classify: Hi Jonathan, I hope this message finds you well. I hear things are going well with the Beta project. That said, Terry mentioned that there were some issues with the reports. From what I understand, they would like them to be more concise and straight to the point, as well as more business focused. I recommend you reach out to Terry so you both could review in detail one of the reports he submits. This should help you help you align to their expectations. Additionally, i'd be happy to review the reports before you send them off to Terry and provide my feedback. I know this  project is important to you, so please let me know how this meeting goes and how else I can help. Regards, William\"}, {\"role\": \"assistant\", \"content\": \"1\"}]}\n",
            "{\"messages\": [{\"role\": \"system\", \"content\": \"\\nYour task is to classify the provided text as either \\\"Empathetic\\\" (empatheric = 1) or \\\"Non-empathetic\\\" (non-empathetic = 0).\\nEmpathetic Responses involve understanding, supportiveness, and active engagement. Understanding is demonstrated by showing comprehension\\nof the individual's feelings and perspective. Supportiveness entails offering genuine support, guidance, or constructive feedback while\\nrespecting the individual's contributions and feelings. Active engagement is displayed through asking questions or suggesting actions that\\nactively engage with the individual's situation. Non-Empathetic Responses lack empathetic qualities. They may lack personalization, offering\\ngeneric advice or feedback without addressing the individual's specific feelings or situation. Dismissiveness occurs when the individual's\\nfeelings, concerns, or contributions are downplayed or ignored. Superficiality refers to appearing empathetic on the surface but lacking depth\\nin understanding or supporting the individual's actual needs.\\n\"}, {\"role\": \"user\", \"content\": \"Message to Classify: Hey Jonathan! I've been in touch with Terry, I'm so glad to hear how much you are enjoying the Beta Project, I even hear you are hoping that this experience will further your ambitions toward a Lead Engineer position! However, I understand there has been some issues with your reports that Terry has brought up with you, and I wanted to take a few minutes to discuss them.1) Opinion vs. FactsYour reports contain a lot of insights about what the data means, and at times finding the specific hard facts can be difficult.2) Level of DetailYou include every bit of data that you can into your reports, which can make it difficult to take away the larger picture.I want to encourage you to take these things away for the following reasons:1) your reports are reviewed by everyone in upper management, including the CEO! The opinions you have are great, but when evaluating documents the CEO just needs to highest level, most important items. The nitty-gritty would fall to another department2) as you have a desire to move up and be a Lead Engineer, these kinds of reports will be more and more common. Keeping your thoughts organized and well documented is going to become a very important skill to have.For your next report I would like you to prepare a cover sheet that goes with the report. This cover sheet should be a single page highlighting only the key facts of the report. Your own opinions and analysis can be included, but let those who are interested read it on their own time, the high level facts are key for the meeting they will be presented in. I would also encourage you to make sure the rest of the report has clearly defined headings and topics, so it is easy to find information related to each item. I\"}, {\"role\": \"assistant\", \"content\": \"1\"}]}\n"
          ]
        }
      ]
    },
    {
      "cell_type": "markdown",
      "source": [
        "### Pre-Tuning Checks"
      ],
      "metadata": {
        "id": "mEzRcfLnf9Lw"
      }
    },
    {
      "cell_type": "code",
      "source": [
        "# Format error checks - Training set\n",
        "with open(\"/content/tmp_empathy_finetune_testing.jsonl\", 'r', encoding='utf-8') as f:\n",
        "    dataset = [json.loads(line) for line in f]\n",
        "\n",
        "format_errors = defaultdict(int)\n",
        "\n",
        "for ex in dataset:\n",
        "    if not isinstance(ex, dict):\n",
        "        format_errors[\"data_type\"] += 1\n",
        "        continue\n",
        "\n",
        "    messages = ex.get(\"messages\", None)\n",
        "    if not messages:\n",
        "        format_errors[\"missing_messages_list\"] += 1\n",
        "        continue\n",
        "\n",
        "    for message in messages:\n",
        "        if \"role\" not in message or \"content\" not in message:\n",
        "            format_errors[\"message_missing_key\"] += 1\n",
        "\n",
        "        if any(k not in (\"role\", \"content\", \"name\", \"function_call\", \"weight\") for k in message):\n",
        "            format_errors[\"message_unrecognized_key\"] += 1\n",
        "\n",
        "        if message.get(\"role\", None) not in (\"system\", \"user\", \"assistant\", \"function\"):\n",
        "            format_errors[\"unrecognized_role\"] += 1\n",
        "\n",
        "        content = message.get(\"content\", None)\n",
        "        function_call = message.get(\"function_call\", None)\n",
        "\n",
        "        if (not content and not function_call) or not isinstance(content, str):\n",
        "            format_errors[\"missing_content\"] += 1\n",
        "\n",
        "    if not any(message.get(\"role\", None) == \"assistant\" for message in messages):\n",
        "        format_errors[\"example_missing_assistant_message\"] += 1\n",
        "\n",
        "if format_errors:\n",
        "    print(\"Found errors:\")\n",
        "    for k, v in format_errors.items():\n",
        "        print(f\"{k}: {v}\")\n",
        "else:\n",
        "    print(\"No errors found\")"
      ],
      "metadata": {
        "id": "B5-zgm6HeWUu",
        "outputId": "6ac29060-a985-453c-de82-41234b1648a1",
        "colab": {
          "base_uri": "https://localhost:8080/"
        }
      },
      "execution_count": 38,
      "outputs": [
        {
          "output_type": "stream",
          "name": "stdout",
          "text": [
            "No errors found\n"
          ]
        }
      ]
    },
    {
      "cell_type": "code",
      "source": [
        "# Format error checks - Training set\n",
        "with open(\"/content/tmp_empathy_finetune_training.jsonl\", 'r', encoding='utf-8') as f:\n",
        "    dataset = [json.loads(line) for line in f]\n",
        "\n",
        "format_errors = defaultdict(int)\n",
        "\n",
        "for ex in dataset:\n",
        "    if not isinstance(ex, dict):\n",
        "        format_errors[\"data_type\"] += 1\n",
        "        continue\n",
        "\n",
        "    messages = ex.get(\"messages\", None)\n",
        "    if not messages:\n",
        "        format_errors[\"missing_messages_list\"] += 1\n",
        "        continue\n",
        "\n",
        "    for message in messages:\n",
        "        if \"role\" not in message or \"content\" not in message:\n",
        "            format_errors[\"message_missing_key\"] += 1\n",
        "\n",
        "        if any(k not in (\"role\", \"content\", \"name\", \"function_call\", \"weight\") for k in message):\n",
        "            format_errors[\"message_unrecognized_key\"] += 1\n",
        "\n",
        "        if message.get(\"role\", None) not in (\"system\", \"user\", \"assistant\", \"function\"):\n",
        "            format_errors[\"unrecognized_role\"] += 1\n",
        "\n",
        "        content = message.get(\"content\", None)\n",
        "        function_call = message.get(\"function_call\", None)\n",
        "\n",
        "        if (not content and not function_call) or not isinstance(content, str):\n",
        "            format_errors[\"missing_content\"] += 1\n",
        "\n",
        "    if not any(message.get(\"role\", None) == \"assistant\" for message in messages):\n",
        "        format_errors[\"example_missing_assistant_message\"] += 1\n",
        "\n",
        "if format_errors:\n",
        "    print(\"Found errors:\")\n",
        "    for k, v in format_errors.items():\n",
        "        print(f\"{k}: {v}\")\n",
        "else:\n",
        "    print(\"No errors found\")"
      ],
      "metadata": {
        "id": "FK9EdNDofBYq",
        "outputId": "362fa14e-d805-47b0-a42d-f74abfa134d2",
        "colab": {
          "base_uri": "https://localhost:8080/"
        }
      },
      "execution_count": 39,
      "outputs": [
        {
          "output_type": "stream",
          "name": "stdout",
          "text": [
            "No errors found\n"
          ]
        }
      ]
    },
    {
      "cell_type": "code",
      "source": [
        "# Warnings and tokens counts\n",
        "with open(\"/content/tmp_empathy_finetune_testing.jsonl\", 'r', encoding='utf-8') as f:\n",
        "    dataset = [json.loads(line) for line in f]\n",
        "\n",
        "n_missing_system = 0\n",
        "n_missing_user = 0\n",
        "n_messages = []\n",
        "convo_lens = []\n",
        "assistant_message_lens = []\n",
        "\n",
        "for ex in dataset:\n",
        "    messages = ex[\"messages\"]\n",
        "    if not any(message[\"role\"] == \"system\" for message in messages):\n",
        "        n_missing_system += 1\n",
        "    if not any(message[\"role\"] == \"user\" for message in messages):\n",
        "        n_missing_user += 1\n",
        "    n_messages.append(len(messages))\n",
        "    convo_lens.append(num_tokens_from_messages(messages))\n",
        "    assistant_message_lens.append(num_assistant_tokens_from_messages(messages))\n",
        "\n",
        "print(\"Num examples missing system message:\", n_missing_system)\n",
        "print(\"Num examples missing user message:\", n_missing_user)\n",
        "print_distribution(n_messages, \"num_messages_per_example\")\n",
        "print_distribution(convo_lens, \"num_total_tokens_per_example\")\n",
        "print_distribution(assistant_message_lens, \"num_assistant_tokens_per_example\")\n",
        "n_too_long = sum(l > 4096 for l in convo_lens)\n",
        "print(f\"\\n{n_too_long} examples may be over the 4096 token limit, they will be truncated during fine-tuning\")"
      ],
      "metadata": {
        "id": "f9CqjO0zfnZT",
        "outputId": "7e9affd3-aaeb-4335-91cc-eeead7e258a6",
        "colab": {
          "base_uri": "https://localhost:8080/"
        }
      },
      "execution_count": 43,
      "outputs": [
        {
          "output_type": "stream",
          "name": "stdout",
          "text": [
            "Num examples missing system message: 0\n",
            "Num examples missing user message: 0\n",
            "\n",
            "#### Distribution of num_messages_per_example:\n",
            "min / max: 3, 3\n",
            "mean / median: 3.0, 3.0\n",
            "p5 / p95: 3.0, 3.0\n",
            "\n",
            "#### Distribution of num_total_tokens_per_example:\n",
            "min / max: 327, 587\n",
            "mean / median: 428.5, 418.0\n",
            "p5 / p95: 346.4, 503.4\n",
            "\n",
            "#### Distribution of num_assistant_tokens_per_example:\n",
            "min / max: 1, 1\n",
            "mean / median: 1.0, 1.0\n",
            "p5 / p95: 1.0, 1.0\n",
            "\n",
            "0 examples may be over the 4096 token limit, they will be truncated during fine-tuning\n"
          ]
        }
      ]
    },
    {
      "cell_type": "code",
      "source": [
        "# Pricing and default n_epochs estimate\n",
        "MAX_TOKENS_PER_EXAMPLE = 4096\n",
        "\n",
        "TARGET_EPOCHS = 3\n",
        "MIN_TARGET_EXAMPLES = 100\n",
        "MAX_TARGET_EXAMPLES = 25000\n",
        "MIN_DEFAULT_EPOCHS = 1\n",
        "MAX_DEFAULT_EPOCHS = 25\n",
        "\n",
        "n_epochs = TARGET_EPOCHS\n",
        "n_train_examples = len(dataset)\n",
        "if n_train_examples * TARGET_EPOCHS < MIN_TARGET_EXAMPLES:\n",
        "    n_epochs = min(MAX_DEFAULT_EPOCHS, MIN_TARGET_EXAMPLES // n_train_examples)\n",
        "elif n_train_examples * TARGET_EPOCHS > MAX_TARGET_EXAMPLES:\n",
        "    n_epochs = max(MIN_DEFAULT_EPOCHS, MAX_TARGET_EXAMPLES // n_train_examples)\n",
        "\n",
        "n_billing_tokens_in_dataset = sum(min(MAX_TOKENS_PER_EXAMPLE, length) for length in convo_lens)\n",
        "print(f\"Dataset has ~{n_billing_tokens_in_dataset} tokens that will be charged for during training\")\n",
        "print(f\"By default, you'll train for {n_epochs} epochs on this dataset\")\n",
        "print(f\"By default, you'll be charged for ~{n_epochs * n_billing_tokens_in_dataset} tokens\")\n",
        "print(f\"Estimated training cost ~${((n_epochs * n_billing_tokens_in_dataset)/1000)*.0080}\")"
      ],
      "metadata": {
        "id": "RBNhJKoSgVZM",
        "outputId": "af686439-baa4-451b-ec2f-2fde293823a9",
        "colab": {
          "base_uri": "https://localhost:8080/"
        }
      },
      "execution_count": 45,
      "outputs": [
        {
          "output_type": "stream",
          "name": "stdout",
          "text": [
            "Dataset has ~10284 tokens that will be charged for during training\n",
            "By default, you'll train for 4 epochs on this dataset\n",
            "By default, you'll be charged for ~41136 tokens\n",
            "Estimated training cost ~$0.32908800000000005\n"
          ]
        }
      ]
    },
    {
      "cell_type": "code",
      "source": [
        "with open(training_file_name, \"rb\") as training_fd:\n",
        "    training_response = client.files.create(\n",
        "        file=training_fd, purpose=\"fine-tune\"\n",
        "    )\n",
        "\n",
        "training_file_id = training_response.id\n",
        "\n",
        "with open(testing_file_name, \"rb\") as validation_fd:\n",
        "    validation_response = client.files.create(\n",
        "        file=validation_fd, purpose=\"fine-tune\"\n",
        "    )\n",
        "validation_file_id = validation_response.id\n",
        "\n",
        "print(\"Training file ID:\", training_file_id)\n",
        "print(\"Validation file ID:\", validation_file_id)"
      ],
      "metadata": {
        "id": "4kPzYKTDPZTk",
        "outputId": "7eaaced7-69a1-407b-bb6e-3db3758200ab",
        "colab": {
          "base_uri": "https://localhost:8080/"
        }
      },
      "execution_count": 29,
      "outputs": [
        {
          "output_type": "stream",
          "name": "stdout",
          "text": [
            "Training file ID: file-1b8W57KCVnMVXz1FdXRuykKA\n",
            "Validation file ID: file-AQwRrMVaO15hVA8nGAVwa4wx\n"
          ]
        }
      ]
    },
    {
      "cell_type": "markdown",
      "source": [
        "## Fine Tuning"
      ],
      "metadata": {
        "id": "rmi4TAoxdyQ1"
      }
    },
    {
      "cell_type": "code",
      "source": [
        "# Only Run this cell when wanting to create a new fine-tuning job, otherwise you will be paying to redo work\n",
        "\n",
        "#Uncomment the below code when wanting to run a new fine-tuning job\n",
        "# response = client.fine_tuning.jobs.create(\n",
        "#     training_file=training_file_id,\n",
        "#     validation_file=validation_file_id,\n",
        "#     model=\"gpt-3.5-turbo\",\n",
        "#     suffix=\"empathy_tuned_v1\",\n",
        "# )\n",
        "\n",
        "job_id = response.id\n",
        "\n",
        "print(\"Job ID:\", response.id)\n",
        "print(\"Status:\", response.status)"
      ],
      "metadata": {
        "id": "sUvyai4FYMUb",
        "outputId": "d616af59-6823-4c5f-b417-139eddbb453a",
        "colab": {
          "base_uri": "https://localhost:8080/"
        }
      },
      "execution_count": 46,
      "outputs": [
        {
          "output_type": "stream",
          "name": "stdout",
          "text": [
            "Job ID: ftjob-1tHPpgkHiZkHuEdJmoGO1paE\n",
            "Status: validating_files\n"
          ]
        }
      ]
    },
    {
      "cell_type": "code",
      "source": [
        "#Check Job Status\n",
        "response = client.fine_tuning.jobs.retrieve(job_id)\n",
        "\n",
        "print(\"Job ID:\", response.id)\n",
        "print(\"Status:\", response.status)\n",
        "print(\"Trained Tokens:\", response.trained_tokens)\n"
      ],
      "metadata": {
        "id": "ZvT6IMZnk2OG",
        "outputId": "f8e2fd0d-2a5b-4e65-f8d2-70bbdda48ddc",
        "colab": {
          "base_uri": "https://localhost:8080/"
        }
      },
      "execution_count": 57,
      "outputs": [
        {
          "output_type": "stream",
          "name": "stdout",
          "text": [
            "Job ID: ftjob-1tHPpgkHiZkHuEdJmoGO1paE\n",
            "Status: succeeded\n",
            "Trained Tokens: 40944\n"
          ]
        }
      ]
    },
    {
      "cell_type": "code",
      "source": [
        "#Track Fine-Tuning Endpoints\n",
        "response = client.fine_tuning.jobs.list_events(job_id)\n",
        "\n",
        "events = response.data\n",
        "events.reverse()\n",
        "\n",
        "for event in events:\n",
        "    print(event.message)"
      ],
      "metadata": {
        "id": "Kt70HufqlIQ_",
        "outputId": "86fb0e95-28ae-4b7a-fff3-824145758f8c",
        "colab": {
          "base_uri": "https://localhost:8080/"
        }
      },
      "execution_count": 58,
      "outputs": [
        {
          "output_type": "stream",
          "name": "stdout",
          "text": [
            "Step 79/96: training loss=0.00, validation loss=0.00\n",
            "Step 80/96: training loss=2.95, validation loss=0.00\n",
            "Step 81/96: training loss=0.00, validation loss=0.00\n",
            "Step 82/96: training loss=3.35, validation loss=0.00\n",
            "Step 83/96: training loss=0.00, validation loss=0.00\n",
            "Step 84/96: training loss=3.36, validation loss=0.00\n",
            "Step 85/96: training loss=0.00, validation loss=0.00\n",
            "Step 86/96: training loss=0.00, validation loss=1.77\n",
            "Step 87/96: training loss=2.72, validation loss=2.96\n",
            "Step 88/96: training loss=0.00, validation loss=0.00\n",
            "Step 89/96: training loss=0.00, validation loss=2.72\n",
            "Step 90/96: training loss=2.12, validation loss=2.23\n",
            "Step 91/96: training loss=0.00, validation loss=0.00\n",
            "Step 92/96: training loss=0.00, validation loss=0.00\n",
            "Step 93/96: training loss=0.00, validation loss=1.26\n",
            "Step 94/96: training loss=1.86, validation loss=1.46\n",
            "Step 95/96: training loss=0.00, validation loss=2.15\n",
            "Step 96/96: training loss=0.00, validation loss=0.00\n",
            "New fine-tuned model created: ft:gpt-3.5-turbo-0125:personal:empathy-tuned-v1:96quPZFn\n",
            "The job has successfully completed\n"
          ]
        }
      ]
    },
    {
      "cell_type": "code",
      "source": [
        "# When job is done, run to fets fine-tuned model id\n",
        "response = client.fine_tuning.jobs.retrieve(job_id)\n",
        "fine_tuned_model_id = response.fine_tuned_model\n",
        "\n",
        "if fine_tuned_model_id is None:\n",
        "    raise RuntimeError(\"Fine-tuned model ID not found. Your job has likely not been completed yet.\")\n",
        "\n",
        "print(\"Fine-tuned model ID:\", fine_tuned_model_id)"
      ],
      "metadata": {
        "id": "biVRMiJNlaDP",
        "outputId": "871c77da-42d2-4611-a805-349796caadcf",
        "colab": {
          "base_uri": "https://localhost:8080/"
        }
      },
      "execution_count": 59,
      "outputs": [
        {
          "output_type": "stream",
          "name": "stdout",
          "text": [
            "Fine-tuned model ID: ft:gpt-3.5-turbo-0125:personal:empathy-tuned-v1:96quPZFn\n"
          ]
        }
      ]
    },
    {
      "cell_type": "markdown",
      "source": [
        "## Fine-Tuned Model Testing"
      ],
      "metadata": {
        "id": "we7GsYT9mM0N"
      }
    },
    {
      "cell_type": "code",
      "source": [
        "df_empathy_dev = pd.read_csv(\"https://raw.githubusercontent.com/UrologyUnbound/SIOP_ML_2024_Discord/main/data/dev/empathy_val_public.csv\")"
      ],
      "metadata": {
        "id": "6f762jfvmSSi"
      },
      "execution_count": 55,
      "outputs": []
    },
    {
      "cell_type": "code",
      "source": [
        "test_row = df_empathy_dev.iloc[2]\n",
        "test_messages = []\n",
        "test_messages.append({\"role\": \"system\", \"content\": system_message})\n",
        "user_message = create_user_message(test_row)\n",
        "test_messages.append({\"role\": \"user\", \"content\": user_message})\n",
        "\n",
        "pprint(test_messages)"
      ],
      "metadata": {
        "id": "vgsmL4nJmQRA",
        "outputId": "4ecf9198-020e-4246-cd72-792667cab051",
        "colab": {
          "base_uri": "https://localhost:8080/"
        }
      },
      "execution_count": 63,
      "outputs": [
        {
          "output_type": "stream",
          "name": "stdout",
          "text": [
            "[{'content': '\\n'\n",
            "             'Your task is to classify the provided text as either '\n",
            "             '\"Empathetic\" (empatheric = 1) or \"Non-empathetic\" '\n",
            "             '(non-empathetic = 0).\\n'\n",
            "             'Empathetic Responses involve understanding, supportiveness, and '\n",
            "             'active engagement. Understanding is demonstrated by showing '\n",
            "             'comprehension\\n'\n",
            "             \"of the individual's feelings and perspective. Supportiveness \"\n",
            "             'entails offering genuine support, guidance, or constructive '\n",
            "             'feedback while\\n'\n",
            "             \"respecting the individual's contributions and feelings. Active \"\n",
            "             'engagement is displayed through asking questions or suggesting '\n",
            "             'actions that\\n'\n",
            "             \"actively engage with the individual's situation. Non-Empathetic \"\n",
            "             'Responses lack empathetic qualities. They may lack '\n",
            "             'personalization, offering\\n'\n",
            "             \"generic advice or feedback without addressing the individual's \"\n",
            "             'specific feelings or situation. Dismissiveness occurs when the '\n",
            "             \"individual's\\n\"\n",
            "             'feelings, concerns, or contributions are downplayed or ignored. '\n",
            "             'Superficiality refers to appearing empathetic on the surface but '\n",
            "             'lacking depth\\n'\n",
            "             \"in understanding or supporting the individual's actual needs.\\n\",\n",
            "  'role': 'system'},\n",
            " {'content': 'Message to Classify: Hi Jonathan, I learnt that you are working '\n",
            "             'on Beta project and providing excellent information to Terry. '\n",
            "             'Here are few points i would like you to take care: It has been '\n",
            "             'observed that your report is having too much of information, i '\n",
            "             'request you to please summarize it with the facts and relevant '\n",
            "             'data. you can share your assumptions separately. because having '\n",
            "             'too much of information in the report may loose interest. '\n",
            "             'Generally Beta project team is concern only about the facts so '\n",
            "             'our reports should contain only facts. I really appreciate you '\n",
            "             'for your excellent findings and opinions, and i do understand '\n",
            "             'you are new for business writing and dont have much experience '\n",
            "             'in this area. So i you go through a formal training for business '\n",
            "             'writting it will add up value to your reports. I have requested '\n",
            "             'Terry to arrange a formal training as per your available '\n",
            "             'schedule. please go thriugh that.I hope you do understand the '\n",
            "             'concern here but still if you feel we can discuss further please '\n",
            "             'let me know we can discuss. Regards, William',\n",
            "  'role': 'user'}]\n"
          ]
        }
      ]
    },
    {
      "cell_type": "code",
      "source": [
        "response = client.chat.completions.create(\n",
        "    model=fine_tuned_model_id, messages=test_messages, temperature=0, max_tokens=500\n",
        ")\n",
        "print(response.choices[0].message.content)"
      ],
      "metadata": {
        "id": "Uj2TZFzGmg0I",
        "outputId": "ba976b95-c0a9-4f72-8c3d-4da4cfdb61ca",
        "colab": {
          "base_uri": "https://localhost:8080/"
        }
      },
      "execution_count": 64,
      "outputs": [
        {
          "output_type": "stream",
          "name": "stdout",
          "text": [
            "1\n"
          ]
        }
      ]
    }
  ]
}