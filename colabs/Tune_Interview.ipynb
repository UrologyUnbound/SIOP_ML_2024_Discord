{
  "nbformat": 4,
  "nbformat_minor": 0,
  "metadata": {
    "colab": {
      "provenance": [],
      "include_colab_link": true
    },
    "kernelspec": {
      "name": "python3",
      "display_name": "Python 3"
    },
    "language_info": {
      "name": "python"
    },
    "widgets": {
      "application/vnd.jupyter.widget-state+json": {
        "29c35e8f24f54d64927ba60fb02768d9": {
          "model_module": "@jupyter-widgets/controls",
          "model_name": "VBoxModel",
          "model_module_version": "1.5.0",
          "state": {
            "_dom_classes": [],
            "_model_module": "@jupyter-widgets/controls",
            "_model_module_version": "1.5.0",
            "_model_name": "VBoxModel",
            "_view_count": null,
            "_view_module": "@jupyter-widgets/controls",
            "_view_module_version": "1.5.0",
            "_view_name": "VBoxView",
            "box_style": "",
            "children": [
              "IPY_MODEL_54c67e7a34704cac96171c50e127fcbc",
              "IPY_MODEL_3fa198ff1b2c46bdad2151a65da465a7"
            ],
            "layout": "IPY_MODEL_5709ae9791b14228ba245318dd311c63"
          }
        },
        "54c67e7a34704cac96171c50e127fcbc": {
          "model_module": "@jupyter-widgets/controls",
          "model_name": "LabelModel",
          "model_module_version": "1.5.0",
          "state": {
            "_dom_classes": [],
            "_model_module": "@jupyter-widgets/controls",
            "_model_module_version": "1.5.0",
            "_model_name": "LabelModel",
            "_view_count": null,
            "_view_module": "@jupyter-widgets/controls",
            "_view_module_version": "1.5.0",
            "_view_name": "LabelView",
            "description": "",
            "description_tooltip": null,
            "layout": "IPY_MODEL_dc27b02f25e446e5975ea918effa9fe5",
            "placeholder": "​",
            "style": "IPY_MODEL_1d5169acf769474d87e238880d709c71",
            "value": "0.300 MB of 0.300 MB uploaded\r"
          }
        },
        "3fa198ff1b2c46bdad2151a65da465a7": {
          "model_module": "@jupyter-widgets/controls",
          "model_name": "FloatProgressModel",
          "model_module_version": "1.5.0",
          "state": {
            "_dom_classes": [],
            "_model_module": "@jupyter-widgets/controls",
            "_model_module_version": "1.5.0",
            "_model_name": "FloatProgressModel",
            "_view_count": null,
            "_view_module": "@jupyter-widgets/controls",
            "_view_module_version": "1.5.0",
            "_view_name": "ProgressView",
            "bar_style": "",
            "description": "",
            "description_tooltip": null,
            "layout": "IPY_MODEL_32172fb2bae14816bab051c6a2e44da8",
            "max": 1,
            "min": 0,
            "orientation": "horizontal",
            "style": "IPY_MODEL_73ebefbdbdf44e6e9401c9b23c5c1dfb",
            "value": 1
          }
        },
        "5709ae9791b14228ba245318dd311c63": {
          "model_module": "@jupyter-widgets/base",
          "model_name": "LayoutModel",
          "model_module_version": "1.2.0",
          "state": {
            "_model_module": "@jupyter-widgets/base",
            "_model_module_version": "1.2.0",
            "_model_name": "LayoutModel",
            "_view_count": null,
            "_view_module": "@jupyter-widgets/base",
            "_view_module_version": "1.2.0",
            "_view_name": "LayoutView",
            "align_content": null,
            "align_items": null,
            "align_self": null,
            "border": null,
            "bottom": null,
            "display": null,
            "flex": null,
            "flex_flow": null,
            "grid_area": null,
            "grid_auto_columns": null,
            "grid_auto_flow": null,
            "grid_auto_rows": null,
            "grid_column": null,
            "grid_gap": null,
            "grid_row": null,
            "grid_template_areas": null,
            "grid_template_columns": null,
            "grid_template_rows": null,
            "height": null,
            "justify_content": null,
            "justify_items": null,
            "left": null,
            "margin": null,
            "max_height": null,
            "max_width": null,
            "min_height": null,
            "min_width": null,
            "object_fit": null,
            "object_position": null,
            "order": null,
            "overflow": null,
            "overflow_x": null,
            "overflow_y": null,
            "padding": null,
            "right": null,
            "top": null,
            "visibility": null,
            "width": null
          }
        },
        "dc27b02f25e446e5975ea918effa9fe5": {
          "model_module": "@jupyter-widgets/base",
          "model_name": "LayoutModel",
          "model_module_version": "1.2.0",
          "state": {
            "_model_module": "@jupyter-widgets/base",
            "_model_module_version": "1.2.0",
            "_model_name": "LayoutModel",
            "_view_count": null,
            "_view_module": "@jupyter-widgets/base",
            "_view_module_version": "1.2.0",
            "_view_name": "LayoutView",
            "align_content": null,
            "align_items": null,
            "align_self": null,
            "border": null,
            "bottom": null,
            "display": null,
            "flex": null,
            "flex_flow": null,
            "grid_area": null,
            "grid_auto_columns": null,
            "grid_auto_flow": null,
            "grid_auto_rows": null,
            "grid_column": null,
            "grid_gap": null,
            "grid_row": null,
            "grid_template_areas": null,
            "grid_template_columns": null,
            "grid_template_rows": null,
            "height": null,
            "justify_content": null,
            "justify_items": null,
            "left": null,
            "margin": null,
            "max_height": null,
            "max_width": null,
            "min_height": null,
            "min_width": null,
            "object_fit": null,
            "object_position": null,
            "order": null,
            "overflow": null,
            "overflow_x": null,
            "overflow_y": null,
            "padding": null,
            "right": null,
            "top": null,
            "visibility": null,
            "width": null
          }
        },
        "1d5169acf769474d87e238880d709c71": {
          "model_module": "@jupyter-widgets/controls",
          "model_name": "DescriptionStyleModel",
          "model_module_version": "1.5.0",
          "state": {
            "_model_module": "@jupyter-widgets/controls",
            "_model_module_version": "1.5.0",
            "_model_name": "DescriptionStyleModel",
            "_view_count": null,
            "_view_module": "@jupyter-widgets/base",
            "_view_module_version": "1.2.0",
            "_view_name": "StyleView",
            "description_width": ""
          }
        },
        "32172fb2bae14816bab051c6a2e44da8": {
          "model_module": "@jupyter-widgets/base",
          "model_name": "LayoutModel",
          "model_module_version": "1.2.0",
          "state": {
            "_model_module": "@jupyter-widgets/base",
            "_model_module_version": "1.2.0",
            "_model_name": "LayoutModel",
            "_view_count": null,
            "_view_module": "@jupyter-widgets/base",
            "_view_module_version": "1.2.0",
            "_view_name": "LayoutView",
            "align_content": null,
            "align_items": null,
            "align_self": null,
            "border": null,
            "bottom": null,
            "display": null,
            "flex": null,
            "flex_flow": null,
            "grid_area": null,
            "grid_auto_columns": null,
            "grid_auto_flow": null,
            "grid_auto_rows": null,
            "grid_column": null,
            "grid_gap": null,
            "grid_row": null,
            "grid_template_areas": null,
            "grid_template_columns": null,
            "grid_template_rows": null,
            "height": null,
            "justify_content": null,
            "justify_items": null,
            "left": null,
            "margin": null,
            "max_height": null,
            "max_width": null,
            "min_height": null,
            "min_width": null,
            "object_fit": null,
            "object_position": null,
            "order": null,
            "overflow": null,
            "overflow_x": null,
            "overflow_y": null,
            "padding": null,
            "right": null,
            "top": null,
            "visibility": null,
            "width": null
          }
        },
        "73ebefbdbdf44e6e9401c9b23c5c1dfb": {
          "model_module": "@jupyter-widgets/controls",
          "model_name": "ProgressStyleModel",
          "model_module_version": "1.5.0",
          "state": {
            "_model_module": "@jupyter-widgets/controls",
            "_model_module_version": "1.5.0",
            "_model_name": "ProgressStyleModel",
            "_view_count": null,
            "_view_module": "@jupyter-widgets/base",
            "_view_module_version": "1.2.0",
            "_view_name": "StyleView",
            "bar_color": null,
            "description_width": ""
          }
        }
      }
    }
  },
  "cells": [
    {
      "cell_type": "markdown",
      "metadata": {
        "id": "view-in-github",
        "colab_type": "text"
      },
      "source": [
        "<a href=\"https://colab.research.google.com/github/UrologyUnbound/SIOP_ML_2024_Discord/blob/main/colabs/Tune_Interview.ipynb\" target=\"_parent\"><img src=\"https://colab.research.google.com/assets/colab-badge.svg\" alt=\"Open In Colab\"/></a>"
      ]
    },
    {
      "cell_type": "markdown",
      "source": [
        "# Generating Interview Responses Model Fine Tuning\n",
        "\n",
        "The goal of this notebook is to fine tune the OpenAI GPT 3.5 model to be able to generate plausible responses to interview questions."
      ],
      "metadata": {
        "id": "szoIzj0nigQo"
      }
    },
    {
      "cell_type": "markdown",
      "source": [
        "# Inputs and Setup"
      ],
      "metadata": {
        "id": "N4oh9_2btpX7"
      }
    },
    {
      "cell_type": "code",
      "execution_count": 1,
      "metadata": {
        "id": "GKy_eE-2CNYX",
        "colab": {
          "base_uri": "https://localhost:8080/"
        },
        "outputId": "fce3c8dc-5af5-4a09-fd43-6f02736a71c9"
      },
      "outputs": [
        {
          "output_type": "stream",
          "name": "stdout",
          "text": [
            "Collecting tiktoken\n",
            "  Downloading tiktoken-0.6.0-cp310-cp310-manylinux_2_17_x86_64.manylinux2014_x86_64.whl (1.8 MB)\n",
            "\u001b[2K     \u001b[90m━━━━━━━━━━━━━━━━━━━━━━━━━━━━━━━━━━━━━━━━\u001b[0m \u001b[32m1.8/1.8 MB\u001b[0m \u001b[31m15.2 MB/s\u001b[0m eta \u001b[36m0:00:00\u001b[0m\n",
            "\u001b[?25hCollecting openai\n",
            "  Downloading openai-1.16.1-py3-none-any.whl (266 kB)\n",
            "\u001b[2K     \u001b[90m━━━━━━━━━━━━━━━━━━━━━━━━━━━━━━━━━━━━━━━━\u001b[0m \u001b[32m266.9/266.9 kB\u001b[0m \u001b[31m11.6 MB/s\u001b[0m eta \u001b[36m0:00:00\u001b[0m\n",
            "\u001b[?25hRequirement already satisfied: regex>=2022.1.18 in /usr/local/lib/python3.10/dist-packages (from tiktoken) (2023.12.25)\n",
            "Requirement already satisfied: requests>=2.26.0 in /usr/local/lib/python3.10/dist-packages (from tiktoken) (2.31.0)\n",
            "Requirement already satisfied: anyio<5,>=3.5.0 in /usr/local/lib/python3.10/dist-packages (from openai) (3.7.1)\n",
            "Requirement already satisfied: distro<2,>=1.7.0 in /usr/lib/python3/dist-packages (from openai) (1.7.0)\n",
            "Collecting httpx<1,>=0.23.0 (from openai)\n",
            "  Downloading httpx-0.27.0-py3-none-any.whl (75 kB)\n",
            "\u001b[2K     \u001b[90m━━━━━━━━━━━━━━━━━━━━━━━━━━━━━━━━━━━━━━━━\u001b[0m \u001b[32m75.6/75.6 kB\u001b[0m \u001b[31m6.8 MB/s\u001b[0m eta \u001b[36m0:00:00\u001b[0m\n",
            "\u001b[?25hRequirement already satisfied: pydantic<3,>=1.9.0 in /usr/local/lib/python3.10/dist-packages (from openai) (2.6.4)\n",
            "Requirement already satisfied: sniffio in /usr/local/lib/python3.10/dist-packages (from openai) (1.3.1)\n",
            "Requirement already satisfied: tqdm>4 in /usr/local/lib/python3.10/dist-packages (from openai) (4.66.2)\n",
            "Requirement already satisfied: typing-extensions<5,>=4.7 in /usr/local/lib/python3.10/dist-packages (from openai) (4.10.0)\n",
            "Requirement already satisfied: idna>=2.8 in /usr/local/lib/python3.10/dist-packages (from anyio<5,>=3.5.0->openai) (3.6)\n",
            "Requirement already satisfied: exceptiongroup in /usr/local/lib/python3.10/dist-packages (from anyio<5,>=3.5.0->openai) (1.2.0)\n",
            "Requirement already satisfied: certifi in /usr/local/lib/python3.10/dist-packages (from httpx<1,>=0.23.0->openai) (2024.2.2)\n",
            "Collecting httpcore==1.* (from httpx<1,>=0.23.0->openai)\n",
            "  Downloading httpcore-1.0.5-py3-none-any.whl (77 kB)\n",
            "\u001b[2K     \u001b[90m━━━━━━━━━━━━━━━━━━━━━━━━━━━━━━━━━━━━━━━━\u001b[0m \u001b[32m77.9/77.9 kB\u001b[0m \u001b[31m4.4 MB/s\u001b[0m eta \u001b[36m0:00:00\u001b[0m\n",
            "\u001b[?25hCollecting h11<0.15,>=0.13 (from httpcore==1.*->httpx<1,>=0.23.0->openai)\n",
            "  Downloading h11-0.14.0-py3-none-any.whl (58 kB)\n",
            "\u001b[2K     \u001b[90m━━━━━━━━━━━━━━━━━━━━━━━━━━━━━━━━━━━━━━━━\u001b[0m \u001b[32m58.3/58.3 kB\u001b[0m \u001b[31m4.4 MB/s\u001b[0m eta \u001b[36m0:00:00\u001b[0m\n",
            "\u001b[?25hRequirement already satisfied: annotated-types>=0.4.0 in /usr/local/lib/python3.10/dist-packages (from pydantic<3,>=1.9.0->openai) (0.6.0)\n",
            "Requirement already satisfied: pydantic-core==2.16.3 in /usr/local/lib/python3.10/dist-packages (from pydantic<3,>=1.9.0->openai) (2.16.3)\n",
            "Requirement already satisfied: charset-normalizer<4,>=2 in /usr/local/lib/python3.10/dist-packages (from requests>=2.26.0->tiktoken) (3.3.2)\n",
            "Requirement already satisfied: urllib3<3,>=1.21.1 in /usr/local/lib/python3.10/dist-packages (from requests>=2.26.0->tiktoken) (2.0.7)\n",
            "Installing collected packages: h11, tiktoken, httpcore, httpx, openai\n",
            "Successfully installed h11-0.14.0 httpcore-1.0.5 httpx-0.27.0 openai-1.16.1 tiktoken-0.6.0\n"
          ]
        }
      ],
      "source": [
        "!pip install --upgrade tiktoken openai"
      ]
    },
    {
      "cell_type": "code",
      "source": [
        "!pip install git+https://github.com/wandb/wandb.git@e688ecc9a816e12aef82878e2ab12befe678a3e6"
      ],
      "metadata": {
        "colab": {
          "base_uri": "https://localhost:8080/"
        },
        "id": "mONRfy38_BYX",
        "outputId": "947c7f64-d672-4535-f4df-24c6bcc4f8c6"
      },
      "execution_count": 2,
      "outputs": [
        {
          "output_type": "stream",
          "name": "stdout",
          "text": [
            "Collecting git+https://github.com/wandb/wandb.git@e688ecc9a816e12aef82878e2ab12befe678a3e6\n",
            "  Cloning https://github.com/wandb/wandb.git (to revision e688ecc9a816e12aef82878e2ab12befe678a3e6) to /tmp/pip-req-build-hss04e0j\n",
            "  Running command git clone --filter=blob:none --quiet https://github.com/wandb/wandb.git /tmp/pip-req-build-hss04e0j\n",
            "  Running command git rev-parse -q --verify 'sha^e688ecc9a816e12aef82878e2ab12befe678a3e6'\n",
            "  Running command git fetch -q https://github.com/wandb/wandb.git e688ecc9a816e12aef82878e2ab12befe678a3e6\n",
            "  Running command git checkout -q e688ecc9a816e12aef82878e2ab12befe678a3e6\n",
            "  Resolved https://github.com/wandb/wandb.git to commit e688ecc9a816e12aef82878e2ab12befe678a3e6\n",
            "  Installing build dependencies ... \u001b[?25l\u001b[?25hdone\n",
            "  Getting requirements to build wheel ... \u001b[?25l\u001b[?25hdone\n",
            "  Installing backend dependencies ... \u001b[?25l\u001b[?25hdone\n",
            "  Preparing metadata (pyproject.toml) ... \u001b[?25l\u001b[?25hdone\n",
            "Requirement already satisfied: Click!=8.0.0,>=7.1 in /usr/local/lib/python3.10/dist-packages (from wandb==0.16.6.dev1) (8.1.7)\n",
            "Collecting GitPython!=3.1.29,>=1.0.0 (from wandb==0.16.6.dev1)\n",
            "  Downloading GitPython-3.1.43-py3-none-any.whl (207 kB)\n",
            "\u001b[2K     \u001b[90m━━━━━━━━━━━━━━━━━━━━━━━━━━━━━━━━━━━━━━━━\u001b[0m \u001b[32m207.3/207.3 kB\u001b[0m \u001b[31m4.3 MB/s\u001b[0m eta \u001b[36m0:00:00\u001b[0m\n",
            "\u001b[?25hRequirement already satisfied: requests<3,>=2.0.0 in /usr/local/lib/python3.10/dist-packages (from wandb==0.16.6.dev1) (2.31.0)\n",
            "Requirement already satisfied: psutil>=5.0.0 in /usr/local/lib/python3.10/dist-packages (from wandb==0.16.6.dev1) (5.9.5)\n",
            "Collecting sentry-sdk>=1.0.0 (from wandb==0.16.6.dev1)\n",
            "  Downloading sentry_sdk-1.44.0-py2.py3-none-any.whl (264 kB)\n",
            "\u001b[2K     \u001b[90m━━━━━━━━━━━━━━━━━━━━━━━━━━━━━━━━━━━━━━━━\u001b[0m \u001b[32m264.9/264.9 kB\u001b[0m \u001b[31m7.0 MB/s\u001b[0m eta \u001b[36m0:00:00\u001b[0m\n",
            "\u001b[?25hCollecting docker-pycreds>=0.4.0 (from wandb==0.16.6.dev1)\n",
            "  Downloading docker_pycreds-0.4.0-py2.py3-none-any.whl (9.0 kB)\n",
            "Requirement already satisfied: PyYAML in /usr/local/lib/python3.10/dist-packages (from wandb==0.16.6.dev1) (6.0.1)\n",
            "Collecting setproctitle (from wandb==0.16.6.dev1)\n",
            "  Downloading setproctitle-1.3.3-cp310-cp310-manylinux_2_5_x86_64.manylinux1_x86_64.manylinux_2_17_x86_64.manylinux2014_x86_64.whl (30 kB)\n",
            "Requirement already satisfied: setuptools in /usr/local/lib/python3.10/dist-packages (from wandb==0.16.6.dev1) (67.7.2)\n",
            "Requirement already satisfied: appdirs>=1.4.3 in /usr/local/lib/python3.10/dist-packages (from wandb==0.16.6.dev1) (1.4.4)\n",
            "Requirement already satisfied: protobuf!=4.21.0,<5,>=3.19.0 in /usr/local/lib/python3.10/dist-packages (from wandb==0.16.6.dev1) (3.20.3)\n",
            "Requirement already satisfied: six>=1.4.0 in /usr/local/lib/python3.10/dist-packages (from docker-pycreds>=0.4.0->wandb==0.16.6.dev1) (1.16.0)\n",
            "Collecting gitdb<5,>=4.0.1 (from GitPython!=3.1.29,>=1.0.0->wandb==0.16.6.dev1)\n",
            "  Downloading gitdb-4.0.11-py3-none-any.whl (62 kB)\n",
            "\u001b[2K     \u001b[90m━━━━━━━━━━━━━━━━━━━━━━━━━━━━━━━━━━━━━━━━\u001b[0m \u001b[32m62.7/62.7 kB\u001b[0m \u001b[31m7.1 MB/s\u001b[0m eta \u001b[36m0:00:00\u001b[0m\n",
            "\u001b[?25hRequirement already satisfied: charset-normalizer<4,>=2 in /usr/local/lib/python3.10/dist-packages (from requests<3,>=2.0.0->wandb==0.16.6.dev1) (3.3.2)\n",
            "Requirement already satisfied: idna<4,>=2.5 in /usr/local/lib/python3.10/dist-packages (from requests<3,>=2.0.0->wandb==0.16.6.dev1) (3.6)\n",
            "Requirement already satisfied: urllib3<3,>=1.21.1 in /usr/local/lib/python3.10/dist-packages (from requests<3,>=2.0.0->wandb==0.16.6.dev1) (2.0.7)\n",
            "Requirement already satisfied: certifi>=2017.4.17 in /usr/local/lib/python3.10/dist-packages (from requests<3,>=2.0.0->wandb==0.16.6.dev1) (2024.2.2)\n",
            "Collecting smmap<6,>=3.0.1 (from gitdb<5,>=4.0.1->GitPython!=3.1.29,>=1.0.0->wandb==0.16.6.dev1)\n",
            "  Downloading smmap-5.0.1-py3-none-any.whl (24 kB)\n",
            "Building wheels for collected packages: wandb\n",
            "  Building wheel for wandb (pyproject.toml) ... \u001b[?25l\u001b[?25hdone\n",
            "  Created wheel for wandb: filename=wandb-0.16.6.dev1-py3-none-any.whl size=2206475 sha256=b2f0c0458aea8327b008f08b1b809334473551a1ee7cdddc8eff7b0b265e00f7\n",
            "  Stored in directory: /root/.cache/pip/wheels/3b/87/3c/bf27c3ce15d5702eb8f33ae3b041720f2442ac5ef1f3e18e48\n",
            "Successfully built wandb\n",
            "Installing collected packages: smmap, setproctitle, sentry-sdk, docker-pycreds, gitdb, GitPython, wandb\n",
            "Successfully installed GitPython-3.1.43 docker-pycreds-0.4.0 gitdb-4.0.11 sentry-sdk-1.44.0 setproctitle-1.3.3 smmap-5.0.1 wandb-0.16.6.dev1\n"
          ]
        }
      ]
    },
    {
      "cell_type": "code",
      "source": [
        "import json\n",
        "import openai\n",
        "import os\n",
        "import pandas as pd\n",
        "from pprint import pprint\n",
        "import tiktoken\n",
        "from sklearn.model_selection import train_test_split\n",
        "from google.colab import userdata\n",
        "import numpy as np\n",
        "from collections import defaultdict\n",
        "from wandb.integration.openai.fine_tuning import WandbLogger\n",
        "\n",
        "\n",
        "client = openai.OpenAI(api_key=userdata.get('OPENAI_API_KEY'))\n",
        "encoding = tiktoken.get_encoding(\"cl100k_base\")\n",
        "\n",
        "WANDB_PROJECT = \"OpenAI-Interview-Fine-Tune\""
      ],
      "metadata": {
        "id": "C0RPc06wjC0S"
      },
      "execution_count": 3,
      "outputs": []
    },
    {
      "cell_type": "code",
      "source": [
        "#Estimated token counter\n",
        "def num_tokens_from_messages(messages, tokens_per_message=3, tokens_per_name=1):\n",
        "    num_tokens = 0\n",
        "    for message in messages:\n",
        "        num_tokens += tokens_per_message\n",
        "        for key, value in message.items():\n",
        "            num_tokens += len(encoding.encode(value))\n",
        "            if key == \"name\":\n",
        "                num_tokens += tokens_per_name\n",
        "    num_tokens += 3\n",
        "    return num_tokens\n",
        "\n",
        "def num_assistant_tokens_from_messages(messages):\n",
        "    num_tokens = 0\n",
        "    for message in messages:\n",
        "        if message[\"role\"] == \"assistant\":\n",
        "            num_tokens += len(encoding.encode(message[\"content\"]))\n",
        "    return num_tokens\n",
        "\n",
        "def print_distribution(values, name):\n",
        "    print(f\"\\n#### Distribution of {name}:\")\n",
        "    print(f\"min / max: {min(values)}, {max(values)}\")\n",
        "    print(f\"mean / median: {np.mean(values)}, {np.median(values)}\")\n",
        "    print(f\"p5 / p95: {np.quantile(values, 0.1)}, {np.quantile(values, 0.9)}\")"
      ],
      "metadata": {
        "id": "DVKwOpC4jct_"
      },
      "execution_count": 4,
      "outputs": []
    },
    {
      "cell_type": "markdown",
      "source": [
        "# Data Import and Prep"
      ],
      "metadata": {
        "id": "5v1EGN2htljZ"
      }
    },
    {
      "cell_type": "code",
      "source": [
        "df_interview = pd.read_csv(\"https://raw.githubusercontent.com/UrologyUnbound/SIOP_ML_2024_Discord/main/data/train/interview_train.csv\")\n",
        "df_interview.head()"
      ],
      "metadata": {
        "id": "039MvxwBje-x",
        "outputId": "65660d78-b99a-48a4-bb24-364e08953345",
        "colab": {
          "base_uri": "https://localhost:8080/",
          "height": 206
        }
      },
      "execution_count": 5,
      "outputs": [
        {
          "output_type": "execute_result",
          "data": {
            "text/plain": [
              "                 _id                                  questions_answers  \\\n",
              "0  R_2q2WQ6Icq6pcuvZ  Question: Learning new skills keeps us competi...   \n",
              "1  R_3phEOOtqg43Bt0X  Question: Can you walk me through your decisio...   \n",
              "2  R_3Olf80hXULyekYV  Question: How do you ensure that your skills s...   \n",
              "3  R_1HdTINcsBSXfECD  Question: Describe a time when you felt overwh...   \n",
              "4  R_1o4H0qHXqhhtHEd  Question: Can you walk me through your decisio...   \n",
              "\n",
              "                                         last_answer  \n",
              "0  When motivating a team, I try to persuade them...  \n",
              "1  I use task prioritization and time blocking in...  \n",
              "2  I attended a women in business panel conferenc...  \n",
              "3  Contrast is criticism is something that I real...  \n",
              "4  At work one major change I had to face was wor...  "
            ],
            "text/html": [
              "\n",
              "  <div id=\"df-edcd032b-a07b-44da-bf68-01c9ebf9a829\" class=\"colab-df-container\">\n",
              "    <div>\n",
              "<style scoped>\n",
              "    .dataframe tbody tr th:only-of-type {\n",
              "        vertical-align: middle;\n",
              "    }\n",
              "\n",
              "    .dataframe tbody tr th {\n",
              "        vertical-align: top;\n",
              "    }\n",
              "\n",
              "    .dataframe thead th {\n",
              "        text-align: right;\n",
              "    }\n",
              "</style>\n",
              "<table border=\"1\" class=\"dataframe\">\n",
              "  <thead>\n",
              "    <tr style=\"text-align: right;\">\n",
              "      <th></th>\n",
              "      <th>_id</th>\n",
              "      <th>questions_answers</th>\n",
              "      <th>last_answer</th>\n",
              "    </tr>\n",
              "  </thead>\n",
              "  <tbody>\n",
              "    <tr>\n",
              "      <th>0</th>\n",
              "      <td>R_2q2WQ6Icq6pcuvZ</td>\n",
              "      <td>Question: Learning new skills keeps us competi...</td>\n",
              "      <td>When motivating a team, I try to persuade them...</td>\n",
              "    </tr>\n",
              "    <tr>\n",
              "      <th>1</th>\n",
              "      <td>R_3phEOOtqg43Bt0X</td>\n",
              "      <td>Question: Can you walk me through your decisio...</td>\n",
              "      <td>I use task prioritization and time blocking in...</td>\n",
              "    </tr>\n",
              "    <tr>\n",
              "      <th>2</th>\n",
              "      <td>R_3Olf80hXULyekYV</td>\n",
              "      <td>Question: How do you ensure that your skills s...</td>\n",
              "      <td>I attended a women in business panel conferenc...</td>\n",
              "    </tr>\n",
              "    <tr>\n",
              "      <th>3</th>\n",
              "      <td>R_1HdTINcsBSXfECD</td>\n",
              "      <td>Question: Describe a time when you felt overwh...</td>\n",
              "      <td>Contrast is criticism is something that I real...</td>\n",
              "    </tr>\n",
              "    <tr>\n",
              "      <th>4</th>\n",
              "      <td>R_1o4H0qHXqhhtHEd</td>\n",
              "      <td>Question: Can you walk me through your decisio...</td>\n",
              "      <td>At work one major change I had to face was wor...</td>\n",
              "    </tr>\n",
              "  </tbody>\n",
              "</table>\n",
              "</div>\n",
              "    <div class=\"colab-df-buttons\">\n",
              "\n",
              "  <div class=\"colab-df-container\">\n",
              "    <button class=\"colab-df-convert\" onclick=\"convertToInteractive('df-edcd032b-a07b-44da-bf68-01c9ebf9a829')\"\n",
              "            title=\"Convert this dataframe to an interactive table.\"\n",
              "            style=\"display:none;\">\n",
              "\n",
              "  <svg xmlns=\"http://www.w3.org/2000/svg\" height=\"24px\" viewBox=\"0 -960 960 960\">\n",
              "    <path d=\"M120-120v-720h720v720H120Zm60-500h600v-160H180v160Zm220 220h160v-160H400v160Zm0 220h160v-160H400v160ZM180-400h160v-160H180v160Zm440 0h160v-160H620v160ZM180-180h160v-160H180v160Zm440 0h160v-160H620v160Z\"/>\n",
              "  </svg>\n",
              "    </button>\n",
              "\n",
              "  <style>\n",
              "    .colab-df-container {\n",
              "      display:flex;\n",
              "      gap: 12px;\n",
              "    }\n",
              "\n",
              "    .colab-df-convert {\n",
              "      background-color: #E8F0FE;\n",
              "      border: none;\n",
              "      border-radius: 50%;\n",
              "      cursor: pointer;\n",
              "      display: none;\n",
              "      fill: #1967D2;\n",
              "      height: 32px;\n",
              "      padding: 0 0 0 0;\n",
              "      width: 32px;\n",
              "    }\n",
              "\n",
              "    .colab-df-convert:hover {\n",
              "      background-color: #E2EBFA;\n",
              "      box-shadow: 0px 1px 2px rgba(60, 64, 67, 0.3), 0px 1px 3px 1px rgba(60, 64, 67, 0.15);\n",
              "      fill: #174EA6;\n",
              "    }\n",
              "\n",
              "    .colab-df-buttons div {\n",
              "      margin-bottom: 4px;\n",
              "    }\n",
              "\n",
              "    [theme=dark] .colab-df-convert {\n",
              "      background-color: #3B4455;\n",
              "      fill: #D2E3FC;\n",
              "    }\n",
              "\n",
              "    [theme=dark] .colab-df-convert:hover {\n",
              "      background-color: #434B5C;\n",
              "      box-shadow: 0px 1px 3px 1px rgba(0, 0, 0, 0.15);\n",
              "      filter: drop-shadow(0px 1px 2px rgba(0, 0, 0, 0.3));\n",
              "      fill: #FFFFFF;\n",
              "    }\n",
              "  </style>\n",
              "\n",
              "    <script>\n",
              "      const buttonEl =\n",
              "        document.querySelector('#df-edcd032b-a07b-44da-bf68-01c9ebf9a829 button.colab-df-convert');\n",
              "      buttonEl.style.display =\n",
              "        google.colab.kernel.accessAllowed ? 'block' : 'none';\n",
              "\n",
              "      async function convertToInteractive(key) {\n",
              "        const element = document.querySelector('#df-edcd032b-a07b-44da-bf68-01c9ebf9a829');\n",
              "        const dataTable =\n",
              "          await google.colab.kernel.invokeFunction('convertToInteractive',\n",
              "                                                    [key], {});\n",
              "        if (!dataTable) return;\n",
              "\n",
              "        const docLinkHtml = 'Like what you see? Visit the ' +\n",
              "          '<a target=\"_blank\" href=https://colab.research.google.com/notebooks/data_table.ipynb>data table notebook</a>'\n",
              "          + ' to learn more about interactive tables.';\n",
              "        element.innerHTML = '';\n",
              "        dataTable['output_type'] = 'display_data';\n",
              "        await google.colab.output.renderOutput(dataTable, element);\n",
              "        const docLink = document.createElement('div');\n",
              "        docLink.innerHTML = docLinkHtml;\n",
              "        element.appendChild(docLink);\n",
              "      }\n",
              "    </script>\n",
              "  </div>\n",
              "\n",
              "\n",
              "<div id=\"df-b63f3959-edf0-4599-b8ca-2f723c1d8a79\">\n",
              "  <button class=\"colab-df-quickchart\" onclick=\"quickchart('df-b63f3959-edf0-4599-b8ca-2f723c1d8a79')\"\n",
              "            title=\"Suggest charts\"\n",
              "            style=\"display:none;\">\n",
              "\n",
              "<svg xmlns=\"http://www.w3.org/2000/svg\" height=\"24px\"viewBox=\"0 0 24 24\"\n",
              "     width=\"24px\">\n",
              "    <g>\n",
              "        <path d=\"M19 3H5c-1.1 0-2 .9-2 2v14c0 1.1.9 2 2 2h14c1.1 0 2-.9 2-2V5c0-1.1-.9-2-2-2zM9 17H7v-7h2v7zm4 0h-2V7h2v10zm4 0h-2v-4h2v4z\"/>\n",
              "    </g>\n",
              "</svg>\n",
              "  </button>\n",
              "\n",
              "<style>\n",
              "  .colab-df-quickchart {\n",
              "      --bg-color: #E8F0FE;\n",
              "      --fill-color: #1967D2;\n",
              "      --hover-bg-color: #E2EBFA;\n",
              "      --hover-fill-color: #174EA6;\n",
              "      --disabled-fill-color: #AAA;\n",
              "      --disabled-bg-color: #DDD;\n",
              "  }\n",
              "\n",
              "  [theme=dark] .colab-df-quickchart {\n",
              "      --bg-color: #3B4455;\n",
              "      --fill-color: #D2E3FC;\n",
              "      --hover-bg-color: #434B5C;\n",
              "      --hover-fill-color: #FFFFFF;\n",
              "      --disabled-bg-color: #3B4455;\n",
              "      --disabled-fill-color: #666;\n",
              "  }\n",
              "\n",
              "  .colab-df-quickchart {\n",
              "    background-color: var(--bg-color);\n",
              "    border: none;\n",
              "    border-radius: 50%;\n",
              "    cursor: pointer;\n",
              "    display: none;\n",
              "    fill: var(--fill-color);\n",
              "    height: 32px;\n",
              "    padding: 0;\n",
              "    width: 32px;\n",
              "  }\n",
              "\n",
              "  .colab-df-quickchart:hover {\n",
              "    background-color: var(--hover-bg-color);\n",
              "    box-shadow: 0 1px 2px rgba(60, 64, 67, 0.3), 0 1px 3px 1px rgba(60, 64, 67, 0.15);\n",
              "    fill: var(--button-hover-fill-color);\n",
              "  }\n",
              "\n",
              "  .colab-df-quickchart-complete:disabled,\n",
              "  .colab-df-quickchart-complete:disabled:hover {\n",
              "    background-color: var(--disabled-bg-color);\n",
              "    fill: var(--disabled-fill-color);\n",
              "    box-shadow: none;\n",
              "  }\n",
              "\n",
              "  .colab-df-spinner {\n",
              "    border: 2px solid var(--fill-color);\n",
              "    border-color: transparent;\n",
              "    border-bottom-color: var(--fill-color);\n",
              "    animation:\n",
              "      spin 1s steps(1) infinite;\n",
              "  }\n",
              "\n",
              "  @keyframes spin {\n",
              "    0% {\n",
              "      border-color: transparent;\n",
              "      border-bottom-color: var(--fill-color);\n",
              "      border-left-color: var(--fill-color);\n",
              "    }\n",
              "    20% {\n",
              "      border-color: transparent;\n",
              "      border-left-color: var(--fill-color);\n",
              "      border-top-color: var(--fill-color);\n",
              "    }\n",
              "    30% {\n",
              "      border-color: transparent;\n",
              "      border-left-color: var(--fill-color);\n",
              "      border-top-color: var(--fill-color);\n",
              "      border-right-color: var(--fill-color);\n",
              "    }\n",
              "    40% {\n",
              "      border-color: transparent;\n",
              "      border-right-color: var(--fill-color);\n",
              "      border-top-color: var(--fill-color);\n",
              "    }\n",
              "    60% {\n",
              "      border-color: transparent;\n",
              "      border-right-color: var(--fill-color);\n",
              "    }\n",
              "    80% {\n",
              "      border-color: transparent;\n",
              "      border-right-color: var(--fill-color);\n",
              "      border-bottom-color: var(--fill-color);\n",
              "    }\n",
              "    90% {\n",
              "      border-color: transparent;\n",
              "      border-bottom-color: var(--fill-color);\n",
              "    }\n",
              "  }\n",
              "</style>\n",
              "\n",
              "  <script>\n",
              "    async function quickchart(key) {\n",
              "      const quickchartButtonEl =\n",
              "        document.querySelector('#' + key + ' button');\n",
              "      quickchartButtonEl.disabled = true;  // To prevent multiple clicks.\n",
              "      quickchartButtonEl.classList.add('colab-df-spinner');\n",
              "      try {\n",
              "        const charts = await google.colab.kernel.invokeFunction(\n",
              "            'suggestCharts', [key], {});\n",
              "      } catch (error) {\n",
              "        console.error('Error during call to suggestCharts:', error);\n",
              "      }\n",
              "      quickchartButtonEl.classList.remove('colab-df-spinner');\n",
              "      quickchartButtonEl.classList.add('colab-df-quickchart-complete');\n",
              "    }\n",
              "    (() => {\n",
              "      let quickchartButtonEl =\n",
              "        document.querySelector('#df-b63f3959-edf0-4599-b8ca-2f723c1d8a79 button');\n",
              "      quickchartButtonEl.style.display =\n",
              "        google.colab.kernel.accessAllowed ? 'block' : 'none';\n",
              "    })();\n",
              "  </script>\n",
              "</div>\n",
              "\n",
              "    </div>\n",
              "  </div>\n"
            ],
            "application/vnd.google.colaboratory.intrinsic+json": {
              "type": "dataframe",
              "variable_name": "df_interview",
              "summary": "{\n  \"name\": \"df_interview\",\n  \"rows\": 19,\n  \"fields\": [\n    {\n      \"column\": \"_id\",\n      \"properties\": {\n        \"dtype\": \"string\",\n        \"num_unique_values\": 19,\n        \"samples\": [\n          \"R_2q2WQ6Icq6pcuvZ\",\n          \"R_Z8IUInp0P7XixwZ\",\n          \"R_dj6dq3ucSzBgyNH\"\n        ],\n        \"semantic_type\": \"\",\n        \"description\": \"\"\n      }\n    },\n    {\n      \"column\": \"questions_answers\",\n      \"properties\": {\n        \"dtype\": \"string\",\n        \"num_unique_values\": 19,\n        \"samples\": [\n          \"Question: Learning new skills keeps us competitive and relevant. Can you describe your approach to acquiring new skills, perhaps providing an example of a recent skill you've learned?\\r\\nResponse: I acquire new skills by trying to be present and reflective on my life. If I am learning in class, I try to pay attention to the concepts the professor is getting at to help gain skills. In life, I like to look back at any experience and take it as a lesson, the good and the bad. Often times, so time must pass before I truly gain a new skill. However, time is not always a bad thing.Question: Can you share an instance when you saw someone you knew who needed help, and you weren't sure what the right answer was?\\r\\nResponse: An instance where I saw someone who needed help but I was not sure what to do was when a friend was in danger, but had broken the law. She needed medical assistance but there was a fear that she would get in trouble. It was determined that her well being is what matters most, which is true. Help was called for her and she was okay. I am happy with the decision made and learned a valuable lesson.Question: Walk me through your approach when assessing a new project's requirements.\\r\\nResponse: When assessing a new project's requirements, first I start by reading all directions. Once they are read, I go back to the first one and think of what I need to do for that specific requirement. I will go through each requirement and take notes on what is appropriate for each step. Then, I will complete all requirements. Finally, when finished, I will re-read all requirements before submitting.Question: When thinking about motivating your team, what strategies do you employ? Can you provide an instance where this was particularly effective?\",\n          \"Question: Everyone faces moments of low motivation. Can you share a story about how you've handled such a moment, including the steps you took to regain your drive and enthusiasm?\\r\\nResponse: When faced with a bout of low motivation, I found myself in a situation where my laundry had piled up to an overwhelming extent. It got to the point where I had no clean clothes left and my laundry room was in disarray. Realizing that I couldn't continue this way, I decided to take action. First, I broke the task down into smaller, manageable steps. I sorted the laundry, prioritizing what needed to be washed first. Then, I set a timer for short bursts of focused effort to make the process feel less daunting. This approach helped me regain my drive and before I knew it, I had clean clothes and an organized laundry room, leaving me with a sense of accomplishment and renewed motivation.Question: Can you talk about how you stay productive under such conditions you have a flexible work schedule, and share strategies that have worked for you?\\r\\nResponse: With a flexible work schedule and a challenging 19-credit course load, maintaining productivity is crucial. Since most of my classes occur on Tuesdays and Thursdays, I've learned to make the most of my other days. Establishing a structured routine has been a game-changer. Every morning, I make sure to get dressed, tidy up my space, and prepare a nutritious breakfast. This small ritual sets a productive tone for the rest of the day. Additionally, I employ time-blocking strategies to allocate specific time slots for studying, work tasks, and personal activities, ensuring focused and efficient use of my time. Finally, I've created a dedicated workspace that's free from distractions, providing an environment conducive to deep work. Regularly revisiting and adjusting my to-do lists helps me stay aligned with my academic and professional goals. This combination of routine, time management, and a conducive work environment has proven invaluable in staying productive under these conditions.Question: Describe a time when you felt overwhelmed at work. How did you handle it, and what strategies did you use to manage the situation?\\r\\nResponse: Balancing a full-time job, schooling, and nannying from 5 to 8 left me feeling consistently overwhelmed. The demands of my 8-5 job, coupled with the responsibilities of nannying, left me with minimal time to devote to my coursework. Faced with this challenge, I knew I needed a creative solution. I devised a plan to set up the children I nanny for with a safe and engaging activity, ensuring they were occupied while I focused on my school work. This not only provided them with a constructive pastime but also afforded me the precious moments I needed to complete assignments. This strategy allowed me to effectively manage my time and responsibilities, ultimately alleviating the overwhelming feeling that had previously plagued me.Question: Can you share a detailed story about a time when you effectively delegated tasks to members of your team, emphasizing how you decided who would do what?\",\n          \"Question: Can you share a detailed story about a time when you effectively delegated tasks to members of your team, emphasizing how you decided who would do what?\\r\\nResponse: When I was a senior in high school, I was the head editor for the yearbook. I would spend my mornings making sheets for each student to complete by the afternoon. If they didn't receive a sheet, they were talked to individually on a house keeping task such as organizing or hanging flyers. This worked out well because each student was talked to individually while also doing what they wanted.Question: Identifying the root cause of a problem is key to solving it. Can you discuss your approach to problem-solving, providing a specific example?\\r\\nResponse: When problem solving, I pick one aspect and look into how it is helping or hurting the situation. For example, when looking into food allergies you would remove what was thought to be causing the reaction and assess how the person feels. Question: Recount a time when you missed a deadline. How did you manage the situation and its repercussions?\\r\\nResponse: I missed a deadline for a recent homework assignment. I went through the syllabus and noticed that the lowest homework grade would be dropped. If it wasn't for this, my grade would have been impacted. This scare led me to create a better schedule.Question: Share a moment when you were faced with a tough decision. How did you deliberate and arrive at your conclusion?\"\n        ],\n        \"semantic_type\": \"\",\n        \"description\": \"\"\n      }\n    },\n    {\n      \"column\": \"last_answer\",\n      \"properties\": {\n        \"dtype\": \"string\",\n        \"num_unique_values\": 19,\n        \"samples\": [\n          \"When motivating a team, I try to persuade them. I try and show them why they should be motivated. An example is explaining the pros and cons, showing them how the pros are worth it. A setting where this is effective is in a group project. Telling my team that if they spend more time outside of class, they will likely produce a better product resulting in a better grade, can be motivating.\",\n          \"In a prior project involving a critical Business Intelligence and Technology (BIT) initiative reliant on Excel proficiency, I strategically delegated tasks to maximize team efficiency. Recognizing individual strengths, I assigned roles accordingly. One team member, with a sharp eye for detail, took charge of scripting, ensuring precision in our approach. Another excelled in navigating Excel's complexities, proving invaluable in plugging in essential formulas. A team member adept at rapid mental math tackled quick calculations with finesse. Lastly, I entrusted the remaining member with providing crucial support and troubleshooting any unforeseen challenges. This tailored delegation approach not only harnessed each team member's unique abilities but also led to a seamless project execution, ultimately yielding a successful and timely completion.\",\n          \"I was faced with a tough decision when deciding what college to attend. I debated between a college close to home and far away. While I wanted to go far away to experience something new, I chose to stay close because I would be able to see my family more and go home more than just at winter break.\"\n        ],\n        \"semantic_type\": \"\",\n        \"description\": \"\"\n      }\n    }\n  ]\n}"
            }
          },
          "metadata": {},
          "execution_count": 5
        }
      ]
    },
    {
      "cell_type": "code",
      "source": [
        "x_train,x_test,y_train,y_test = train_test_split(df_interview[\"questions_answers\"],df_interview[\"last_answer\"],random_state=42,test_size = 0.2, shuffle = True)\n",
        "train_data = pd.concat([x_train , y_train], axis = 1)\n",
        "test_data = pd.concat([x_train , y_train], axis = 1)\n",
        "train_data.head()"
      ],
      "metadata": {
        "id": "hgJPj3AfkgQC",
        "outputId": "88d5e12a-674e-4d95-c955-c22aeb6c5611",
        "colab": {
          "base_uri": "https://localhost:8080/",
          "height": 206
        }
      },
      "execution_count": 6,
      "outputs": [
        {
          "output_type": "execute_result",
          "data": {
            "text/plain": [
              "                                    questions_answers  \\\n",
              "8   Question: Can you walk me through the various ...   \n",
              "16  Question: Share your strategies for maintainin...   \n",
              "3   Question: Describe a time when you felt overwh...   \n",
              "13  Question: Describe an occasion where you juggl...   \n",
              "15  Question: Share your strategies for maintainin...   \n",
              "\n",
              "                                          last_answer  \n",
              "8   When I was faced with the decision of whether ...  \n",
              "16  It's important to understand that your coworke...  \n",
              "3   Contrast is criticism is something that I real...  \n",
              "13  For one of my graduate-level classes, I had a ...  \n",
              "15  As an overworked high schooler I often had to ...  "
            ],
            "text/html": [
              "\n",
              "  <div id=\"df-258cbc00-c570-429e-b4e8-7f1522017904\" class=\"colab-df-container\">\n",
              "    <div>\n",
              "<style scoped>\n",
              "    .dataframe tbody tr th:only-of-type {\n",
              "        vertical-align: middle;\n",
              "    }\n",
              "\n",
              "    .dataframe tbody tr th {\n",
              "        vertical-align: top;\n",
              "    }\n",
              "\n",
              "    .dataframe thead th {\n",
              "        text-align: right;\n",
              "    }\n",
              "</style>\n",
              "<table border=\"1\" class=\"dataframe\">\n",
              "  <thead>\n",
              "    <tr style=\"text-align: right;\">\n",
              "      <th></th>\n",
              "      <th>questions_answers</th>\n",
              "      <th>last_answer</th>\n",
              "    </tr>\n",
              "  </thead>\n",
              "  <tbody>\n",
              "    <tr>\n",
              "      <th>8</th>\n",
              "      <td>Question: Can you walk me through the various ...</td>\n",
              "      <td>When I was faced with the decision of whether ...</td>\n",
              "    </tr>\n",
              "    <tr>\n",
              "      <th>16</th>\n",
              "      <td>Question: Share your strategies for maintainin...</td>\n",
              "      <td>It's important to understand that your coworke...</td>\n",
              "    </tr>\n",
              "    <tr>\n",
              "      <th>3</th>\n",
              "      <td>Question: Describe a time when you felt overwh...</td>\n",
              "      <td>Contrast is criticism is something that I real...</td>\n",
              "    </tr>\n",
              "    <tr>\n",
              "      <th>13</th>\n",
              "      <td>Question: Describe an occasion where you juggl...</td>\n",
              "      <td>For one of my graduate-level classes, I had a ...</td>\n",
              "    </tr>\n",
              "    <tr>\n",
              "      <th>15</th>\n",
              "      <td>Question: Share your strategies for maintainin...</td>\n",
              "      <td>As an overworked high schooler I often had to ...</td>\n",
              "    </tr>\n",
              "  </tbody>\n",
              "</table>\n",
              "</div>\n",
              "    <div class=\"colab-df-buttons\">\n",
              "\n",
              "  <div class=\"colab-df-container\">\n",
              "    <button class=\"colab-df-convert\" onclick=\"convertToInteractive('df-258cbc00-c570-429e-b4e8-7f1522017904')\"\n",
              "            title=\"Convert this dataframe to an interactive table.\"\n",
              "            style=\"display:none;\">\n",
              "\n",
              "  <svg xmlns=\"http://www.w3.org/2000/svg\" height=\"24px\" viewBox=\"0 -960 960 960\">\n",
              "    <path d=\"M120-120v-720h720v720H120Zm60-500h600v-160H180v160Zm220 220h160v-160H400v160Zm0 220h160v-160H400v160ZM180-400h160v-160H180v160Zm440 0h160v-160H620v160ZM180-180h160v-160H180v160Zm440 0h160v-160H620v160Z\"/>\n",
              "  </svg>\n",
              "    </button>\n",
              "\n",
              "  <style>\n",
              "    .colab-df-container {\n",
              "      display:flex;\n",
              "      gap: 12px;\n",
              "    }\n",
              "\n",
              "    .colab-df-convert {\n",
              "      background-color: #E8F0FE;\n",
              "      border: none;\n",
              "      border-radius: 50%;\n",
              "      cursor: pointer;\n",
              "      display: none;\n",
              "      fill: #1967D2;\n",
              "      height: 32px;\n",
              "      padding: 0 0 0 0;\n",
              "      width: 32px;\n",
              "    }\n",
              "\n",
              "    .colab-df-convert:hover {\n",
              "      background-color: #E2EBFA;\n",
              "      box-shadow: 0px 1px 2px rgba(60, 64, 67, 0.3), 0px 1px 3px 1px rgba(60, 64, 67, 0.15);\n",
              "      fill: #174EA6;\n",
              "    }\n",
              "\n",
              "    .colab-df-buttons div {\n",
              "      margin-bottom: 4px;\n",
              "    }\n",
              "\n",
              "    [theme=dark] .colab-df-convert {\n",
              "      background-color: #3B4455;\n",
              "      fill: #D2E3FC;\n",
              "    }\n",
              "\n",
              "    [theme=dark] .colab-df-convert:hover {\n",
              "      background-color: #434B5C;\n",
              "      box-shadow: 0px 1px 3px 1px rgba(0, 0, 0, 0.15);\n",
              "      filter: drop-shadow(0px 1px 2px rgba(0, 0, 0, 0.3));\n",
              "      fill: #FFFFFF;\n",
              "    }\n",
              "  </style>\n",
              "\n",
              "    <script>\n",
              "      const buttonEl =\n",
              "        document.querySelector('#df-258cbc00-c570-429e-b4e8-7f1522017904 button.colab-df-convert');\n",
              "      buttonEl.style.display =\n",
              "        google.colab.kernel.accessAllowed ? 'block' : 'none';\n",
              "\n",
              "      async function convertToInteractive(key) {\n",
              "        const element = document.querySelector('#df-258cbc00-c570-429e-b4e8-7f1522017904');\n",
              "        const dataTable =\n",
              "          await google.colab.kernel.invokeFunction('convertToInteractive',\n",
              "                                                    [key], {});\n",
              "        if (!dataTable) return;\n",
              "\n",
              "        const docLinkHtml = 'Like what you see? Visit the ' +\n",
              "          '<a target=\"_blank\" href=https://colab.research.google.com/notebooks/data_table.ipynb>data table notebook</a>'\n",
              "          + ' to learn more about interactive tables.';\n",
              "        element.innerHTML = '';\n",
              "        dataTable['output_type'] = 'display_data';\n",
              "        await google.colab.output.renderOutput(dataTable, element);\n",
              "        const docLink = document.createElement('div');\n",
              "        docLink.innerHTML = docLinkHtml;\n",
              "        element.appendChild(docLink);\n",
              "      }\n",
              "    </script>\n",
              "  </div>\n",
              "\n",
              "\n",
              "<div id=\"df-9d9a41c8-866b-44ad-be4a-7885d6ec90be\">\n",
              "  <button class=\"colab-df-quickchart\" onclick=\"quickchart('df-9d9a41c8-866b-44ad-be4a-7885d6ec90be')\"\n",
              "            title=\"Suggest charts\"\n",
              "            style=\"display:none;\">\n",
              "\n",
              "<svg xmlns=\"http://www.w3.org/2000/svg\" height=\"24px\"viewBox=\"0 0 24 24\"\n",
              "     width=\"24px\">\n",
              "    <g>\n",
              "        <path d=\"M19 3H5c-1.1 0-2 .9-2 2v14c0 1.1.9 2 2 2h14c1.1 0 2-.9 2-2V5c0-1.1-.9-2-2-2zM9 17H7v-7h2v7zm4 0h-2V7h2v10zm4 0h-2v-4h2v4z\"/>\n",
              "    </g>\n",
              "</svg>\n",
              "  </button>\n",
              "\n",
              "<style>\n",
              "  .colab-df-quickchart {\n",
              "      --bg-color: #E8F0FE;\n",
              "      --fill-color: #1967D2;\n",
              "      --hover-bg-color: #E2EBFA;\n",
              "      --hover-fill-color: #174EA6;\n",
              "      --disabled-fill-color: #AAA;\n",
              "      --disabled-bg-color: #DDD;\n",
              "  }\n",
              "\n",
              "  [theme=dark] .colab-df-quickchart {\n",
              "      --bg-color: #3B4455;\n",
              "      --fill-color: #D2E3FC;\n",
              "      --hover-bg-color: #434B5C;\n",
              "      --hover-fill-color: #FFFFFF;\n",
              "      --disabled-bg-color: #3B4455;\n",
              "      --disabled-fill-color: #666;\n",
              "  }\n",
              "\n",
              "  .colab-df-quickchart {\n",
              "    background-color: var(--bg-color);\n",
              "    border: none;\n",
              "    border-radius: 50%;\n",
              "    cursor: pointer;\n",
              "    display: none;\n",
              "    fill: var(--fill-color);\n",
              "    height: 32px;\n",
              "    padding: 0;\n",
              "    width: 32px;\n",
              "  }\n",
              "\n",
              "  .colab-df-quickchart:hover {\n",
              "    background-color: var(--hover-bg-color);\n",
              "    box-shadow: 0 1px 2px rgba(60, 64, 67, 0.3), 0 1px 3px 1px rgba(60, 64, 67, 0.15);\n",
              "    fill: var(--button-hover-fill-color);\n",
              "  }\n",
              "\n",
              "  .colab-df-quickchart-complete:disabled,\n",
              "  .colab-df-quickchart-complete:disabled:hover {\n",
              "    background-color: var(--disabled-bg-color);\n",
              "    fill: var(--disabled-fill-color);\n",
              "    box-shadow: none;\n",
              "  }\n",
              "\n",
              "  .colab-df-spinner {\n",
              "    border: 2px solid var(--fill-color);\n",
              "    border-color: transparent;\n",
              "    border-bottom-color: var(--fill-color);\n",
              "    animation:\n",
              "      spin 1s steps(1) infinite;\n",
              "  }\n",
              "\n",
              "  @keyframes spin {\n",
              "    0% {\n",
              "      border-color: transparent;\n",
              "      border-bottom-color: var(--fill-color);\n",
              "      border-left-color: var(--fill-color);\n",
              "    }\n",
              "    20% {\n",
              "      border-color: transparent;\n",
              "      border-left-color: var(--fill-color);\n",
              "      border-top-color: var(--fill-color);\n",
              "    }\n",
              "    30% {\n",
              "      border-color: transparent;\n",
              "      border-left-color: var(--fill-color);\n",
              "      border-top-color: var(--fill-color);\n",
              "      border-right-color: var(--fill-color);\n",
              "    }\n",
              "    40% {\n",
              "      border-color: transparent;\n",
              "      border-right-color: var(--fill-color);\n",
              "      border-top-color: var(--fill-color);\n",
              "    }\n",
              "    60% {\n",
              "      border-color: transparent;\n",
              "      border-right-color: var(--fill-color);\n",
              "    }\n",
              "    80% {\n",
              "      border-color: transparent;\n",
              "      border-right-color: var(--fill-color);\n",
              "      border-bottom-color: var(--fill-color);\n",
              "    }\n",
              "    90% {\n",
              "      border-color: transparent;\n",
              "      border-bottom-color: var(--fill-color);\n",
              "    }\n",
              "  }\n",
              "</style>\n",
              "\n",
              "  <script>\n",
              "    async function quickchart(key) {\n",
              "      const quickchartButtonEl =\n",
              "        document.querySelector('#' + key + ' button');\n",
              "      quickchartButtonEl.disabled = true;  // To prevent multiple clicks.\n",
              "      quickchartButtonEl.classList.add('colab-df-spinner');\n",
              "      try {\n",
              "        const charts = await google.colab.kernel.invokeFunction(\n",
              "            'suggestCharts', [key], {});\n",
              "      } catch (error) {\n",
              "        console.error('Error during call to suggestCharts:', error);\n",
              "      }\n",
              "      quickchartButtonEl.classList.remove('colab-df-spinner');\n",
              "      quickchartButtonEl.classList.add('colab-df-quickchart-complete');\n",
              "    }\n",
              "    (() => {\n",
              "      let quickchartButtonEl =\n",
              "        document.querySelector('#df-9d9a41c8-866b-44ad-be4a-7885d6ec90be button');\n",
              "      quickchartButtonEl.style.display =\n",
              "        google.colab.kernel.accessAllowed ? 'block' : 'none';\n",
              "    })();\n",
              "  </script>\n",
              "</div>\n",
              "\n",
              "    </div>\n",
              "  </div>\n"
            ],
            "application/vnd.google.colaboratory.intrinsic+json": {
              "type": "dataframe",
              "variable_name": "train_data",
              "summary": "{\n  \"name\": \"train_data\",\n  \"rows\": 15,\n  \"fields\": [\n    {\n      \"column\": \"questions_answers\",\n      \"properties\": {\n        \"dtype\": \"string\",\n        \"num_unique_values\": 15,\n        \"samples\": [\n          \"Question: Can you walk me through your decision-making process, providing a specific example of a tough decision you had to make?\\r\\nResponse: to make decisions I way out the pros and cons. I consider if the benefits outweigh the negative consequences. If there are more benefits I will go through with the decision. I f it is negative I will decide not to do the action. This has helped me in life with making good decisions.Question: Maintaining motivation in repetitive tasks is a challenge. Can you share strategies or personal experiences that have helped you stay engaged and productive?\\r\\nResponse: Whenever I think of slacking I think of my long term goals and I think about if I slack I am affecting my future. I always need to stay on task and focus on things that will lead me to success. I would think about giving up on math since it was so hard. But I knew I had to do good in it. I ended up studying more and got a tutor and this led me to more success.Question: Narrate an experience with a challenging client or customer. What were the issues, and how did you handle them?\\r\\nResponse: As an umpire I had to deal with lots of angry parents. When parents screamed at me it was very annoying. To handle them I would either ignore them or tell them to stop. If they kept going I would tell them either stop or they would have to leave. I always kept my composure and did not let my emotions get the best of me.Question: Recount a time at work when you faced a major change. How did you adapt and navigate through it?\",\n          \"Question: How do you ensure clear and effective communication in remote work settings, and can you provide a specific example of how you\\u2019ve done this?\\r\\nResponse: One way to ensure that communication is effective and clear is through eye contact. I find that eye contact can display many different messages. When communicating with someone it is important to make eye contact with them because it lets them know that you are engaged in the conversation. If the other person keeps eye contact then they are also engaged in the conversation and are understanding what they are being told.Question: Can you describe a situation where you had to balance quality with tight deadlines?\\r\\nResponse: A time when I had to balance quality with tight deadlines was when I had to make a detailed infographic about a listen of events in 90 minutes. I wanted it to look perfect but I did not have much time so I focused more on having abundant information rather than making it look really nice.Question: Walk me through your process to ensure open and effective communication within a team.\\r\\nResponse: The first step to ensuring open and effective communication within a team is ensuring everyone feels like they can voice their thoughts without judgment. It is important to grasp the team member's attention so that they are engaged from the start. Every member needs to be engaged so starting the conversation off in a strong way is very important. Everyone should also be given a chance to speak their mind as well.Question: Describe an impactful team project you participated in and your role in its success.\",\n          \"Question: Can you walk me through the various strategies you employ when you find yourself under a significant amount of stress, providing examples from your past experience?\\r\\nResponse: When I am under stress I try and do things that will relieve it like going outside. Going to the gym or going for a walk outside is very therapeutic and helpful when feeling overwhelmed. Being around those that I love also helps because I can confide in them and we together can come up with a solution. Asking for help is very important when under a significant amount of stress and I try to utilize this as often as I can. Dealing with stress is very tricky but using outlets like exercise and the comfort of friends and family are very useful. Question: Describe a time when you felt overwhelmed at work. How did you handle it, and what strategies did you use to manage the situation?\\r\\nResponse: I was feeling overwhelmed at work when we had just hit rush hour and I was a newly employed worker. I handled the situation by taking a deep breath and staying focused on the tasks at hand. I treated each customer with kindness and listened to each request that they had. I spaced out the times between orders to allow the kitchen to catch up and help my employees. Asking for help is also something that I will do in tough situations like this but if that resource is not available I try and complete each task and do everything to the best of my ability. Question: Think back to a time you had a disagreement with a supervisor. How did the situation unfold and reach a resolution?\\r\\nResponse: When I had a disagreement with a supervisor I treated the situation as something that must be resolved and stayed open-minded about the whole situation. I asked why they felt that my opinion was wrong and tried to resolve this through good communication. I told them how I felt and showed that I was willing to compromise and resolve the conflict. This helped me realize that resolving conflicts is a very important life skill that I will need for the rest fo my life. Question: Share a moment when you were faced with a tough decision. How did you deliberate and arrive at your conclusion?\"\n        ],\n        \"semantic_type\": \"\",\n        \"description\": \"\"\n      }\n    },\n    {\n      \"column\": \"last_answer\",\n      \"properties\": {\n        \"dtype\": \"string\",\n        \"num_unique_values\": 15,\n        \"samples\": [\n          \"At work one major change I had to face was working alone rather than with a partner. This was a big adjustment because it required more responsibility and pressure. I was able to do it and after a few times I felt much more comfortable working alone. This was good for me because it taught me how to adapt to things I was not used to.\",\n          \"In high school, me and some other members of a club set up a blood drive. A few prior to the drive, we had to open a table up at lunch so that students could sign up to donate blood. I was one of the members who sat at the table and did sign-ups. On the day of the blood drive, everyone who signed up showed up and those who needed parental consent had their papers signed. Overall, the blood drive was a huge success.\",\n          \"When I was faced with the decision of whether or not I should attend Virginia Tech or the community college near me I had to use my decision-making skills. I had to first weigh the pros and cons of both choices and decide on what would be right for me. I am a purposeful person and will always make decisions based on the best outcomes possible. I chose Virginia Tech because of how challenging the academia and how beautiful the campus is. Being able to make a decision like this helped show me that I am able to think on my feet and use my common sense to make logical decisions.\"\n        ],\n        \"semantic_type\": \"\",\n        \"description\": \"\"\n      }\n    }\n  ]\n}"
            }
          },
          "metadata": {},
          "execution_count": 6
        }
      ]
    },
    {
      "cell_type": "code",
      "source": [
        "system_message = \"\"\"\n",
        "Your task is to analyze a dataset of interview questions and responses. Based on the content, tone, and details of the provided answers, your task is to\n",
        " generate a plausible answer for the fourth interview question.\n",
        "\"\"\"\n",
        "\n",
        "def extract_questions_answers(text):\n",
        "    # Split the text into parts based on \"Question:\" and \"Response:\" delimiters\n",
        "    parts = text.split(\"Question:\")[1:]\n",
        "    qas = []\n",
        "\n",
        "    for part in parts:\n",
        "        q_a = part.split(\"Response:\")\n",
        "        question = q_a[0].strip()\n",
        "        answer = q_a[1].strip() if len(q_a) > 1 else \"\"\n",
        "        qas.append({\"question\": question, \"answer\": answer})\n",
        "\n",
        "    # return qas\n",
        "    return qas\n",
        "\n",
        "\n",
        "def create_user_message(row):\n",
        "    # Extract the questions and answers from the text\n",
        "    qas = extract_questions_answers(row['questions_answers'])\n",
        "\n",
        "    # Create the user message with the four questions and three answers\n",
        "    user_message = \"\"\n",
        "    for qa in qas:\n",
        "        user_message += f\"Question: {qa['question']}\\n\"\n",
        "        if qa['answer']:\n",
        "            user_message += f\"Answer: {qa['answer']}\\n\"\n",
        "\n",
        "    return user_message\n",
        "\n",
        "\n",
        "\n",
        "def prepare_example_conversation(row):\n",
        "    messages = []\n",
        "    messages.append({\"role\": \"system\", \"content\": system_message})\n",
        "\n",
        "    user_message = create_user_message(row)\n",
        "    messages.append({\"role\": \"user\", \"content\": user_message})\n",
        "\n",
        "    # Use the last_answer column as the assistant's message\n",
        "    messages.append({\"role\": \"assistant\", \"content\": row[\"last_answer\"]})\n",
        "\n",
        "    return {\"messages\": messages}\n",
        "\n",
        "\n",
        "pprint(prepare_example_conversation(train_data.iloc[0]))"
      ],
      "metadata": {
        "id": "mvwTQQ2JlBRM",
        "outputId": "84b3db7e-e0da-4257-d773-26d5885ed257",
        "colab": {
          "base_uri": "https://localhost:8080/"
        }
      },
      "execution_count": 7,
      "outputs": [
        {
          "output_type": "stream",
          "name": "stdout",
          "text": [
            "{'messages': [{'content': '\\n'\n",
            "                          'Your task is to analyze a dataset of interview '\n",
            "                          'questions and responses. Based on the content, '\n",
            "                          'tone, and details of the provided answers, your '\n",
            "                          'task is to\\n'\n",
            "                          ' generate a plausible answer for the fourth '\n",
            "                          'interview question.\\n',\n",
            "               'role': 'system'},\n",
            "              {'content': 'Question: Can you walk me through the various '\n",
            "                          'strategies you employ when you find yourself under '\n",
            "                          'a significant amount of stress, providing examples '\n",
            "                          'from your past experience?\\n'\n",
            "                          'Answer: When I am under stress I try and do things '\n",
            "                          'that will relieve it like going outside. Going to '\n",
            "                          'the gym or going for a walk outside is very '\n",
            "                          'therapeutic and helpful when feeling overwhelmed. '\n",
            "                          'Being around those that I love also helps because I '\n",
            "                          'can confide in them and we together can come up '\n",
            "                          'with a solution. Asking for help is very important '\n",
            "                          'when under a significant amount of stress and I try '\n",
            "                          'to utilize this as often as I can. Dealing with '\n",
            "                          'stress is very tricky but using outlets like '\n",
            "                          'exercise and the comfort of friends and family are '\n",
            "                          'very useful.\\n'\n",
            "                          'Question: Describe a time when you felt overwhelmed '\n",
            "                          'at work. How did you handle it, and what strategies '\n",
            "                          'did you use to manage the situation?\\n'\n",
            "                          'Answer: I was feeling overwhelmed at work when we '\n",
            "                          'had just hit rush hour and I was a newly employed '\n",
            "                          'worker. I handled the situation by taking a deep '\n",
            "                          'breath and staying focused on the tasks at hand. I '\n",
            "                          'treated each customer with kindness and listened to '\n",
            "                          'each request that they had. I spaced out the times '\n",
            "                          'between orders to allow the kitchen to catch up and '\n",
            "                          'help my employees. Asking for help is also '\n",
            "                          'something that I will do in tough situations like '\n",
            "                          'this but if that resource is not available I try '\n",
            "                          'and complete each task and do everything to the '\n",
            "                          'best of my ability.\\n'\n",
            "                          'Question: Think back to a time you had a '\n",
            "                          'disagreement with a supervisor. How did the '\n",
            "                          'situation unfold and reach a resolution?\\n'\n",
            "                          'Answer: When I had a disagreement with a supervisor '\n",
            "                          'I treated the situation as something that must be '\n",
            "                          'resolved and stayed open-minded about the whole '\n",
            "                          'situation. I asked why they felt that my opinion '\n",
            "                          'was wrong and tried to resolve this through good '\n",
            "                          'communication. I told them how I felt and showed '\n",
            "                          'that I was willing to compromise and resolve the '\n",
            "                          'conflict. This helped me realize that resolving '\n",
            "                          'conflicts is a very important life skill that I '\n",
            "                          'will need for the rest fo my life.\\n'\n",
            "                          'Question: Share a moment when you were faced with a '\n",
            "                          'tough decision. How did you deliberate and arrive '\n",
            "                          'at your conclusion?\\n',\n",
            "               'role': 'user'},\n",
            "              {'content': 'When I was faced with the decision of whether or '\n",
            "                          'not I should attend Virginia Tech or the community '\n",
            "                          'college near me I had to use my decision-making '\n",
            "                          'skills. I had to first weigh the pros and cons of '\n",
            "                          'both choices and decide on what would be right for '\n",
            "                          'me. I am a purposeful person and will always make '\n",
            "                          'decisions based on the best outcomes possible. I '\n",
            "                          'chose Virginia Tech because of how challenging the '\n",
            "                          'academia and how beautiful the campus is. Being '\n",
            "                          'able to make a decision like this helped show me '\n",
            "                          'that I am able to think on my feet and use my '\n",
            "                          'common sense to make logical decisions.',\n",
            "               'role': 'assistant'}]}\n"
          ]
        }
      ]
    },
    {
      "cell_type": "code",
      "source": [
        "training_json = train_data.apply(prepare_example_conversation, axis=1).tolist()\n",
        "test_json = test_data.apply(prepare_example_conversation, axis=1).tolist()\n",
        "\n",
        "\n",
        "for example in training_json[:5]:\n",
        "    print(example)"
      ],
      "metadata": {
        "id": "RygyjgVvtIuV",
        "outputId": "b0da2ddf-0c38-431a-e97e-0b62ee115c45",
        "colab": {
          "base_uri": "https://localhost:8080/"
        }
      },
      "execution_count": 8,
      "outputs": [
        {
          "output_type": "stream",
          "name": "stdout",
          "text": [
            "{'messages': [{'role': 'system', 'content': '\\nYour task is to analyze a dataset of interview questions and responses. Based on the content, tone, and details of the provided answers, your task is to\\n generate a plausible answer for the fourth interview question.\\n'}, {'role': 'user', 'content': 'Question: Can you walk me through the various strategies you employ when you find yourself under a significant amount of stress, providing examples from your past experience?\\nAnswer: When I am under stress I try and do things that will relieve it like going outside. Going to the gym or going for a walk outside is very therapeutic and helpful when feeling overwhelmed. Being around those that I love also helps because I can confide in them and we together can come up with a solution. Asking for help is very important when under a significant amount of stress and I try to utilize this as often as I can. Dealing with stress is very tricky but using outlets like exercise and the comfort of friends and family are very useful.\\nQuestion: Describe a time when you felt overwhelmed at work. How did you handle it, and what strategies did you use to manage the situation?\\nAnswer: I was feeling overwhelmed at work when we had just hit rush hour and I was a newly employed worker. I handled the situation by taking a deep breath and staying focused on the tasks at hand. I treated each customer with kindness and listened to each request that they had. I spaced out the times between orders to allow the kitchen to catch up and help my employees. Asking for help is also something that I will do in tough situations like this but if that resource is not available I try and complete each task and do everything to the best of my ability.\\nQuestion: Think back to a time you had a disagreement with a supervisor. How did the situation unfold and reach a resolution?\\nAnswer: When I had a disagreement with a supervisor I treated the situation as something that must be resolved and stayed open-minded about the whole situation. I asked why they felt that my opinion was wrong and tried to resolve this through good communication. I told them how I felt and showed that I was willing to compromise and resolve the conflict. This helped me realize that resolving conflicts is a very important life skill that I will need for the rest fo my life.\\nQuestion: Share a moment when you were faced with a tough decision. How did you deliberate and arrive at your conclusion?\\n'}, {'role': 'assistant', 'content': 'When I was faced with the decision of whether or not I should attend Virginia Tech or the community college near me I had to use my decision-making skills. I had to first weigh the pros and cons of both choices and decide on what would be right for me. I am a purposeful person and will always make decisions based on the best outcomes possible. I chose Virginia Tech because of how challenging the academia and how beautiful the campus is. Being able to make a decision like this helped show me that I am able to think on my feet and use my common sense to make logical decisions.'}]}\n",
            "{'messages': [{'role': 'system', 'content': '\\nYour task is to analyze a dataset of interview questions and responses. Based on the content, tone, and details of the provided answers, your task is to\\n generate a plausible answer for the fourth interview question.\\n'}, {'role': 'user', 'content': \"Question: Share your strategies for maintaining strong client relationships, including a specific example of how you’ve nurtured a client relationship over time.\\nAnswer: You have to make sure that you always make your client feel that they are the most import person to you. You should always make time for your clients and be sure to show them that they matter. If your client feels that you are forgetting them over time they may try to find someone else who can better serve them. You have to nurture client relationships.\\nQuestion: Can you discuss how you approach setting realistic and effective deadlines, possibly providing an example from your previous work?\\nAnswer: I like to do all of my work long before it is due. For example, I am doin this survey right now 5 days before it is due. It is helpful to get these tasks out of the way to focus on other important aspects of life. This may not always be realistic. But, if you always try to do everything before the deadline you will have great time management!\\nQuestion: Discuss how you adapt to different team personalities. Can you share an instance where this was particularly challenging or rewarding?\\nAnswer: When dealing with people with different personalities, you must find a middle ground where everybody is able to contribute their strengths and no one feels like they aren't contributing at all. It can be difficult with conflicting personalities. You should alway try to understand where everyone is coming from and hear everyone's perspective. This is the best way to work effectively as a team.\\nQuestion: Describe a time when empathy played a crucial role in your workplace interactions.\\n\"}, {'role': 'assistant', 'content': \"It's important to understand that your coworkers have lives outside of the job too. Never take anything out too harshly on anyone you work with or you may regret it. You never know what someone is struggling with at home. It's important to always be kind and empathetic towards those you work with. I find that having a positive attitude increases performance and self esteem of those around you. \"}]}\n",
            "{'messages': [{'role': 'system', 'content': '\\nYour task is to analyze a dataset of interview questions and responses. Based on the content, tone, and details of the provided answers, your task is to\\n generate a plausible answer for the fourth interview question.\\n'}, {'role': 'user', 'content': 'Question: Describe a time when you felt overwhelmed at work. How did you handle it, and what strategies did you use to manage the situation?\\nAnswer: I felt overwhelmed at work when I worked at Kohls and it was holiday season. What I would do in these times is make sure that I was taking care of myself, and make sure that the customers feelings were above mine, and to ensure the growth of the company.\\nQuestion: Playing a supportive role is sometimes just as important as leading. Can you share a time when you played such a role, and discuss its impact on the team?\\nAnswer: During high school, I helped start a club called the black student union. Being someone to help but not taking full responsibility for what is something I enjoy doing, and I liked my role on the team because even though I was the vice president, I would need to step up, sometimes to make sure that the club was succeeding.\\nQuestion: Share a story about a time your schedule was interrupted. How did you recalibrate and manage your tasks?\\nAnswer: When my schedules interrupted, I made sure that all parties involved were aware of the change that were gonna be made to my schedule to ensure the progress of both parties.\\nQuestion: Recall an instance when you were given constructive criticism. Could you walk me through how you processed it and responded?\\n'}, {'role': 'assistant', 'content': 'Contrast is criticism is something that I really like to apply to my daily life and I appreciate it. When I’m giving constructive criticism criticism, I make sure that I take into account and work on it anyway that I can and let the party that gave it to me know that I really appreciate their worry on my part and that I will do better.\\n'}]}\n",
            "{'messages': [{'role': 'system', 'content': '\\nYour task is to analyze a dataset of interview questions and responses. Based on the content, tone, and details of the provided answers, your task is to\\n generate a plausible answer for the fourth interview question.\\n'}, {'role': 'user', 'content': 'Question: Describe an occasion where you juggled multiple projects. How did you ensure each was given adequate attention?\\nAnswer: In school, I ended up having a six-page paper, a 30-minute presentation, and a research proposal paper due in the same week. I made sure to try to emphasize my work in the order it was due, but not focus exclusively on one at a time. I found it more productive for me to work on one, and when I hit a wall, focus on another project to help change my thinking. This ended up working out very well for me, and I ended up receiving good grades on all.\\nQuestion: Can you talk about a time when you had to manage a particularly challenging team member?\\nAnswer: Working in a restaurant requires a lot of communication and teamwork. One team member was not carrying their weight and was not helping out with the work in the kitchen. I ended up talking to them, telling them that we needed them to do their role, but that I was willing to assist in picking up some of the additional work. Sometimes people are having a bad day and need a little pick-me-up without being pressed or getting in trouble.\\nQuestion: Recount a time at work when you faced a major change. How did you adapt and navigate through it?\\nAnswer: Working in the emergency department, I have encountered my fair share of difficult patients. One patient in particular, however, was extremely difficult and refused to cooperate with me or give me any information I needed. I ended up having to explain how I really needed the information about his medications because it could end up being life or death. Eventually, he was able to understand what I was trying to tell him and calmed down enough to inform me.\\nQuestion: Talk about a situation where ensuring the quality of your work was paramount. What measures did you take?\\n'}, {'role': 'assistant', 'content': 'For one of my graduate-level classes, I had a very important 30-minute presentation for the end of the year. I made sure that I got started early and researched heavily on the topic to make sure that I was an expert on it. I also recruited a couple of my friends to see if they could offer any constructive criticism to me. It also helped me prepare for any questions that I might face. I ended up receiving a 100 on it, and I attribute that to the measures I took in preparation.'}]}\n",
            "{'messages': [{'role': 'system', 'content': '\\nYour task is to analyze a dataset of interview questions and responses. Based on the content, tone, and details of the provided answers, your task is to\\n generate a plausible answer for the fourth interview question.\\n'}, {'role': 'user', 'content': \"Question: Share your strategies for maintaining strong client relationships, including a specific example of how you’ve nurtured a client relationship over time.\\nAnswer: I've been repairing electronics for a long time, mostly for myself or for free. However, I discovered at a certain point that people would pay me to fix up vintage electronics. A former neighbor of mine has a collection of vintage synthesizers which often break down due to their age and fragility. We have developed a friendship and client relationship over time as I have fixed up old organs and drum machines for him.\\nQuestion: Can you describe a situation where you had to balance quality with tight deadlines?\\nAnswer: In high school I took a lot of college level classes, which meant that I was quite overworked at times. This meant that sometimes I had to compromise the quality of the work I did on assignments to make sure they were done on time. I grew quite good at doing assignments quickly and efficiently without making too many mistakes.\\nQuestion: Discuss your approach to fostering an inclusive environment within a team, including specific strategies and examples of how you’ve implemented these in the past.\\nAnswer: In my high school engineering classes we had to work in partnerships or groups. Often these groups would include people of varying ethnicity and ability. It was a challenge to find ways to work together and split up work in an equitable way. We had to prioritize open communication within these teams to make sure that everyone felt included and like they were helping out.\\nQuestion: Describe an occasion where you juggled multiple projects. How did you ensure each was given adequate attention?\\n\"}, {'role': 'assistant', 'content': 'As an overworked high schooler I often had to juggle several classes and projects at the same time. On top of this, I played sports which meant I would get home from school late in the evening exhausted from my day. In order to ensure that I would get my work done, I had to wake up early in the morning and do homework before school. '}]}\n"
          ]
        }
      ]
    },
    {
      "cell_type": "code",
      "source": [
        "def write_jsonl(data_list: list, filename: str) -> None:\n",
        "    with open(filename, \"w\") as out:\n",
        "        for ddict in data_list:\n",
        "            jout = json.dumps(ddict) + \"\\n\"\n",
        "            out.write(jout)"
      ],
      "metadata": {
        "id": "cs7TJt5XtW0Y"
      },
      "execution_count": 9,
      "outputs": []
    },
    {
      "cell_type": "code",
      "source": [
        "training_file_name = \"tmp_interview_finetune_training.jsonl\"\n",
        "write_jsonl(training_json, training_file_name)\n",
        "\n",
        "testing_file_name = \"tmp_interview_finetune_testing.jsonl\"\n",
        "write_jsonl(test_json, testing_file_name)"
      ],
      "metadata": {
        "id": "wlhPmjAntaut"
      },
      "execution_count": 10,
      "outputs": []
    },
    {
      "cell_type": "code",
      "source": [
        "!head -n 5 tmp_interview_finetune_training.jsonl"
      ],
      "metadata": {
        "id": "_aK5qbHztf_t",
        "outputId": "570e62d6-f583-4ebe-b695-e67f305d45f0",
        "colab": {
          "base_uri": "https://localhost:8080/"
        }
      },
      "execution_count": 11,
      "outputs": [
        {
          "output_type": "stream",
          "name": "stdout",
          "text": [
            "{\"messages\": [{\"role\": \"system\", \"content\": \"\\nYour task is to analyze a dataset of interview questions and responses. Based on the content, tone, and details of the provided answers, your task is to\\n generate a plausible answer for the fourth interview question.\\n\"}, {\"role\": \"user\", \"content\": \"Question: Can you walk me through the various strategies you employ when you find yourself under a significant amount of stress, providing examples from your past experience?\\nAnswer: When I am under stress I try and do things that will relieve it like going outside. Going to the gym or going for a walk outside is very therapeutic and helpful when feeling overwhelmed. Being around those that I love also helps because I can confide in them and we together can come up with a solution. Asking for help is very important when under a significant amount of stress and I try to utilize this as often as I can. Dealing with stress is very tricky but using outlets like exercise and the comfort of friends and family are very useful.\\nQuestion: Describe a time when you felt overwhelmed at work. How did you handle it, and what strategies did you use to manage the situation?\\nAnswer: I was feeling overwhelmed at work when we had just hit rush hour and I was a newly employed worker. I handled the situation by taking a deep breath and staying focused on the tasks at hand. I treated each customer with kindness and listened to each request that they had. I spaced out the times between orders to allow the kitchen to catch up and help my employees. Asking for help is also something that I will do in tough situations like this but if that resource is not available I try and complete each task and do everything to the best of my ability.\\nQuestion: Think back to a time you had a disagreement with a supervisor. How did the situation unfold and reach a resolution?\\nAnswer: When I had a disagreement with a supervisor I treated the situation as something that must be resolved and stayed open-minded about the whole situation. I asked why they felt that my opinion was wrong and tried to resolve this through good communication. I told them how I felt and showed that I was willing to compromise and resolve the conflict. This helped me realize that resolving conflicts is a very important life skill that I will need for the rest fo my life.\\nQuestion: Share a moment when you were faced with a tough decision. How did you deliberate and arrive at your conclusion?\\n\"}, {\"role\": \"assistant\", \"content\": \"When I was faced with the decision of whether or not I should attend Virginia Tech or the community college near me I had to use my decision-making skills. I had to first weigh the pros and cons of both choices and decide on what would be right for me. I am a purposeful person and will always make decisions based on the best outcomes possible. I chose Virginia Tech because of how challenging the academia and how beautiful the campus is. Being able to make a decision like this helped show me that I am able to think on my feet and use my common sense to make logical decisions.\"}]}\n",
            "{\"messages\": [{\"role\": \"system\", \"content\": \"\\nYour task is to analyze a dataset of interview questions and responses. Based on the content, tone, and details of the provided answers, your task is to\\n generate a plausible answer for the fourth interview question.\\n\"}, {\"role\": \"user\", \"content\": \"Question: Share your strategies for maintaining strong client relationships, including a specific example of how you\\u2019ve nurtured a client relationship over time.\\nAnswer: You have to make sure that you always make your client feel that they are the most import person to you. You should always make time for your clients and be sure to show them that they matter. If your client feels that you are forgetting them over time they may try to find someone else who can better serve them. You have to nurture client relationships.\\nQuestion: Can you discuss how you approach setting realistic and effective deadlines, possibly providing an example from your previous work?\\nAnswer: I like to do all of my work long before it is due. For example, I am doin this survey right now 5 days before it is due. It is helpful to get these tasks out of the way to focus on other important aspects of life. This may not always be realistic. But, if you always try to do everything before the deadline you will have great time management!\\nQuestion: Discuss how you adapt to different team personalities. Can you share an instance where this was particularly challenging or rewarding?\\nAnswer: When dealing with people with different personalities, you must find a middle ground where everybody is able to contribute their strengths and no one feels like they aren't contributing at all. It can be difficult with conflicting personalities. You should alway try to understand where everyone is coming from and hear everyone's perspective. This is the best way to work effectively as a team.\\nQuestion: Describe a time when empathy played a crucial role in your workplace interactions.\\n\"}, {\"role\": \"assistant\", \"content\": \"It's important to understand that your coworkers have lives outside of the job too. Never take anything out too harshly on anyone you work with or you may regret it. You never know what someone is struggling with at home. It's important to always be kind and empathetic towards those you work with. I find that having a positive attitude increases performance and self esteem of those around you. \"}]}\n",
            "{\"messages\": [{\"role\": \"system\", \"content\": \"\\nYour task is to analyze a dataset of interview questions and responses. Based on the content, tone, and details of the provided answers, your task is to\\n generate a plausible answer for the fourth interview question.\\n\"}, {\"role\": \"user\", \"content\": \"Question: Describe a time when you felt overwhelmed at work. How did you handle it, and what strategies did you use to manage the situation?\\nAnswer: I felt overwhelmed at work when I worked at Kohls and it was holiday season. What I would do in these times is make sure that I was taking care of myself, and make sure that the customers feelings were above mine, and to ensure the growth of the company.\\nQuestion: Playing a supportive role is sometimes just as important as leading. Can you share a time when you played such a role, and discuss its impact on the team?\\nAnswer: During high school, I helped start a club called the black student union. Being someone to help but not taking full responsibility for what is something I enjoy doing, and I liked my role on the team because even though I was the vice president, I would need to step up, sometimes to make sure that the club was succeeding.\\nQuestion: Share a story about a time your schedule was interrupted. How did you recalibrate and manage your tasks?\\nAnswer: When my schedules interrupted, I made sure that all parties involved were aware of the change that were gonna be made to my schedule to ensure the progress of both parties.\\nQuestion: Recall an instance when you were given constructive criticism. Could you walk me through how you processed it and responded?\\n\"}, {\"role\": \"assistant\", \"content\": \"Contrast is criticism is something that I really like to apply to my daily life and I appreciate it. When I\\u2019m giving constructive criticism criticism, I make sure that I take into account and work on it anyway that I can and let the party that gave it to me know that I really appreciate their worry on my part and that I will do better.\\n\"}]}\n",
            "{\"messages\": [{\"role\": \"system\", \"content\": \"\\nYour task is to analyze a dataset of interview questions and responses. Based on the content, tone, and details of the provided answers, your task is to\\n generate a plausible answer for the fourth interview question.\\n\"}, {\"role\": \"user\", \"content\": \"Question: Describe an occasion where you juggled multiple projects. How did you ensure each was given adequate attention?\\nAnswer: In school, I ended up having a six-page paper, a 30-minute presentation, and a research proposal paper due in the same week. I made sure to try to emphasize my work in the order it was due, but not focus exclusively on one at a time. I found it more productive for me to work on one, and when I hit a wall, focus on another project to help change my thinking. This ended up working out very well for me, and I ended up receiving good grades on all.\\nQuestion: Can you talk about a time when you had to manage a particularly challenging team member?\\nAnswer: Working in a restaurant requires a lot of communication and teamwork. One team member was not carrying their weight and was not helping out with the work in the kitchen. I ended up talking to them, telling them that we needed them to do their role, but that I was willing to assist in picking up some of the additional work. Sometimes people are having a bad day and need a little pick-me-up without being pressed or getting in trouble.\\nQuestion: Recount a time at work when you faced a major change. How did you adapt and navigate through it?\\nAnswer: Working in the emergency department, I have encountered my fair share of difficult patients. One patient in particular, however, was extremely difficult and refused to cooperate with me or give me any information I needed. I ended up having to explain how I really needed the information about his medications because it could end up being life or death. Eventually, he was able to understand what I was trying to tell him and calmed down enough to inform me.\\nQuestion: Talk about a situation where ensuring the quality of your work was paramount. What measures did you take?\\n\"}, {\"role\": \"assistant\", \"content\": \"For one of my graduate-level classes, I had a very important 30-minute presentation for the end of the year. I made sure that I got started early and researched heavily on the topic to make sure that I was an expert on it. I also recruited a couple of my friends to see if they could offer any constructive criticism to me. It also helped me prepare for any questions that I might face. I ended up receiving a 100 on it, and I attribute that to the measures I took in preparation.\"}]}\n",
            "{\"messages\": [{\"role\": \"system\", \"content\": \"\\nYour task is to analyze a dataset of interview questions and responses. Based on the content, tone, and details of the provided answers, your task is to\\n generate a plausible answer for the fourth interview question.\\n\"}, {\"role\": \"user\", \"content\": \"Question: Share your strategies for maintaining strong client relationships, including a specific example of how you\\u2019ve nurtured a client relationship over time.\\nAnswer: I've been repairing electronics for a long time, mostly for myself or for free. However, I discovered at a certain point that people would pay me to fix up vintage electronics. A former neighbor of mine has a collection of vintage synthesizers which often break down due to their age and fragility. We have developed a friendship and client relationship over time as I have fixed up old organs and drum machines for him.\\nQuestion: Can you describe a situation where you had to balance quality with tight deadlines?\\nAnswer: In high school I took a lot of college level classes, which meant that I was quite overworked at times. This meant that sometimes I had to compromise the quality of the work I did on assignments to make sure they were done on time. I grew quite good at doing assignments quickly and efficiently without making too many mistakes.\\nQuestion: Discuss your approach to fostering an inclusive environment within a team, including specific strategies and examples of how you\\u2019ve implemented these in the past.\\nAnswer: In my high school engineering classes we had to work in partnerships or groups. Often these groups would include people of varying ethnicity and ability. It was a challenge to find ways to work together and split up work in an equitable way. We had to prioritize open communication within these teams to make sure that everyone felt included and like they were helping out.\\nQuestion: Describe an occasion where you juggled multiple projects. How did you ensure each was given adequate attention?\\n\"}, {\"role\": \"assistant\", \"content\": \"As an overworked high schooler I often had to juggle several classes and projects at the same time. On top of this, I played sports which meant I would get home from school late in the evening exhausted from my day. In order to ensure that I would get my work done, I had to wake up early in the morning and do homework before school. \"}]}\n"
          ]
        }
      ]
    },
    {
      "cell_type": "markdown",
      "source": [
        "# Pre-Tuning Checks"
      ],
      "metadata": {
        "id": "Gpcwgg9Ut6GZ"
      }
    },
    {
      "cell_type": "code",
      "source": [
        "# Format error checks - Training set\n",
        "with open(\"/content/tmp_interview_finetune_testing.jsonl\", 'r', encoding='utf-8') as f:\n",
        "    dataset = [json.loads(line) for line in f]\n",
        "\n",
        "format_errors = defaultdict(int)\n",
        "\n",
        "for ex in dataset:\n",
        "    if not isinstance(ex, dict):\n",
        "        format_errors[\"data_type\"] += 1\n",
        "        continue\n",
        "\n",
        "    messages = ex.get(\"messages\", None)\n",
        "    if not messages:\n",
        "        format_errors[\"missing_messages_list\"] += 1\n",
        "        continue\n",
        "\n",
        "    for message in messages:\n",
        "        if \"role\" not in message or \"content\" not in message:\n",
        "            format_errors[\"message_missing_key\"] += 1\n",
        "\n",
        "        if any(k not in (\"role\", \"content\", \"name\", \"function_call\", \"weight\") for k in message):\n",
        "            format_errors[\"message_unrecognized_key\"] += 1\n",
        "\n",
        "        if message.get(\"role\", None) not in (\"system\", \"user\", \"assistant\", \"function\"):\n",
        "            format_errors[\"unrecognized_role\"] += 1\n",
        "\n",
        "        content = message.get(\"content\", None)\n",
        "        function_call = message.get(\"function_call\", None)\n",
        "\n",
        "        if (not content and not function_call) or not isinstance(content, str):\n",
        "            format_errors[\"missing_content\"] += 1\n",
        "\n",
        "    if not any(message.get(\"role\", None) == \"assistant\" for message in messages):\n",
        "        format_errors[\"example_missing_assistant_message\"] += 1\n",
        "\n",
        "if format_errors:\n",
        "    print(\"Found errors:\")\n",
        "    for k, v in format_errors.items():\n",
        "        print(f\"{k}: {v}\")\n",
        "else:\n",
        "    print(\"No errors found\")"
      ],
      "metadata": {
        "id": "rw9AkQdBt3ug",
        "outputId": "07ba0350-fc5f-4bd0-8fad-0a091b2ba371",
        "colab": {
          "base_uri": "https://localhost:8080/"
        }
      },
      "execution_count": 12,
      "outputs": [
        {
          "output_type": "stream",
          "name": "stdout",
          "text": [
            "No errors found\n"
          ]
        }
      ]
    },
    {
      "cell_type": "code",
      "source": [
        "# Format error checks - Training set\n",
        "with open(\"/content/tmp_interview_finetune_training.jsonl\", 'r', encoding='utf-8') as f:\n",
        "    dataset = [json.loads(line) for line in f]\n",
        "\n",
        "format_errors = defaultdict(int)\n",
        "\n",
        "for ex in dataset:\n",
        "    if not isinstance(ex, dict):\n",
        "        format_errors[\"data_type\"] += 1\n",
        "        continue\n",
        "\n",
        "    messages = ex.get(\"messages\", None)\n",
        "    if not messages:\n",
        "        format_errors[\"missing_messages_list\"] += 1\n",
        "        continue\n",
        "\n",
        "    for message in messages:\n",
        "        if \"role\" not in message or \"content\" not in message:\n",
        "            format_errors[\"message_missing_key\"] += 1\n",
        "\n",
        "        if any(k not in (\"role\", \"content\", \"name\", \"function_call\", \"weight\") for k in message):\n",
        "            format_errors[\"message_unrecognized_key\"] += 1\n",
        "\n",
        "        if message.get(\"role\", None) not in (\"system\", \"user\", \"assistant\", \"function\"):\n",
        "            format_errors[\"unrecognized_role\"] += 1\n",
        "\n",
        "        content = message.get(\"content\", None)\n",
        "        function_call = message.get(\"function_call\", None)\n",
        "\n",
        "        if (not content and not function_call) or not isinstance(content, str):\n",
        "            format_errors[\"missing_content\"] += 1\n",
        "\n",
        "    if not any(message.get(\"role\", None) == \"assistant\" for message in messages):\n",
        "        format_errors[\"example_missing_assistant_message\"] += 1\n",
        "\n",
        "if format_errors:\n",
        "    print(\"Found errors:\")\n",
        "    for k, v in format_errors.items():\n",
        "        print(f\"{k}: {v}\")\n",
        "else:\n",
        "    print(\"No errors found\")"
      ],
      "metadata": {
        "id": "ivKO1Cz4uFK4",
        "outputId": "e36e0889-3596-4688-98dc-07b5eb82387e",
        "colab": {
          "base_uri": "https://localhost:8080/"
        }
      },
      "execution_count": 13,
      "outputs": [
        {
          "output_type": "stream",
          "name": "stdout",
          "text": [
            "No errors found\n"
          ]
        }
      ]
    },
    {
      "cell_type": "code",
      "source": [
        "# Warnings and tokens counts\n",
        "with open(\"/content/tmp_interview_finetune_testing.jsonl\", 'r', encoding='utf-8') as f:\n",
        "    dataset = [json.loads(line) for line in f]\n",
        "\n",
        "n_missing_system = 0\n",
        "n_missing_user = 0\n",
        "n_messages = []\n",
        "convo_lens = []\n",
        "assistant_message_lens = []\n",
        "\n",
        "for ex in dataset:\n",
        "    messages = ex[\"messages\"]\n",
        "    if not any(message[\"role\"] == \"system\" for message in messages):\n",
        "        n_missing_system += 1\n",
        "    if not any(message[\"role\"] == \"user\" for message in messages):\n",
        "        n_missing_user += 1\n",
        "    n_messages.append(len(messages))\n",
        "    convo_lens.append(num_tokens_from_messages(messages))\n",
        "    assistant_message_lens.append(num_assistant_tokens_from_messages(messages))\n",
        "\n",
        "print(\"Num examples missing system message:\", n_missing_system)\n",
        "print(\"Num examples missing user message:\", n_missing_user)\n",
        "print_distribution(n_messages, \"num_messages_per_example\")\n",
        "print_distribution(convo_lens, \"num_total_tokens_per_example\")\n",
        "print_distribution(assistant_message_lens, \"num_assistant_tokens_per_example\")\n",
        "n_too_long = sum(l > 4096 for l in convo_lens)\n",
        "print(f\"\\n{n_too_long} examples may be over the 4096 token limit, they will be truncated during fine-tuning\")"
      ],
      "metadata": {
        "id": "6Ql8butguM7G",
        "outputId": "ca553f32-773b-4690-cf1d-4bbf858c9da2",
        "colab": {
          "base_uri": "https://localhost:8080/"
        }
      },
      "execution_count": 14,
      "outputs": [
        {
          "output_type": "stream",
          "name": "stdout",
          "text": [
            "Num examples missing system message: 0\n",
            "Num examples missing user message: 0\n",
            "\n",
            "#### Distribution of num_messages_per_example:\n",
            "min / max: 3, 3\n",
            "mean / median: 3.0, 3.0\n",
            "p5 / p95: 3.0, 3.0\n",
            "\n",
            "#### Distribution of num_total_tokens_per_example:\n",
            "min / max: 399, 633\n",
            "mean / median: 502.8, 487.0\n",
            "p5 / p95: 430.4, 601.8\n",
            "\n",
            "#### Distribution of num_assistant_tokens_per_example:\n",
            "min / max: 69, 175\n",
            "mean / median: 95.26666666666667, 90.0\n",
            "p5 / p95: 70.4, 123.39999999999999\n",
            "\n",
            "0 examples may be over the 4096 token limit, they will be truncated during fine-tuning\n"
          ]
        }
      ]
    },
    {
      "cell_type": "code",
      "source": [
        "# Pricing and default n_epochs estimate\n",
        "MAX_TOKENS_PER_EXAMPLE = 4096\n",
        "\n",
        "TARGET_EPOCHS = 3\n",
        "MIN_TARGET_EXAMPLES = 100\n",
        "MAX_TARGET_EXAMPLES = 25000\n",
        "MIN_DEFAULT_EPOCHS = 1\n",
        "MAX_DEFAULT_EPOCHS = 25\n",
        "\n",
        "n_epochs = TARGET_EPOCHS\n",
        "n_train_examples = len(dataset)\n",
        "if n_train_examples * TARGET_EPOCHS < MIN_TARGET_EXAMPLES:\n",
        "    n_epochs = min(MAX_DEFAULT_EPOCHS, MIN_TARGET_EXAMPLES // n_train_examples)\n",
        "elif n_train_examples * TARGET_EPOCHS > MAX_TARGET_EXAMPLES:\n",
        "    n_epochs = max(MIN_DEFAULT_EPOCHS, MAX_TARGET_EXAMPLES // n_train_examples)\n",
        "\n",
        "n_billing_tokens_in_dataset = sum(min(MAX_TOKENS_PER_EXAMPLE, length) for length in convo_lens)\n",
        "print(f\"Dataset has ~{n_billing_tokens_in_dataset} tokens that will be charged for during training\")\n",
        "print(f\"By default, you'll train for {n_epochs} epochs on this dataset\")\n",
        "print(f\"By default, you'll be charged for ~{n_epochs * n_billing_tokens_in_dataset} tokens\")\n",
        "print(f\"Estimated training cost ~${((n_epochs * n_billing_tokens_in_dataset)/1000)*.0080}\")"
      ],
      "metadata": {
        "id": "1kP2l9a4uTFV",
        "outputId": "240c1d7e-a143-4dd3-f2f1-60a82a36b135",
        "colab": {
          "base_uri": "https://localhost:8080/"
        }
      },
      "execution_count": 15,
      "outputs": [
        {
          "output_type": "stream",
          "name": "stdout",
          "text": [
            "Dataset has ~7542 tokens that will be charged for during training\n",
            "By default, you'll train for 6 epochs on this dataset\n",
            "By default, you'll be charged for ~45252 tokens\n",
            "Estimated training cost ~$0.362016\n"
          ]
        }
      ]
    },
    {
      "cell_type": "code",
      "source": [
        "with open(training_file_name, \"rb\") as training_fd:\n",
        "    training_response = client.files.create(\n",
        "        file=training_fd, purpose=\"fine-tune\"\n",
        "    )\n",
        "\n",
        "training_file_id = training_response.id\n",
        "\n",
        "with open(testing_file_name, \"rb\") as validation_fd:\n",
        "    validation_response = client.files.create(\n",
        "        file=validation_fd, purpose=\"fine-tune\"\n",
        "    )\n",
        "validation_file_id = validation_response.id\n",
        "\n",
        "print(\"Training file ID:\", training_file_id)\n",
        "print(\"Validation file ID:\", validation_file_id)"
      ],
      "metadata": {
        "id": "Wp7xeJpwualA",
        "outputId": "4ee33a58-2919-443a-fa09-337c2ae1a758",
        "colab": {
          "base_uri": "https://localhost:8080/"
        }
      },
      "execution_count": 16,
      "outputs": [
        {
          "output_type": "stream",
          "name": "stdout",
          "text": [
            "Training file ID: file-2Dybc9bEZ3YNSUo8Gm5Zg1dV\n",
            "Validation file ID: file-mHx6PUlzcJpJvIMQpFBeL4B7\n"
          ]
        }
      ]
    },
    {
      "cell_type": "markdown",
      "source": [
        "# Fine Tuning"
      ],
      "metadata": {
        "id": "wMGoUc2Ouhji"
      }
    },
    {
      "cell_type": "code",
      "source": [
        "# Only Run this cell when wanting to create a new fine-tuning job, otherwise you will be paying to redo work\n",
        "\n",
        "#Uncomment the below code when wanting to run a new fine-tuning job\n",
        "response = client.fine_tuning.jobs.create(\n",
        "    training_file=training_file_id,\n",
        "    validation_file=validation_file_id,\n",
        "    model=\"gpt-3.5-turbo\",\n",
        "    hyperparameters = {\"n_epochs\":3, \"batch_size\":\"auto\", \"learning_rate_multiplier\":2},\n",
        "    suffix=\"interview_tuned_v1\",\n",
        ")\n",
        "\n",
        "job_id = response.id\n",
        "\n",
        "print(\"Job ID:\", response.id)\n",
        "print(\"Status:\", response.status)"
      ],
      "metadata": {
        "id": "QQPlqSaJuex-",
        "outputId": "5e350360-b48b-46cf-ff49-66fcf608b323",
        "colab": {
          "base_uri": "https://localhost:8080/"
        }
      },
      "execution_count": 18,
      "outputs": [
        {
          "output_type": "stream",
          "name": "stdout",
          "text": [
            "Job ID: ftjob-o9lrnX7dJMwPxlsK6R2rKSpv\n",
            "Status: validating_files\n"
          ]
        }
      ]
    },
    {
      "cell_type": "code",
      "source": [
        "WandbLogger.sync(fine_tune_job_id=job_id, project=WANDB_PROJECT, openai_client=client)"
      ],
      "metadata": {
        "colab": {
          "base_uri": "https://localhost:8080/",
          "height": 469,
          "referenced_widgets": [
            "29c35e8f24f54d64927ba60fb02768d9",
            "54c67e7a34704cac96171c50e127fcbc",
            "3fa198ff1b2c46bdad2151a65da465a7",
            "5709ae9791b14228ba245318dd311c63",
            "dc27b02f25e446e5975ea918effa9fe5",
            "1d5169acf769474d87e238880d709c71",
            "32172fb2bae14816bab051c6a2e44da8",
            "73ebefbdbdf44e6e9401c9b23c5c1dfb"
          ]
        },
        "id": "0gFB7CbH_tWK",
        "outputId": "c6ed0d2b-9f6e-4714-9495-0a2a051051d3"
      },
      "execution_count": 19,
      "outputs": [
        {
          "output_type": "stream",
          "name": "stderr",
          "text": [
            "\u001b[34m\u001b[1mwandb\u001b[0m: Retrieving fine-tune job...\n"
          ]
        },
        {
          "output_type": "display_data",
          "data": {
            "text/plain": [
              "<IPython.core.display.HTML object>"
            ],
            "text/html": [
              "Tracking run with wandb version 0.16.6.dev1"
            ]
          },
          "metadata": {}
        },
        {
          "output_type": "display_data",
          "data": {
            "text/plain": [
              "<IPython.core.display.HTML object>"
            ],
            "text/html": [
              "Run data is saved locally in <code>/content/wandb/run-20240403_033427-ftjob-o9lrnX7dJMwPxlsK6R2rKSpv</code>"
            ]
          },
          "metadata": {}
        },
        {
          "output_type": "display_data",
          "data": {
            "text/plain": [
              "<IPython.core.display.HTML object>"
            ],
            "text/html": [
              "Syncing run <strong><a href='https://wandb.ai/z-markofsky/OpenAI-Interview-Fine-Tune/runs/ftjob-o9lrnX7dJMwPxlsK6R2rKSpv' target=\"_blank\">ftjob-o9lrnX7dJMwPxlsK6R2rKSpv</a></strong> to <a href='https://wandb.ai/z-markofsky/OpenAI-Interview-Fine-Tune' target=\"_blank\">Weights & Biases</a> (<a href='https://wandb.me/run' target=\"_blank\">docs</a>)<br/>"
            ]
          },
          "metadata": {}
        },
        {
          "output_type": "display_data",
          "data": {
            "text/plain": [
              "<IPython.core.display.HTML object>"
            ],
            "text/html": [
              " View project at <a href='https://wandb.ai/z-markofsky/OpenAI-Interview-Fine-Tune' target=\"_blank\">https://wandb.ai/z-markofsky/OpenAI-Interview-Fine-Tune</a>"
            ]
          },
          "metadata": {}
        },
        {
          "output_type": "display_data",
          "data": {
            "text/plain": [
              "<IPython.core.display.HTML object>"
            ],
            "text/html": [
              " View run at <a href='https://wandb.ai/z-markofsky/OpenAI-Interview-Fine-Tune/runs/ftjob-o9lrnX7dJMwPxlsK6R2rKSpv' target=\"_blank\">https://wandb.ai/z-markofsky/OpenAI-Interview-Fine-Tune/runs/ftjob-o9lrnX7dJMwPxlsK6R2rKSpv</a>"
            ]
          },
          "metadata": {}
        },
        {
          "output_type": "stream",
          "name": "stderr",
          "text": [
            "\u001b[34m\u001b[1mwandb\u001b[0m: Waiting for the OpenAI fine-tuning job to finish training...\n",
            "\u001b[34m\u001b[1mwandb\u001b[0m: To avoid blocking, you can call `WandbLogger.sync` with `wait_for_job_success=False` after OpenAI training completes.\n",
            "\u001b[34m\u001b[1mwandb\u001b[0m: Fine-tuning finished, logging metrics, model metadata, and run metadata to Weights & Biases\n",
            "\u001b[34m\u001b[1mwandb\u001b[0m: Logging training/validation files...\n"
          ]
        },
        {
          "output_type": "display_data",
          "data": {
            "text/plain": [
              "VBox(children=(Label(value='0.289 MB of 0.289 MB uploaded\\r'), FloatProgress(value=1.0, max=1.0)))"
            ],
            "application/vnd.jupyter.widget-view+json": {
              "version_major": 2,
              "version_minor": 0,
              "model_id": "29c35e8f24f54d64927ba60fb02768d9"
            }
          },
          "metadata": {}
        },
        {
          "output_type": "display_data",
          "data": {
            "text/plain": [
              "<IPython.core.display.HTML object>"
            ],
            "text/html": [
              "<style>\n",
              "    table.wandb td:nth-child(1) { padding: 0 10px; text-align: left ; width: auto;} td:nth-child(2) {text-align: left ; width: 100%}\n",
              "    .wandb-row { display: flex; flex-direction: row; flex-wrap: wrap; justify-content: flex-start; width: 100% }\n",
              "    .wandb-col { display: flex; flex-direction: column; flex-basis: 100%; flex: 1; padding: 10px; }\n",
              "    </style>\n",
              "<div class=\"wandb-row\"><div class=\"wandb-col\"><h3>Run history:</h3><br/><table class=\"wandb\"><tr><td>train_accuracy</td><td>▅▁▃▃▄▇▁▄▄▅▅▃▃▃▅▄█▅▃▅▅▆▆▃▂▄▃▆▆▅▅▇▆▅▂▅▆▄▄█</td></tr><tr><td>train_loss</td><td>▅█▅▆▅▃▆▄▆▃▄▄▃▄▃▄▁▃▃▃▂▂▂▂▅▅▃▂▁▃▃▂▂▃▅▂▃▅▃▁</td></tr><tr><td>valid_loss</td><td>▆▆█▆▇▅▆▅▃▇▃▃▂▄▃▄▃▂▄▄▄▄▂▇▂▁▃▃▄▆▂▂▄▄▄▂▆▂▂▃</td></tr><tr><td>valid_mean_token_accuracy</td><td>▅▃▄▄▃▅▄▁▄▁▇▅▇▅▆▄▆▆▅▅▃▄▃▁▅█▆▆▄▄▆▆▅▄▄▄▂▇▅▆</td></tr></table><br/></div><div class=\"wandb-col\"><h3>Run summary:</h3><br/><table class=\"wandb\"><tr><td>fine_tuned_model</td><td>ft:gpt-3.5-turbo-012...</td></tr><tr><td>status</td><td>succeeded</td></tr><tr><td>train_accuracy</td><td>0.62353</td></tr><tr><td>train_loss</td><td>1.35915</td></tr><tr><td>valid_loss</td><td>1.86191</td></tr><tr><td>valid_mean_token_accuracy</td><td>0.57333</td></tr></table><br/></div></div>"
            ]
          },
          "metadata": {}
        },
        {
          "output_type": "display_data",
          "data": {
            "text/plain": [
              "<IPython.core.display.HTML object>"
            ],
            "text/html": [
              " View run <strong style=\"color:#cdcd00\">ftjob-o9lrnX7dJMwPxlsK6R2rKSpv</strong> at: <a href='https://wandb.ai/z-markofsky/OpenAI-Interview-Fine-Tune/runs/ftjob-o9lrnX7dJMwPxlsK6R2rKSpv' target=\"_blank\">https://wandb.ai/z-markofsky/OpenAI-Interview-Fine-Tune/runs/ftjob-o9lrnX7dJMwPxlsK6R2rKSpv</a><br/> View project at: <a href='https://wandb.ai/z-markofsky/OpenAI-Interview-Fine-Tune' target=\"_blank\">https://wandb.ai/z-markofsky/OpenAI-Interview-Fine-Tune</a><br/>Synced 5 W&B file(s), 2 media file(s), 7 artifact file(s) and 0 other file(s)"
            ]
          },
          "metadata": {}
        },
        {
          "output_type": "display_data",
          "data": {
            "text/plain": [
              "<IPython.core.display.HTML object>"
            ],
            "text/html": [
              "Find logs at: <code>./wandb/run-20240403_033427-ftjob-o9lrnX7dJMwPxlsK6R2rKSpv/logs</code>"
            ]
          },
          "metadata": {}
        },
        {
          "output_type": "execute_result",
          "data": {
            "text/plain": [
              "'🎉 wandb sync completed successfully'"
            ],
            "application/vnd.google.colaboratory.intrinsic+json": {
              "type": "string"
            }
          },
          "metadata": {},
          "execution_count": 19
        }
      ]
    },
    {
      "cell_type": "code",
      "source": [
        "#Check Job Status\n",
        "response = client.fine_tuning.jobs.retrieve(job_id)\n",
        "\n",
        "print(\"Job ID:\", response.id)\n",
        "print(\"Status:\", response.status)\n",
        "print(\"Trained Tokens:\", response.trained_tokens)\n"
      ],
      "metadata": {
        "id": "Xa1mOa6Buy_V",
        "outputId": "af31601b-7ae0-4ab2-9fa3-8533f6b64321",
        "colab": {
          "base_uri": "https://localhost:8080/"
        }
      },
      "execution_count": 20,
      "outputs": [
        {
          "output_type": "stream",
          "name": "stdout",
          "text": [
            "Job ID: ftjob-o9lrnX7dJMwPxlsK6R2rKSpv\n",
            "Status: succeeded\n",
            "Trained Tokens: 22536\n"
          ]
        }
      ]
    },
    {
      "cell_type": "code",
      "source": [
        "#Track Fine-Tuning Endpoints\n",
        "response = client.fine_tuning.jobs.list_events(job_id)\n",
        "\n",
        "events = response.data\n",
        "events.reverse()\n",
        "\n",
        "for event in events:\n",
        "    print(event.message)"
      ],
      "metadata": {
        "id": "pKowy6RTu6J4",
        "outputId": "983e26f1-8a6c-4228-8b7d-9d5e55fae717",
        "colab": {
          "base_uri": "https://localhost:8080/"
        }
      },
      "execution_count": 21,
      "outputs": [
        {
          "output_type": "stream",
          "name": "stdout",
          "text": [
            "Step 28/45: training loss=2.52, validation loss=1.63\n",
            "Step 29/45: training loss=2.46, validation loss=1.37\n",
            "Step 30/45: training loss=1.92, validation loss=1.87\n",
            "Step 31/45: training loss=1.69, validation loss=1.73\n",
            "Step 32/45: training loss=1.49, validation loss=1.90\n",
            "Step 33/45: training loss=2.02, validation loss=2.41\n",
            "Step 34/45: training loss=1.94, validation loss=1.67\n",
            "Step 35/45: training loss=1.61, validation loss=1.47\n",
            "Step 36/45: training loss=1.91, validation loss=1.97\n",
            "Step 37/45: training loss=1.73, validation loss=2.00\n",
            "Step 38/45: training loss=1.97, validation loss=1.91\n",
            "Step 39/45: training loss=2.47, validation loss=1.92\n",
            "Step 40/45: training loss=1.62, validation loss=1.62\n",
            "Step 41/45: training loss=1.87, validation loss=2.46\n",
            "Step 42/45: training loss=2.39, validation loss=1.59\n",
            "Step 43/45: training loss=1.88, validation loss=1.61\n",
            "Step 44/45: training loss=1.61, validation loss=1.36\n",
            "Step 45/45: training loss=1.36, validation loss=1.86\n",
            "New fine-tuned model created: ft:gpt-3.5-turbo-0125:personal:interview-tuned-v1:99llVrMA\n",
            "The job has successfully completed\n"
          ]
        }
      ]
    },
    {
      "cell_type": "code",
      "source": [
        "# When job is done, run to fets fine-tuned model id\n",
        "response = client.fine_tuning.jobs.retrieve(job_id)\n",
        "fine_tuned_model_id = response.fine_tuned_model\n",
        "\n",
        "if fine_tuned_model_id is None:\n",
        "    raise RuntimeError(\"Fine-tuned model ID not found. Your job has likely not been completed yet.\")\n",
        "\n",
        "print(\"Fine-tuned model ID:\", fine_tuned_model_id)"
      ],
      "metadata": {
        "id": "i-NWoL3yu-Dt",
        "outputId": "4a4998c6-0f29-4086-c825-563aad394fdc",
        "colab": {
          "base_uri": "https://localhost:8080/"
        }
      },
      "execution_count": 22,
      "outputs": [
        {
          "output_type": "stream",
          "name": "stdout",
          "text": [
            "Fine-tuned model ID: ft:gpt-3.5-turbo-0125:personal:interview-tuned-v1:99llVrMA\n"
          ]
        }
      ]
    },
    {
      "cell_type": "markdown",
      "source": [
        "## Fine-Tuned Model Testing"
      ],
      "metadata": {
        "id": "Cs6FTeNOvGAq"
      }
    },
    {
      "cell_type": "code",
      "source": [
        "df_interview_dev = pd.read_csv(\"https://raw.githubusercontent.com/UrologyUnbound/SIOP_ML_2024_Discord/main/data/dev/interview_val_public.csv\")"
      ],
      "metadata": {
        "id": "5L3NJx1avEAc"
      },
      "execution_count": null,
      "outputs": []
    },
    {
      "cell_type": "code",
      "source": [
        "test_row = df_interview_dev.iloc[2]\n",
        "\n",
        "test_messages = []\n",
        "test_messages.append({\"role\": \"system\", \"content\": system_message})\n",
        "user_message = create_user_message(test_row)\n",
        "test_messages.append({\"role\": \"user\", \"content\": user_message})\n",
        "\n",
        "pprint(test_messages)"
      ],
      "metadata": {
        "id": "XL02n4VKvaEX",
        "outputId": "9d204c04-25a8-4893-d8c7-a32721d27d7e",
        "colab": {
          "base_uri": "https://localhost:8080/"
        }
      },
      "execution_count": null,
      "outputs": [
        {
          "output_type": "stream",
          "name": "stdout",
          "text": [
            "[{'content': '\\n'\n",
            "             'Your task is to analyze a dataset of interview questions and '\n",
            "             'responses. Based on the content, tone, and details of the '\n",
            "             'provided answers, your task is to \\n'\n",
            "             ' generate a plausible answer for the fourth interview '\n",
            "             'question.\\n',\n",
            "  'role': 'system'},\n",
            " {'content': 'Question: Everyone faces moments of low motivation. Can you '\n",
            "             \"share a story about how you've handled such a moment, including \"\n",
            "             'the steps you took to regain your drive and enthusiasm?\\n'\n",
            "             'Answer: Well currenly i am in a big fight with my roomates over '\n",
            "             'a cat so one thing I did was take a step back went to take a nap '\n",
            "             'and listen to feel good music\\n'\n",
            "             'Question: Going above and beyond is a commendable trait. Can you '\n",
            "             'share a story of a time when you did more than was required, and '\n",
            "             'discuss the impact it had on the project’s outcome?\\n'\n",
            "             'Answer: During my time in young life I was asked to be a student '\n",
            "             'leader but I went past that and actually got to hang out with '\n",
            "             'the high school kids and understand more of there stroys which '\n",
            "             'lead them more to loving christ\\n'\n",
            "             'Question: Describe a situation where you encouraged creativity '\n",
            "             'among your team members.\\n'\n",
            "             'Answer: Sitting in my living room with my friend pumkin carving '\n",
            "             'I know how good of a drawer she is so I told her to do something '\n",
            "             'that will challange her\\n'\n",
            "             'Question: Describe a challenging experience while working within '\n",
            "             'a team. How did you navigate it?\\n',\n",
            "  'role': 'user'}]\n"
          ]
        }
      ]
    },
    {
      "cell_type": "code",
      "source": [
        "response = client.chat.completions.create(\n",
        "    model=fine_tuned_model_id, messages=test_messages, temperature=0, max_tokens=500\n",
        ")\n",
        "print(response.choices[0].message.content)"
      ],
      "metadata": {
        "id": "3ykw65fjwlet",
        "outputId": "7fb23aaa-898c-4c35-9f29-039c9367cd8b",
        "colab": {
          "base_uri": "https://localhost:8080/"
        }
      },
      "execution_count": null,
      "outputs": [
        {
          "output_type": "stream",
          "name": "stdout",
          "text": [
            "I was working with a group of people who were all very strong willed and had a lot of ideas. I was the only one who was not a leader and I was the only one who was not a leader and I was the only one who was not a leader and I was the only one who was not a leader and I was the only one who was not a leader and I was the only one who was not a leader and I was the only one who was not a leader and I was the only one who was not a leader and I was the only one who was not a leader and I was the only one who was not a leader and I was the only one who was not a leader and I was the only one who was not a leader and I was the only one who was not a leader and I was the only one who was not a leader and I was the only one who was not a leader and I was the only one who was not a leader and I was the only one who was not a leader and I was the only one who was not a leader and I was the only one who was not a leader and I was the only one who was not a leader and I was the only one who was not a leader and I was the only one who was not a leader and I was the only one who was not a leader and I was the only one who was not a leader and I was the only one who was not a leader and I was the only one who was not a leader and I was the only one who was not a leader and I was the only one who was not a leader and I was the only one who was not a leader and I was the only one who was not a leader and I was the only one who was not a leader and I was the only one who was not a leader and I was the only one who was not a leader and I was the only one who was not a leader and I was the only one who was not a leader and I was the only one who was not a leader and I was the only one who was not a leader and I was the only one who was not a leader and I was the only one who was not a leader and I was the only one who was not a leader and I was the only one who was not a leader and I was the only one who was not a leader and I was the only one who was not a leader and I was the only one\n"
          ]
        }
      ]
    }
  ]
}